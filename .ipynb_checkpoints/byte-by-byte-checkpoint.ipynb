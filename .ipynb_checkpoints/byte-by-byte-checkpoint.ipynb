{
 "cells": [
  {
   "cell_type": "markdown",
   "metadata": {},
   "source": [
    "#### Week 1"
   ]
  },
  {
   "cell_type": "code",
   "execution_count": null,
   "metadata": {},
   "outputs": [],
   "source": [
    "#Day 2 q1\n",
    "def lengthOfLongestSubstring(self, s: str) -> int:\n",
    "    if s == '':\n",
    "        return 0\n",
    "    char_locs = dict()\n",
    "    start = 0\n",
    "    ans = 0\n",
    "    for i in range(len(s)):\n",
    "        if s[i] in char_locs and char_locs[s[i]] >= start:\n",
    "            start = char_locs[s[i]] + 1\n",
    "        else:\n",
    "            ans = max(ans, i-start+1)    \n",
    "        char_locs[s[i]] = i\n",
    "\n",
    "    return ans"
   ]
  },
  {
   "cell_type": "code",
   "execution_count": null,
   "metadata": {},
   "outputs": [],
   "source": [
    "#Day 2 q2\n",
    "def findAnagrams(self, s: str, p: str) -> List[int]:\n",
    "    cnt = []\n",
    "    srt = sorted(p)\n",
    "    for i in range(len(s)-len(p)+1):\n",
    "        if sorted(s[i:(i+len(p))]) == srt:\n",
    "            cnt.append(i)\n",
    "    return cnt"
   ]
  },
  {
   "cell_type": "code",
   "execution_count": null,
   "metadata": {},
   "outputs": [],
   "source": [
    "#Day 3 q1\n",
    "from collections import deque\n",
    "class MyStack:\n",
    "\n",
    "    def __init__(self):\n",
    "        \"\"\"\n",
    "        Initialize your data structure here.\n",
    "        \"\"\"\n",
    "        self.queue = deque()\n",
    "        self.size = 0\n",
    "\n",
    "    def push(self, x: int) -> None:\n",
    "        \"\"\"\n",
    "        Push element x onto stack.\n",
    "        \"\"\"\n",
    "        self.size += 1\n",
    "        self.queue.append(x)\n",
    "        # rotate n-1 times\n",
    "        for i in range(self.size-1):\n",
    "            x = self.queue.popleft()\n",
    "            self.queue.append(x)\n",
    "\n",
    "    def pop(self) -> int:\n",
    "        \"\"\"\n",
    "        Removes the element on top of the stack and returns that element.\n",
    "        \"\"\"\n",
    "        if self.size > 0:\n",
    "            x = self.queue.popleft()\n",
    "            self.size -= 1\n",
    "            return x\n",
    "        else:\n",
    "            return None\n",
    "\n",
    "    def top(self) -> int:\n",
    "        \"\"\"\n",
    "        Get the top element.\n",
    "        \"\"\"\n",
    "        x = self.pop()\n",
    "        if x != None:\n",
    "            self.push(x)\n",
    "        return x\n",
    "\n",
    "    def empty(self) -> bool:\n",
    "        \"\"\"\n",
    "        Returns whether the stack is empty.\n",
    "        \"\"\"\n",
    "        if self.queue:\n",
    "            return False\n",
    "        else:\n",
    "            return True"
   ]
  },
  {
   "cell_type": "code",
   "execution_count": null,
   "metadata": {},
   "outputs": [],
   "source": [
    "# Day 3 q2\n",
    "# reverse a linked list, in place\n",
    "class Solution:\n",
    "    def reverseList(self, head: ListNode) -> ListNode:\n",
    "        h, _ = self.helper(head)\n",
    "        return h\n",
    "    def helper(self, head):\n",
    "        if head == None:\n",
    "            return None, None\n",
    "        elif head.next == None:\n",
    "            return head, head\n",
    "        else:\n",
    "            nxt, end = self.helper(head.next)\n",
    "            end.next = head\n",
    "            head.next = None\n",
    "            return nxt, head\n"
   ]
  },
  {
   "cell_type": "code",
   "execution_count": null,
   "metadata": {},
   "outputs": [],
   "source": [
    "#Day 4 q1: I was really stuck and had to use the Leetcode solution\n",
    "class Solution:\n",
    "    def diameterOfBinaryTree(self, root):\n",
    "        self.ans = 1\n",
    "        def depth(node):\n",
    "            if not node: return 0\n",
    "            L = depth(node.left)\n",
    "            R = depth(node.right)\n",
    "            self.ans = max(self.ans, L+R+1)\n",
    "            return max(L, R) + 1\n",
    "\n",
    "        depth(root)\n",
    "        return self.ans - 1"
   ]
  },
  {
   "cell_type": "code",
   "execution_count": null,
   "metadata": {},
   "outputs": [],
   "source": [
    "#Day 4 q2: I was really stuck and had to use the Leetcode solution\n",
    "    def isBipartite(self, graph):\n",
    "        color = {}\n",
    "        def dfs(pos):\n",
    "            for i in graph[pos]:\n",
    "                if i in color:\n",
    "                    if color[i] == color[pos]:\n",
    "                        return False\n",
    "                else:\n",
    "                    color[i] = 1 - color[pos]\n",
    "                    if not dfs(i):\n",
    "                        return False\n",
    "            return True\n",
    "        for i in range(len(graph)):\n",
    "            if i not in color:\n",
    "                color[i] = 0\n",
    "                if not dfs(i):\n",
    "                    return False\n",
    "        return True"
   ]
  },
  {
   "cell_type": "code",
   "execution_count": null,
   "metadata": {},
   "outputs": [],
   "source": [
    "#Day 5, q1: power set\n",
    "class Solution:\n",
    "    def subsets(self, nums: List[int]) -> List[List[int]]:\n",
    "        if len(nums) == 0:\n",
    "            return [[]]\n",
    "        if len(nums) == 1:\n",
    "            return [nums, []]\n",
    "        else:\n",
    "            ans = []\n",
    "            tmp = self.subsets(nums[1:])\n",
    "            for x in tmp:\n",
    "                ans.append(x)\n",
    "                ans.append([nums[0]]+x)\n",
    "            return ans"
   ]
  },
  {
   "cell_type": "code",
   "execution_count": null,
   "metadata": {},
   "outputs": [],
   "source": [
    "#Day 5, q2: coin change\n",
    "class Solution:\n",
    "    def coinChange(self, coins: List[int], amount: int) -> int:\n",
    "        N = [0] * (amount + 1)\n",
    "        N[0] = 0\n",
    "        for i in range(1, amount + 1):\n",
    "            min_c = -1\n",
    "            for x in coins:\n",
    "                if i >= x and N[i - x] >= 0:\n",
    "                    if min_c == -1 or min_c > N[i - x]:\n",
    "                        min_c = N[i - x]\n",
    "            if min_c == -1:\n",
    "                N[i] = -1\n",
    "            else:\n",
    "                N[i] = min_c + 1\n",
    "        return N[amount]"
   ]
  },
  {
   "cell_type": "code",
   "execution_count": null,
   "metadata": {},
   "outputs": [],
   "source": [
    "#Day 6, q1: search in rotated array\n",
    "class Solution:\n",
    "    def search(self, nums: List[int], target: int) -> int:\n",
    "        if not nums:\n",
    "            return -1\n",
    "        \n",
    "        #search where its sorted\n",
    "        s = 0\n",
    "        e = len(nums) - 1\n",
    "        while s < e:\n",
    "            mid = s + (e-s) // 2\n",
    "            if nums[mid] == target:\n",
    "                return mid\n",
    "            else:\n",
    "                #check if left side is sorted\n",
    "                if nums[s] <= nums[mid]:\n",
    "                    if target >= nums[s] and target < nums[mid]:\n",
    "                        e = mid - 1\n",
    "                    else:\n",
    "                        s = mid + 1\n",
    "                else: # hence right side is sorted\n",
    "                    if target <= nums[e] and target > nums[mid]:\n",
    "                        s = mid + 1\n",
    "                    else:\n",
    "                        e = mid - 1\n",
    "        #return -1\n",
    "        if nums[s] == target:\n",
    "            return s\n",
    "        else:\n",
    "            return -1"
   ]
  },
  {
   "cell_type": "code",
   "execution_count": null,
   "metadata": {},
   "outputs": [],
   "source": [
    "#Day 6, q2: Hamming weight of string\n",
    "class Solution:\n",
    "    def hammingWeight(self, n: int) -> int:\n",
    "        weight = 0\n",
    "        # pwr = 1\n",
    "        # for i in range(32):\n",
    "        #     weight += n & pwr\n",
    "        #     pwr = pwr << 1\n",
    "        bin_str = bin(n).split('b')[1]\n",
    "        for x in bin_str:\n",
    "            if x == '1':\n",
    "                weight += 1\n",
    "        return weight"
   ]
  },
  {
   "cell_type": "markdown",
   "metadata": {},
   "source": [
    "#### Week 2\n",
    "##### Day 1\n",
    "1. Write down your assumptions about the problem. What, if anything, are you assuming about the input or output? Were you given any specific information (ie. the input is sorted)?\n",
    "2. Work through the given examples. Verify how these inputs actually lead to the desired output.\n",
    "3. Write at least 2 sample inputs of your own and test them. Try to write tests that will hit on potential edge cases.\n",
    "4. Write the function signature. Be sure to define the type of the input and the output. If you're using a dynamically typed language, you should still be clear on the expected input and output type."
   ]
  },
  {
   "cell_type": "markdown",
   "metadata": {},
   "source": [
    "Day1, problem 1 maximum subset array sum\n",
    "1. assuming an array of real numbers, not sorted\n",
    "2. [-3,-2,1,3] --> answer is [1,3],i.e., 1+3=4. \n",
    "3. [-4,2,3,-5,-7,100], [1,-2,3,-4,5,-6]\n",
    "4. def maxsubarr(x: List(float)) -> float"
   ]
  },
  {
   "cell_type": "markdown",
   "metadata": {},
   "source": [
    "Day1, problem 2 count islands\n",
    "1. assuming a rectangular array of 0 and 1, no funny symbols\n",
    "2. [[0,1,0,0],[1,0,1,1]] --> answer is 3 islands\n",
    "3. [[0,1,0,0],[1,0,1,1]], [[0,0,0,0]] edge cases\n",
    "4. def num_islands(x: List(List(int))) -> int"
   ]
  },
  {
   "cell_type": "markdown",
   "metadata": {},
   "source": [
    "Day1, problem 3: climbing stairs\n",
    "1. assuming an integer >= 1\n",
    "2. 2: there are 2 ways to do 2 steps\n",
    "3. edge cases n=0 and n=1\n",
    "4. def climb_stairs(x: int) -> int"
   ]
  },
  {
   "cell_type": "markdown",
   "metadata": {},
   "source": [
    "Day1, problem 4: merge overlapping intervals\n",
    "1. assuming a list of 2 element lists\n",
    "2. [1,4], [3,8], [19,25] --> answer is [1,8], [19.25]\n",
    "3. edge cases: empty list [], [[1,2],[1.5,4],[3,7],[-3,10]]\n",
    "4. def merge_overlapping(x: List(List_2(float))) -> maxsubarr(x: List(List_2(float)))"
   ]
  },
  {
   "cell_type": "markdown",
   "metadata": {},
   "source": [
    "Day1, problem 5 max binary tree depth\n",
    "1. assuming a tree with a node class defined (node: val, left: another node, right: another node)\n",
    "2.\n",
    "          []\n",
    "        []  []\n",
    "               [] answer is 3 here   \n",
    "3. edge test cases: tree with only right children, like \n",
    "[]\n",
    "    []\n",
    "        []\n",
    "            []\n",
    "   another edge case: empty tree\n",
    "4. def (root: Node) -> int function signature"
   ]
  },
  {
   "cell_type": "markdown",
   "metadata": {},
   "source": [
    "##### Day 2\n",
    "1. Write down your assumptions about the problem. What, if anything, are you assuming about the input or output? Were you given any specific information (ie. the input is sorted)?\n",
    "2. Work through the given examples. Verify how these inputs actually lead to the desired output.\n",
    "3. Write at least 2 sample inputs of your own and test them. Try to write tests that will hit on potential edge cases.\n",
    "4. Write the function signature. Be sure to define the type of the input and the output. If you're using a dynamically typed language, you should still be clear on the expected input and output type."
   ]
  },
  {
   "cell_type": "markdown",
   "metadata": {},
   "source": [
    "Linked list find cycles\n",
    "1. input linked list, output boolean\n",
    "2. [a] -> [b] -> [c] -> [d] -|\n",
    "           |-----------------|  \n",
    "   go back from d to b\n",
    "3. edge cases: empty linked list and \"loops back to the first element in the linked list\"\n",
    "4. def hasCycle(x: LinkedList) -> boolean "
   ]
  },
  {
   "cell_type": "markdown",
   "metadata": {},
   "source": [
    "Buy or sell stock\n",
    "1. input list, output max profit (and has to be greater than or equal to 0)\n",
    "2. [1,2,4,7,8] -> buy on day 1 and sell on day 5\n",
    "3. edge cases: stock just keeps going down [7,6,5,4,2] (so 0 max profit)\n",
    "4. def maxProfit(x: List) -> float (should be a non-negative profit)"
   ]
  },
  {
   "cell_type": "markdown",
   "metadata": {},
   "source": [
    "maximum subset sum\n",
    "O(n^2) solution\n",
    "go through the array, have 2 pointers i and j; i iterates through the array and j goes from i to the end of the array and calculates the sum, keep track of the max of all the subset sums"
   ]
  },
  {
   "cell_type": "markdown",
   "metadata": {},
   "source": [
    "number of islands: from each element in the 2d array that is 1, see the size of the island you can create by exploring everywhere around. Keep flagging the visited entries by changing their color. When done update the number of islands by 1, then move to the next island. O(m^2 n^2)"
   ]
  },
  {
   "cell_type": "markdown",
   "metadata": {},
   "source": [
    "##### Day 3"
   ]
  },
  {
   "cell_type": "markdown",
   "metadata": {},
   "source": [
    "climbing stairs: iterate index i through the number of 2 steps from 0 to floor(n/2). The remaining count (call it j) is the number of 1 steps.\n",
    "for each i use combinatorics to figure out how many ways you could arrange i 2s and j 1s in an array. Answer is (i+j) choose i.\n",
    "Add up all these cases to get the total number of ways."
   ]
  },
  {
   "cell_type": "markdown",
   "metadata": {},
   "source": [
    "merge intervals: for each interval check how many intervals overlap; whenever an interval overlaps, drop that interval and replace the original interval with the merged interval. Then repeat the process. If no interval can be merged, skip to the next interval. Should take O(n^2) time complexity."
   ]
  },
  {
   "cell_type": "markdown",
   "metadata": {},
   "source": [
    "1. Identify the time and space complexity\n",
    "2. Identify the Best Conceivable Runtime and Space\n",
    "3. Brainstorm and experiment with different ways to optimize the solution (I recommend you refer back to the slides)\n",
    "4. Write up a plain-English description of your solution. This should be detailed enough that you can read through it once and immediately know how to code up the solution. We will be doing this in a few days.\n",
    "\n",
    "\n",
    "maximum sum subarray: \n",
    "brute force solution O(n^2)\n",
    "O(n) BCR\n",
    "optimizing the brute force solution: the ideas that come to my mind are to somehow eliminate repetitions to reduce the search time from O(n^2) to O(n). I need to be able to discard starting indices if they are not helping. That is, if the sum of the array till now just went negative we must discard that portion of the array because no starting index in that subarray can give us a better solution (assuming we keep track of maxima)\n",
    "my solution: go through the array and keep summing till its positive and keep track of maxima too. If sum goes below 0, then reset start index and start summing again."
   ]
  },
  {
   "cell_type": "markdown",
   "metadata": {},
   "source": [
    "##### Day 4"
   ]
  },
  {
   "cell_type": "markdown",
   "metadata": {},
   "source": [
    "brute force maximum tree depth: go to the root node, evaluate all the possible paths and count the depth for each path O(n 2 ^ n) where n is the number of nodes in the tree\n",
    "\n",
    "brute force linked list cycles: O(n^2) have 2 pointers, make 1 pointer head and run the other pointer around to see if it comes back to pointer one. Do this for every position in the linked list.\n"
   ]
  },
  {
   "cell_type": "markdown",
   "metadata": {},
   "source": [
    "number of islands:\n",
    "1. O(m^2 n^2) \n",
    "2. worst case O(mn): have to scan through the entire array\n",
    "3. somehow not have to restart the sinking part from each spot in the 2d array, sinking one searches in the graph and eliminates all the other surrounding guys\n",
    "4. do a DFS at every node and make sure you don't count again any of the children of a node\n"
   ]
  },
  {
   "cell_type": "markdown",
   "metadata": {},
   "source": [
    "climbing stairs\n",
    "simply count up all the solutions of the problem for each \"number of 2 steps\". Use combinatorics, x+2y=n.\n",
    "For each y: 0 to floor(n/2), add up (x+y) choose y where x = n-2y"
   ]
  },
  {
   "cell_type": "markdown",
   "metadata": {},
   "source": [
    "##### Day 5"
   ]
  },
  {
   "cell_type": "markdown",
   "metadata": {},
   "source": [
    "buy and sell stock:\n",
    "\n",
    "brute force: there are O(n^2) combinations of buy and sell dates, so I could try them all out and see which combination gives me the best profit. I will define 2 pointers  and have 2 for loops go through the 2 pointers, and then subtract the values at those pointers to know the profit. Also I need to make sure that the second pointer is larger than the first pointer."
   ]
  },
  {
   "cell_type": "markdown",
   "metadata": {},
   "source": [
    "max binary tree depth:\n",
    "1. O(n 2^n) where n is the number of nodes in the tree \n",
    "2. BCR: O(n) where n is the number of nodes in the tree, space O(1)\n",
    "3. it seems I need to use recursion for sure. The max depth of a tree is 1 + max of the max depths of the 2 subtrees.\n",
    "4. do a recursive call: if empty node return 0; else return 1+ max(ans from left, and from right). This should work and seems intuitively simple to code up.\n"
   ]
  },
  {
   "cell_type": "markdown",
   "metadata": {},
   "source": [
    "linked list cycles:\n",
    "1. O(n^2) where n is the number of nodes in the linked list; O(1) space\n",
    "2. BCR: O(n) where n is the number of nodes in the list, space O(1)\n",
    "3. it seems I need to use a method where both pointers run independently and I don't have to reinitialize the second pointer and run it through the linked list again and again. The second pointer should somehow traverse the list in such a way that it automatically meets the first pointer no matter where the first pointer is. \n",
    "4. I had to use the fast pointer trick ultimately: for each step of the slow pointer (i.e., the first pointer), the second pointer moves 2 steps. Eventually the 2 pointers have to meet. I have a math proof for this too. :)\n"
   ]
  },
  {
   "cell_type": "markdown",
   "metadata": {},
   "source": [
    "##### Day 6"
   ]
  },
  {
   "cell_type": "markdown",
   "metadata": {},
   "source": [
    "merge intervals:\n",
    "1. O(n^2) where n is the number of intervals in the list; O(1) space\n",
    "2. BCR: O(n) where n is the number of nodes in the list, space O(1)\n",
    "3. I know sorting the intervals by start times should help. Once I sort by start time, I could use O(n) space to create a linked list of these sorted intervals. If for [s1,f1] and [s2, f2], s1 < s2 and s2 < f1, then I delete the interval [s2, f2] and modify f1 to f2. I keep doing this and in case I can't merge an interval with its next neighbor then I hop to the next interval. Finally scan through the linked list and spit out the intervals.\n",
    "4. The above mentioned algo takes O(n) space and O(n log n) time. Any way merge sort takes O(n) space, so the extra O(n) space to be allotted to creating the linked list is not a problem. "
   ]
  },
  {
   "cell_type": "markdown",
   "metadata": {},
   "source": [
    "buy and sell stock:\n",
    "1. O(n^2) where n is the number of days\n",
    "2. BCR: O(n) where n is the number of days, O(1) time\n",
    "3. Let me visualize this as a graph of ups and downs essentially any plot of stocks over time cann be split into increasing and decreasing regions. As soon as an increase begins we can hope to get a good profit. So we can scan through the array, as soon as we hit an increasing part of the array we activate our tracking, go as long as things move up, and they moment they go down we subtract the 2 extremes of the array and that's our profit for that increasing region of the plot of stocks over time. We can keep updating such \"max profits\" and then spit out the max of all these candidate profits. Need only O(1) space to store the answer. \n",
    "4. The above mentioned algo takes O(1) space and O(n) time. I will need a while loop to go through the array and then keep doing this till I hit the end of the array."
   ]
  },
  {
   "cell_type": "code",
   "execution_count": 9,
   "metadata": {},
   "outputs": [],
   "source": [
    "def max_sum_subarray(arr):\n",
    "    if not arr:\n",
    "        return 0\n",
    "    n = len(arr)\n",
    "    best = 0\n",
    "    tot = 0\n",
    "    i = 0\n",
    "    for i in range(n):\n",
    "        tot += arr[i]\n",
    "        best = max(best, tot)\n",
    "        if tot < 0:\n",
    "            tot = 0\n",
    "    return best\n",
    "\n",
    "\n",
    "#my test examples\n",
    "#[-3,-2,1,3] --> answer is [1,3],i.e., 1+3=4.\n",
    "#[-4,2,3,-5,-7,100] --> answer is 100\n",
    "#[1,-2,3,-4,5,-6]  ---> answer is 5\n",
    "\n",
    "\n",
    "\n",
    "#no bugs, yay!    \n",
    "    "
   ]
  },
  {
   "cell_type": "code",
   "execution_count": 10,
   "metadata": {},
   "outputs": [
    {
     "name": "stdout",
     "output_type": "stream",
     "text": [
      "4\n"
     ]
    }
   ],
   "source": [
    "print(max_sum_subarray([-3,-2,1,3]))"
   ]
  },
  {
   "cell_type": "code",
   "execution_count": 11,
   "metadata": {},
   "outputs": [
    {
     "name": "stdout",
     "output_type": "stream",
     "text": [
      "100\n"
     ]
    }
   ],
   "source": [
    "print(max_sum_subarray([-4,2,3,-5,-7,100])) #passed!"
   ]
  },
  {
   "cell_type": "code",
   "execution_count": 12,
   "metadata": {},
   "outputs": [
    {
     "name": "stdout",
     "output_type": "stream",
     "text": [
      "5\n"
     ]
    }
   ],
   "source": [
    "print(max_sum_subarray([1,-2,3,-4,5,-6])) #passed!"
   ]
  },
  {
   "cell_type": "code",
   "execution_count": 26,
   "metadata": {},
   "outputs": [],
   "source": [
    "def num_islands(grid): #grid is m * n , list of m lists, each sublist has n elements\n",
    "    if not grid:\n",
    "        return 0\n",
    "    m = len(grid)\n",
    "    n = len(grid[0])\n",
    "    if n == 0:\n",
    "        return 0\n",
    "    for i in range(1,m):\n",
    "        if len(grid[i]) != n:\n",
    "            return 0\n",
    "    locs = set()\n",
    "    for i in range(m):\n",
    "        for j in range(n):\n",
    "            if grid[i][j] == 1: #bug here: wrote grid as arr!\n",
    "                locs.add((i,j))\n",
    "    cnt = 0\n",
    "        \n",
    "    def removal(loc):\n",
    "        if loc in locs:\n",
    "            i, j = loc[0], loc[1]\n",
    "            locs.remove((i,j)) #bug: didn't define (i,j)\n",
    "            removal((i+1,j))\n",
    "            removal((i-1,j))\n",
    "            removal((i,j+1))\n",
    "            removal((i,j-1))\n",
    "            \n",
    "    while locs:\n",
    "        x = locs.pop()\n",
    "        cnt += 1\n",
    "        locs.add(x)\n",
    "        removal(x) #bug: wrote loc instead of x!\n",
    "        \n",
    "    return cnt\n",
    "\n",
    "# [[0,1,0,0],[1,0,1,1]] --> answer is 3 islands\n",
    "# [[0,0,0,0]] edge cases"
   ]
  },
  {
   "cell_type": "code",
   "execution_count": 27,
   "metadata": {},
   "outputs": [
    {
     "data": {
      "text/plain": [
       "3"
      ]
     },
     "execution_count": 27,
     "metadata": {},
     "output_type": "execute_result"
    }
   ],
   "source": [
    "num_islands([[0,1,0,0],[1,0,1,1]]) #passed!"
   ]
  },
  {
   "cell_type": "code",
   "execution_count": 29,
   "metadata": {},
   "outputs": [
    {
     "data": {
      "text/plain": [
       "0"
      ]
     },
     "execution_count": 29,
     "metadata": {},
     "output_type": "execute_result"
    }
   ],
   "source": [
    "num_islands([[0,0,0,0]]) #passed!"
   ]
  },
  {
   "cell_type": "markdown",
   "metadata": {},
   "source": [
    "#### Week 3\n",
    "##### Day 1\n"
   ]
  },
  {
   "cell_type": "code",
   "execution_count": 1,
   "metadata": {},
   "outputs": [],
   "source": [
    "def stairs(n):\n",
    "    # use DP\n",
    "    if n == 0:\n",
    "        return 0\n",
    "    if n == 1:\n",
    "        return 1\n",
    "    if n == 2:\n",
    "        return 2\n",
    "    if n > 2:\n",
    "        ans = [0] * n\n",
    "        ans[0], ans[1] = 1, 2 \n",
    "        for i in range(2,n):\n",
    "            ans[i] = ans[i-1] + ans[i-2]\n",
    "        return ans[n-1]"
   ]
  },
  {
   "cell_type": "code",
   "execution_count": 15,
   "metadata": {},
   "outputs": [
    {
     "name": "stdout",
     "output_type": "stream",
     "text": [
      "[0, 1, 2, 3, 5, 8, 13, 21, 34, 55]\n"
     ]
    }
   ],
   "source": [
    "print([stairs(i) for i in range(10)])"
   ]
  },
  {
   "cell_type": "code",
   "execution_count": 14,
   "metadata": {},
   "outputs": [
    {
     "data": {
      "text/plain": [
       "[[1, 4], [6, 10]]"
      ]
     },
     "execution_count": 14,
     "metadata": {},
     "output_type": "execute_result"
    }
   ],
   "source": [
    "class node:\n",
    "    def __init__(self, start=None, end=None):\n",
    "        self.next = None\n",
    "        self.start = start\n",
    "        self.end = end\n",
    "def merge(arr):\n",
    "    s = sorted(arr, key=lambda x: x[0])\n",
    "    head = node(None, None)\n",
    "    prev = head\n",
    "    for x in arr:\n",
    "        prev.next = node(x[0], x[1])\n",
    "        prev = prev.next\n",
    "    head = head.next\n",
    "    \n",
    "    curr = head\n",
    "    while curr.next != None:\n",
    "        if curr.end >= curr.next.start:\n",
    "            curr.end = curr.next.end\n",
    "            curr.next = curr.next.next\n",
    "        else:\n",
    "            curr = curr.next\n",
    "    ans = []\n",
    "    x = head\n",
    "    while x != None:\n",
    "        ans.append([x.start, x.end])\n",
    "        x = x.next\n",
    "    return ans  \n",
    "        \n",
    "merge([[1,2], [1.5,4], [6,8], [8,10], [8.1, 10]])        "
   ]
  },
  {
   "cell_type": "markdown",
   "metadata": {},
   "source": [
    "##### Day 2\n"
   ]
  },
  {
   "cell_type": "markdown",
   "metadata": {},
   "source": [
    "1. Maximum Sum Subarray ( Leetcode )\n",
    "In the brute force solution, I was going through each possible start and end index. This is duplicate work. If I find a subarray summing to a negative number, I should immediately discard it and reset my index. This will help me eliminate a lot of duplicate cases.\n",
    "2. Climbing Stairs ( Leetcode )\n",
    "I was thinking of using combinatorics and then summing up. But then evaluating each number, viz. n-1C1, n-2C2 and so on makes the algo O(n^2). But then I realized that DP could come to the rescue. Because the number of ways to reach n is the sum of the number of ways to reach n-1 and n-2. The last step can only be one of 1 or 2. \n",
    "3. Merge Intervals ( Leetcode )\n",
    "Sorting the array can save a lot of time. Because if 2 arrays can be merged, they gotta be a consecutive chunk in a list of intervals sorted by start times. This adds O(nlog n ) to the time complexity, but then pruning the redundant intervals becomes O(n).\n",
    "4. Buy and Sell Stock ( Leetcode )\n",
    "Here again I could reduce run time to O(n) by looking only at the increasing subintervals and seeing the max rise of the stock price. I could track the min and the max of the prices, but make sure the max is for the array after min, i.e., I don't want to count elements that have a higher value but come before the min value. I could do something like the maxsum subarray problem where I drop all the previous start index candidates as soon as I encounter a negative number. "
   ]
  },
  {
   "cell_type": "markdown",
   "metadata": {},
   "source": [
    "##### Day 3\n"
   ]
  },
  {
   "cell_type": "code",
   "execution_count": 16,
   "metadata": {},
   "outputs": [],
   "source": [
    "#max height\n",
    "class Node:\n",
    "    def __init__(self, val):\n",
    "        self.left = None\n",
    "        self.right = None\n",
    "        self.val = val\n",
    "def maxbtreedepth(root):\n",
    "    if root == None:\n",
    "        return 0\n",
    "    else:\n",
    "        return 1+max(maxbtreedepth(root.left), maxbtreedepth(root.right))"
   ]
  },
  {
   "cell_type": "code",
   "execution_count": 17,
   "metadata": {},
   "outputs": [],
   "source": [
    "#linked list cycles\n",
    "def hasCycle(head):\n",
    "    if not head:\n",
    "        return False\n",
    "    if head.next == None:\n",
    "        return False\n",
    "    slow = head.next\n",
    "    fast = head.next.next\n",
    "    while fast != None and slow != fast:\n",
    "        slow = slow.next\n",
    "        fast = fast.next\n",
    "        if fast.next == None: #check fast too! That could be null!\n",
    "            break\n",
    "        else:\n",
    "            fast = fast.next #do the next step only if there is an element\n",
    "    if fast == None: #wrong checking condition, should have checked fast == slow (but why?)\n",
    "        return False\n",
    "    else:\n",
    "        return True"
   ]
  },
  {
   "cell_type": "code",
   "execution_count": null,
   "metadata": {},
   "outputs": [],
   "source": [
    "#buy and sell stock\n",
    "def bestProfit(stocks):\n",
    "    if len(stocks) == 0:\n",
    "        return 0\n",
    "    min_ind = 0\n",
    "    maxProfit = 0\n",
    "    for i in range(1,len(stocks)):\n",
    "        if stocks[i]-stocks[min_ind] < 0:\n",
    "            min_ind = i\n",
    "        else:\n",
    "            maxProfit = max(maxProfit, stocks[i]-stocks[min_ind])\n",
    "    return maxProfit"
   ]
  },
  {
   "cell_type": "markdown",
   "metadata": {},
   "source": [
    "##### Day 4\n",
    "1. Compute the Best Conceivable Runtime (BCR) for the problem\n",
    "a. Identify any bottlenecks\n",
    "b. Identify any unnecessary work\n",
    "c. Identify any duplicated work\n",
    "2. Draw on you preexisting knowledge plus what you've just come up with to try to find the\n",
    "most optimal solution you can to the problem"
   ]
  },
  {
   "cell_type": "markdown",
   "metadata": {},
   "source": [
    "**Longest consecutive subsequence:**\n",
    "\n",
    "BCR O(n) you need to look at least once at the array elements\n",
    "\n",
    "BUD: sorting will take n log n time for sure, but may be there is a way to escape sorting by using more space or keeping track of consecutive elements encountered. Create a hash set, pick elements at random and go left and right, see how far you can go left and right and still be in the set, take the maximum of all such max subsequences."
   ]
  },
  {
   "cell_type": "markdown",
   "metadata": {},
   "source": [
    "**Longest Palindromic Substring**\n",
    "\n",
    "BCR O(n) you need to look at all the elements in the string\n",
    "\n",
    "BUD: if i to j is not a palindrome, then i-k to j+k can't be a palindrome for any k >= 1\n",
    "(was really stuck, so had to look Leetcode for inspiration)\n",
    "DP can save us from unnecessary work: to know if i to j (inclusive) is a palindrome, we can look at i+1 to j-1 (assuming j-i >= 2). If i=j then obviously we have a palindrome. If i+1=j then we just need to check if a[i]==a[j]."
   ]
  },
  {
   "cell_type": "markdown",
   "metadata": {},
   "source": [
    "**Merge k sorted lists**\n",
    "\n",
    "BCR: O(km) where each list is of size O(m)\n",
    "\n",
    "BUD: putting all in a big array and sorting takes O(km log(km)). But we could save more time by utilizing the fact these k arrays are already sorted. We could do a \"merge sort\" over arrays, where each merging is actually a merging of sorted arrays. This seems intuitive as we could imagine these arrays being the intermediate step of a merge sort on a very big array of size O(km). The time with this algorithm will be O(kmlog(k)), which is less than O(kmlog(km))."
   ]
  },
  {
   "cell_type": "markdown",
   "metadata": {},
   "source": [
    "##### Day 5\n",
    "1. Compute the Best Conceivable Runtime (BCR) for the problem\n",
    "a. Identify any bottlenecks\n",
    "b. Identify any unnecessary work\n",
    "c. Identify any duplicated work\n",
    "2. Draw on you preexisting knowledge plus what you've just come up with to try to find the\n",
    "most optimal solution you can to the problem"
   ]
  },
  {
   "cell_type": "markdown",
   "metadata": {},
   "source": [
    "**LRU Cache**\n",
    "\n",
    "BCR: O(1) get, O(1) put\n",
    "\n",
    "BUD: In the brute force solution we have to spend O(n) time looking up the element in the list or removing the element from the list. A dictionary is helpful and gets in O(1) time, but then somehow the element should be made the most recent because it was just accessed. \"put\" can also happen in O(1) time in a dictionary, which is basically doing a get and then modifying the value. However we need to be able to pick an element from the middle of a list and then move it to the end of the list in O(1) time. When capacity overflows, the oldest element (first member of a list, let us say) has to be removed, but in O(1) time. We could have a doubly linked list such that each key points to a node of the linked list. We could delete and push the element accessed using get and put to the end of the list. We could also store the head of the doubly linked list and then chop off the head when the capacity is exceeded. It seems the OrderedDict() class does this in Python, so no worries. "
   ]
  },
  {
   "cell_type": "markdown",
   "metadata": {},
   "source": [
    "**Generate Parentheses**\n",
    "\n",
    "BCR: O(4^n) these many parentheses exist\n",
    "\n",
    "BUD: rather than generating all combinations we could recursively build upon previous solutions for smaller number of cases. Maybe I should look at all the possibilities: S(n) = Union of ()+S(n-2)+(), ()+S(n-1), S(n-1)+(), (+S(n-1)+)\n",
    "The issue is that there is overlap between these sets, making it difficult to use dynamic programming in the usual sense. We need to come up with a way to count things disjointly. After taking some inspiration from Leetcode, I realized that each solution can be broken down into (+S(i)+)+S(n-1-i) where i could go from 0 to n-1\n"
   ]
  },
  {
   "cell_type": "markdown",
   "metadata": {},
   "source": [
    "##### Day 6\n",
    "1. Compute the Best Conceivable Runtime (BCR) for the problem\n",
    "a. Identify any bottlenecks\n",
    "b. Identify any unnecessary work\n",
    "c. Identify any duplicated work\n",
    "2. Draw on you preexisting knowledge plus what you've just come up with to try to find the\n",
    "most optimal solution you can to the problem"
   ]
  },
  {
   "cell_type": "markdown",
   "metadata": {},
   "source": [
    "**Median of sorted arrays**\n",
    "\n",
    "BCR: O(m+n) where m and n are the sizes of the 2 arrays. \n",
    "\n",
    "BUD: If we merge it takes O(m+n), then sorting takes O((m+n)log(m+n)). But we are not using the property that the arrays are sorted. Although we know that if the median is the kth element of one array, then (n+m)/2-k in the second array have to be less than or equal to the kth element. If we overshoot the median mark, then this property will be violated. So in O(max(m,n)) time we could find the median point in each of the 2 arrays."
   ]
  },
  {
   "cell_type": "markdown",
   "metadata": {},
   "source": [
    "**Word Break**\n",
    "\n",
    "BCR: O(m) + O(V), where V is the size of the voabulary (also including the length of each word in the vocabulary), and m is the length of the string to be broken up. \n",
    "\n",
    "BUD: Trying every possible way to break a string up is very expensive. It is like partitioning an array into multiple parts. The answer is approximately a sum of n choose 0, n+1 choose 1, n+2 choose 2 and so on till 2n-1 choose n-1, which is exponential. Better to use dynamic programming. We define O(j) to be a boolean telling us if j to the end of the string can be broken up. To calculate O(j-1, n), we can use the following DP relation:\n",
    "O(j-1, n) = (O(j,n) & j-1:j in vocab) | (O(j+1,n)  & j-1:j+1 in vocab)| ... | (O(n-1,n) & j-1:n-1 in vocab)\n",
    "This takes O(n) per iteration. Overall we need O(n^2) time and O(n^2) space. \n",
    "\n",
    "Much better than exponential :)"
   ]
  },
  {
   "cell_type": "code",
   "execution_count": null,
   "metadata": {},
   "outputs": [],
   "source": []
  }
 ],
 "metadata": {
  "kernelspec": {
   "display_name": "Python 3",
   "language": "python",
   "name": "python3"
  },
  "language_info": {
   "codemirror_mode": {
    "name": "ipython",
    "version": 3
   },
   "file_extension": ".py",
   "mimetype": "text/x-python",
   "name": "python",
   "nbconvert_exporter": "python",
   "pygments_lexer": "ipython3",
   "version": "3.7.6"
  }
 },
 "nbformat": 4,
 "nbformat_minor": 4
}
