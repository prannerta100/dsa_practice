{
 "cells": [
  {
   "cell_type": "code",
   "execution_count": 21,
   "metadata": {},
   "outputs": [],
   "source": [
    "# quick sort\n",
    "# arr assign pivot, do partition, send first and second halves to quick sort\n",
    "# in place\n",
    "\n",
    "def QuickSort(arr):\n",
    "    def sort(low, high):\n",
    "        if low >= high:\n",
    "            return None\n",
    "        pivot = arr[high]\n",
    "        #partition, \n",
    "        i = low - 1\n",
    "        for j in range(low, high):\n",
    "            if arr[j] <= pivot:\n",
    "                i += 1\n",
    "                tmp = arr[i]\n",
    "                arr[i] = arr[j]\n",
    "                arr[j] = tmp\n",
    "        tmp = arr[high]\n",
    "        arr[high] = arr[i+1]\n",
    "        arr[i+1] = tmp\n",
    "        sort(low, i)\n",
    "        sort(i+2, high)\n",
    "        return None\n",
    "    if not arr:\n",
    "        return []\n",
    "    n = len(arr)\n",
    "    sort(0, n-1)\n",
    "    return arr\n"
   ]
  },
  {
   "cell_type": "code",
   "execution_count": 23,
   "metadata": {},
   "outputs": [
    {
     "data": {
      "text/plain": [
       "[-9, 1, 3, 4, 6, 7]"
      ]
     },
     "execution_count": 23,
     "metadata": {},
     "output_type": "execute_result"
    }
   ],
   "source": [
    "QuickSort([7,6,3,4,1,-9])"
   ]
  },
  {
   "cell_type": "code",
   "execution_count": 40,
   "metadata": {},
   "outputs": [],
   "source": [
    "#heaps\n",
    "#0 1 2 3 4 5 6 7 8 ..\n",
    "#2k+1, 2k+2 are your kids, x//2 is your mom\n",
    "class MinHeap:\n",
    "    def __init__(self, maxsize=1000): #not allowing to add elements in lists\n",
    "        self.heap = [0] * maxsize\n",
    "        self.size = 0\n",
    "        self.maxsize = maxsize\n",
    "    def parent(k):\n",
    "        if k % 2 == 0:\n",
    "            return (k-1)//2\n",
    "        else:\n",
    "            return k//2\n",
    "    def insert(self, val):\n",
    "        if self.size == self.maxsize:\n",
    "            raise ValueError(\"Heap full!\")\n",
    "        self.heap[self.size] = val\n",
    "        self.size += 1\n",
    "        #balance time\n",
    "        k = self.size - 1\n",
    "        while k > 0 and self.heap[k] < self.heap[parent(k)]:\n",
    "            self.heap[k], self.heap[parent(k)] = self.heap[parent(k)], self.heap[k]\n",
    "            k = parent(k)\n",
    "        #balance the element at pos's parent [0 to self.size - 1]\n",
    "        return None\n",
    "    def extract_min(self):\n",
    "        if self.size == 0:\n",
    "            raise ValueError(\"Empty heap: can't extract!\")\n",
    "        ans = self.heap[0] \n",
    "        self.heap[0], self.heap[self.size-1] = self.heap[self.size-1], self.heap[0]\n",
    "        self.size -= 1\n",
    "        k = 0\n",
    "        while 2*k + 1 < self.size: #at least one child is around\n",
    "            min_val = min(self.heap[k], self.heap[2*k+1])\n",
    "            if 2*k+2 < self.size:\n",
    "                min_val = min(min_val, self.heap[2*k+2])\n",
    "            if self.heap[k] == min_val:\n",
    "                break\n",
    "            elif self.heap[2*k+1] == min_val:\n",
    "                self.heap[k], self.heap[2*k+1] = self.heap[2*k+1], self.heap[k]\n",
    "                k = 2*k + 1\n",
    "            elif 2*k + 2 < self.size and self.heap[2*k+2] == min_val:\n",
    "                self.heap[k], self.heap[2*k+2] = self.heap[2*k+2], self.heap[k]\n",
    "                k = 2*k + 2\n",
    "        return ans\n",
    "    def Print(self):\n",
    "        return self.heap[:self.size]\n",
    "    def PrintAllReverse(self):\n",
    "        return self.heap[::-1]\n",
    "\n",
    "        "
   ]
  },
  {
   "cell_type": "code",
   "execution_count": 42,
   "metadata": {},
   "outputs": [
    {
     "name": "stdout",
     "output_type": "stream",
     "text": [
      "False\n",
      "True\n"
     ]
    }
   ],
   "source": [
    "from random import randint\n",
    "a = MinHeap(100)\n",
    "for i in range(100):\n",
    "    a.insert(randint(0,99))\n",
    "b = a.PrintAllReverse()\n",
    "print(sorted(b) == b)\n",
    "for i in range(100):\n",
    "    a.extract_min()\n",
    "b = a.PrintAllReverse()\n",
    "print(sorted(b) == b)"
   ]
  },
  {
   "cell_type": "code",
   "execution_count": 43,
   "metadata": {},
   "outputs": [
    {
     "name": "stdout",
     "output_type": "stream",
     "text": [
      "[1, 4, 6, 6, 7, 7, 7, 7, 8, 8, 10, 11, 13, 13, 14, 15, 16, 16, 16, 16, 18, 18, 18, 19, 19, 21, 21, 23, 23, 24, 24, 24, 24, 25, 26, 29, 30, 30, 31, 35, 40, 42, 42, 44, 44, 44, 47, 49, 50, 51, 51, 55, 56, 57, 57, 60, 60, 60, 60, 61, 62, 62, 63, 65, 65, 65, 67, 67, 67, 67, 68, 70, 71, 72, 72, 77, 78, 79, 80, 82, 82, 83, 83, 83, 85, 86, 86, 86, 86, 87, 87, 89, 89, 89, 90, 91, 91, 97, 97, 99]\n"
     ]
    }
   ],
   "source": [
    "print(b)"
   ]
  },
  {
   "cell_type": "code",
   "execution_count": 44,
   "metadata": {},
   "outputs": [
    {
     "name": "stdout",
     "output_type": "stream",
     "text": [
      "2\n"
     ]
    }
   ],
   "source": [
    "from collections import deque\n",
    "a = deque([2])\n",
    "print(a.popleft())"
   ]
  },
  {
   "cell_type": "code",
   "execution_count": 5,
   "metadata": {},
   "outputs": [
    {
     "data": {
      "text/plain": [
       "3"
      ]
     },
     "execution_count": 5,
     "metadata": {},
     "output_type": "execute_result"
    }
   ],
   "source": [
    "def maxsize(x, df):\n",
    "    if not df or x <= 0:\n",
    "        return 0\n",
    "    i = 0\n",
    "    ans = 0\n",
    "    while i < len(df):\n",
    "        mn = df[i]\n",
    "        bottleneck = i\n",
    "        if i + x - 1 >= len(df):\n",
    "            return ans\n",
    "        for j in range(1, x):\n",
    "            if df[i+j] <= mn:\n",
    "                bottleneck = i+j\n",
    "                mn = df[i+j]\n",
    "        ans = max(ans, mn) #best till now\n",
    "        i = bottleneck + 1\n",
    "    return ans\n",
    "maxsize(4, [1,3,5,7,3,3,4,4,4])"
   ]
  },
  {
   "cell_type": "code",
   "execution_count": 1,
   "metadata": {},
   "outputs": [
    {
     "data": {
      "text/plain": [
       "'-0b11'"
      ]
     },
     "execution_count": 1,
     "metadata": {},
     "output_type": "execute_result"
    }
   ],
   "source": [
    "bin(-3)"
   ]
  },
  {
   "cell_type": "code",
   "execution_count": 7,
   "metadata": {},
   "outputs": [],
   "source": [
    "from bs4 import BeautifulSoup\n",
    "soup = BeautifulSoup(open(\"C:/Users/prana/Downloads/Event Lobby.html\", encoding=\"utf8\"), \"html.parser\")\n",
    "table = soup.find_all('h4', attrs = {'class':'booth-title'}) "
   ]
  },
  {
   "cell_type": "code",
   "execution_count": 9,
   "metadata": {},
   "outputs": [
    {
     "name": "stdout",
     "output_type": "stream",
     "text": [
      "Cornell Career Services\n",
      "Accenture 2020 Campus Recruiting\n",
      "Advanced Micro Devices\n",
      "AECOM\n",
      "Air Products & Chemicals, Inc.\n",
      "Akuna Capital\n",
      "Alarm.com\n",
      "Analytical Graphics, Inc.\n",
      "Ankura Consulting Group, LLC\n",
      "Arcadis\n",
      "Arista Networks - Software\n",
      "ASML\n",
      "Axtria\n",
      "BAE Systems, inc.\n",
      "Bank of New York Mellon (BNY Mellon)\n",
      "Benchling\n",
      "Blackstone\n",
      "BluePrint Research Group\n",
      "Brookhaven National Laboratory (BNL)\n",
      "Capital One\n",
      "Carrier\n",
      "Chartwell Consulting\n",
      "Clark Construction Group, LLC\n",
      "ClearView Healthcare Partners\n",
      "CNA\n",
      "Cognex Corporation\n",
      "Coinbase\n",
      "Con Edison\n",
      "Cornell University, Systems Engineering Program\n",
      "MATH/STATS, COMPUTER SCIENCE, MACHINE LEARNING, DATA ANALYTICS, ORIE AND PHYSICS (Corning)\n",
      "CHEMICAL ENGINEERING, MATERIAL SCIENCE, MECHANICAL ENGINEERING AND INFORMATION TECHNOLOGY (Corning)\n",
      "Covanta\n",
      "Cree | Wolfspeed\n",
      "CVS Health\n",
      "Deloitte\n",
      "Management Consultant (DHL Consulting)\n",
      "DCI Engineers\n",
      "DuPont\n",
      "Duracell\n",
      "E. & J. Gallo Winery - Engineering\n",
      "Epic\n",
      "Ernst & Young LLP (EY)\n",
      "Facebook\n",
      "Flow Traders\n",
      "Chat with the GE team to find out why building a world that works starts here\n",
      "General Dynamics, Electric Boat\n",
      "Gilbane Building Company\n",
      "GlobalFoundries\n",
      "Gotion, Inc.\n",
      "GZA GeoEnvironmental, Inc.\n",
      "HPR\n",
      "Hudson River Trading\n",
      "Infineum USA L.P.\n",
      "Intel Corporation\n",
      "Welcome to Fall career fair with Interactive Brokers\n",
      "TC Electric\n",
      "ISO New England, Inc.\n",
      "IXL Learning\n",
      "Johns Hopkins University Applied Physics Laboratory\n",
      "Kessler Fellows Program\n",
      "Meet the Kimley-Horn Team!\n",
      "Klaviyo\n",
      "L3Harris Technologies\n",
      "Langan Engineering and Environmental Services\n",
      "Liquidnet\n",
      "Lutron Electronics Company, Inc.\n",
      "M&T Bank - Technology\n",
      "Meet the Marvell Team\n",
      "Mathworks\n",
      "Mentor Graphics\n",
      "Merck & Co., Inc.\n",
      "MIT Lincoln Laboratory\n",
      "MITRE Corporation\n",
      "MongoDB\n",
      "Moog, Inc.\n",
      "Munich RE, US Life\n",
      "MW JONES & COMPANY - Cornell Career Fair Sept 2020\n",
      "National Security Agency (NSA)\n",
      "Naval Information Warfare Center Pacific (NIWC Pacific)\n",
      "Navy Supply Systems Command (NAVSUP)\n",
      "Naval Surface Warfare Center Philadelphia Division\n",
      "Neeva\n",
      "Next Jump Inc.\n",
      "NYS Department of Transportation\n",
      "Ocient\n",
      "Old Mission Capital\n",
      "Oracle\n",
      "Orchard\n",
      "Pall Corporation (A Danaher Company)\n",
      "Pepsico\n",
      "Meet the PowerAdvocate Team!\n",
      "Praetorian\n",
      "Procter & Gamble (P&G)\n",
      "Publicis Sapient\n",
      "Putnam Associates\n",
      "Regeneron Pharmaceuticals, Inc.\n",
      "Ridgeline\n",
      "SambaNova Systems\n",
      "SANDIA NATIONAL LABORATORIES\n",
      "Schlumberger\n",
      "Sensata Technologies\n",
      "SES - Informational Session\n",
      "SharkNinja\n",
      "Shipt\n",
      "Seven Eight Capital\n",
      "Softheon\n",
      "Sony Corporation Japan\n",
      "SpaceX\n",
      "Stroud International\n",
      "Systems & Technology Research\n",
      "Tata Consultancy Services\n",
      "Teach For America\n",
      "Teknic, Inc.\n",
      "Tetra Tech, Leaders in Solid Waste Solutions\n",
      "The Brattle Group\n",
      "Ramboll US Corporation\n",
      "The Raymond Corporation\n",
      "Turner Construction Company\n",
      "Verizon Media Virtual Booth!\n",
      "Viasat Inc.\n",
      "Wayfair\n",
      "Come Meet Workday, Inc.\n",
      "Workday\n",
      "Xilinx\n",
      "Yext\n",
      "ZS Associates\n"
     ]
    }
   ],
   "source": [
    "for x in table:\n",
    "    print(x.text)"
   ]
  },
  {
   "cell_type": "code",
   "execution_count": 10,
   "metadata": {},
   "outputs": [],
   "source": [
    "from bs4 import BeautifulSoup\n",
    "soup = BeautifulSoup(open(\"C:/Users/prana/Downloads/Event Lobby Day 2.html\", encoding=\"utf8\"), \"html.parser\")\n",
    "table = soup.find_all('h4', attrs = {'class':'booth-title'}) "
   ]
  },
  {
   "cell_type": "code",
   "execution_count": 11,
   "metadata": {},
   "outputs": [
    {
     "name": "stdout",
     "output_type": "stream",
     "text": [
      "Cornell Career Services\n",
      "Accenture 2020 Campus Recruiting\n",
      "Acsel Health\n",
      "Activate Inc.\n",
      "Advancy Inc.\n",
      "Air Liquide\n",
      "ALDI\n",
      "ASR Group\n",
      "AlphaSights\n",
      "Bank of New York Mellon (BNY Mellon)\n",
      "Cadmus\n",
      "Department of Transportation (Caltrans)\n",
      "Cargill\n",
      "Carney, Sandoe & Associates\n",
      "CBPartners: A Global Healthcare Consultancy\n",
      "Chartwell Consulting\n",
      "Cigna\n",
      "City Year\n",
      "CoBank\n",
      "Cornerstone Research\n",
      "Cree | Wolfspeed\n",
      "CVS Health\n",
      "Dairy Farmers of America\n",
      "Deloitte Consulting\n",
      "DuPont\n",
      "E. & J. Gallo Winery\n",
      "Ecolab\n",
      "Epic\n",
      "Ernst & Young LLP (EY)\n",
      "Facebook\n",
      "Farm Credit East\n",
      "FDIC-Federal Deposit Insurance Corpoation\n",
      "Food Lion\n",
      "Gartner\n",
      "Chat with the GE team to find out why building a world that works starts here\n",
      "Guidehouse\n",
      "Guidepoint\n",
      "Hannaford Supermarkets\n",
      "Impendi Analytics\n",
      "Institute for Defense Analyses\n",
      "IQVIA\n",
      "London Stock Exchange Group\n",
      "M&T Bank\n",
      "Merck & Co., Inc.\n",
      "MITRE Corporation\n",
      "MTS Health Partners\n",
      "Naval Supply Systems Command (NAVSUP)\n",
      "NERA Economic Consulting\n",
      "New York Independent System Operator (NYISO)\n",
      "Peace Corps\n",
      "Peachtree Hotel Group\n",
      "Procter & Gamble (P&G)\n",
      "Rabobank\n",
      "Reckitt Benckiser\n",
      "Regeneron Pharmaceuticals, Inc.\n",
      "S.C. Johnson & Son, Inc.\n",
      "SIG\n",
      "Sunshine Bouquet Company\n",
      "Teach For America\n",
      "The Port Authority of NY & NJ\n",
      "UBS\n",
      "United States Navy\n",
      "USDA, Agricultural Marketing Service\n",
      "Virginia Department Of Transportation\n",
      "WH Trading, LLC\n",
      "Zebra Technologies\n",
      "ZS Associates\n"
     ]
    }
   ],
   "source": [
    "for x in table:\n",
    "    print(x.text)"
   ]
  },
  {
   "cell_type": "code",
   "execution_count": null,
   "metadata": {},
   "outputs": [],
   "source": [
    "'''[2, 7, 4, 0, 9, 5, 1, 3]'''\n",
    "\n",
    "'''[1,2,3,4], s=10''' \n",
    "\n",
    "def find_array_quadruplet(arr, s):\n",
    "  #create the dictionary\n",
    "  if not arr:\n",
    "    return []\n",
    "  n = len(arr)\n",
    "  sumDict = dict()\n",
    "  for i in range(n):\n",
    "    for j in range(i):\n",
    "      if arr[i]+arr[j] in sumDict:\n",
    "        sumDict[arr[i]+arr[j]].append((i,j))\n",
    "      else:\n",
    "        sumDict[arr[i]+arr[j]] = [(i,j)]\n",
    "  \n",
    "  #iterate through the dictionary to find a quadruplet\n",
    "  for s2 in sumDict.keys():\n",
    "    if s-s2 in sumDict:\n",
    "      for x in sumDict[s2]:\n",
    "        for y in sumDict[s-s2]:\n",
    "          if x[0] not in y and x[1] not in y:\n",
    "            return sorted([arr[x[0]], arr[x[1]], arr[y[0]], arr[y[1]]])\n",
    "  \n",
    "  return [] # your code goes here\n",
    "#\n",
    "    for i from 0 to n - 4:\n",
    "        for j from i + 1 to n - 3:\n",
    "            # r stores the complementing sum\n",
    "            r = s - (arr[i] + arr[j])\n",
    "\n",
    "            # check for sum r in subarray arr[j+1…n-1]\n",
    "            low = j + 1, high = n - 1;\n",
    "\n",
    "            while (low < high):\n",
    "                if (arr[low] + arr[high] < r):\n",
    "                    low++\n",
    "\n",
    "                else if (arr[low] + arr[high] > r):\n",
    "                    high--\n",
    "\n",
    "                # quadruplet with given sum found\n",
    "                else:\n",
    "                    return [arr[i], arr[j], arr[low], arr[high]]\n",
    "\n",
    "    return []"
   ]
  },
  {
   "cell_type": "code",
   "execution_count": null,
   "metadata": {},
   "outputs": [],
   "source": [
    "def getCandidates(board, row, col):\n",
    "    ans = []\n",
    "    for i in range(1,10):\n",
    "        if str(i) not in board[row] and str(i) not in [board[i][col] for i in range(9)] and \\\n",
    "           str(i) not in [board[i + 3*(row // 3)][[j + 3*(col // 3)]] for i in range(3) for j in range(3)]:\n",
    "            ans.append(str(i))\n",
    "    \n",
    "def sudoku_solve(board):\n",
    "    mn = 9\n",
    "    empty_flag = 0\n",
    "    for r in range(9):\n",
    "        for c in range(9):\n",
    "            if board[r][c] == '.':\n",
    "                empty_flag = 1\n",
    "                lst = getCandidates(board, r, c)\n",
    "                if not lst:\n",
    "                    return False\n",
    "                if len(lst) <= mn:\n",
    "                    mn = len(lst)\n",
    "                    row = r\n",
    "                    col = c\n",
    "    if empty_flag == 0:\n",
    "        return True\n",
    "    lst = getCandidates(row, col)\n",
    "    for x in lst:\n",
    "        board[row][col] = x\n",
    "        if sudoku_solve(board):\n",
    "            return True\n",
    "    board[row][col] = '.'\n",
    "    return False\n",
    "    \n",
    "            "
   ]
  },
  {
   "cell_type": "code",
   "execution_count": 13,
   "metadata": {},
   "outputs": [
    {
     "data": {
      "text/plain": [
       "[(0, 0), (0, 1), (0, 2), (1, 0), (1, 1), (1, 2), (2, 0), (2, 1), (2, 2)]"
      ]
     },
     "execution_count": 13,
     "metadata": {},
     "output_type": "execute_result"
    }
   ],
   "source": [
    "[(i,j) for i in range(3) for j in range(3)]"
   ]
  },
  {
   "cell_type": "code",
   "execution_count": 14,
   "metadata": {},
   "outputs": [
    {
     "data": {
      "text/plain": [
       "3"
      ]
     },
     "execution_count": 14,
     "metadata": {},
     "output_type": "execute_result"
    }
   ],
   "source": [
    "len({1,2,35})"
   ]
  },
  {
   "cell_type": "code",
   "execution_count": 16,
   "metadata": {},
   "outputs": [
    {
     "data": {
      "text/plain": [
       "True"
      ]
     },
     "execution_count": 16,
     "metadata": {},
     "output_type": "execute_result"
    }
   ],
   "source": [
    "'.' == \".\""
   ]
  },
  {
   "cell_type": "code",
   "execution_count": 17,
   "metadata": {},
   "outputs": [
    {
     "data": {
      "text/plain": [
       "3"
      ]
     },
     "execution_count": 17,
     "metadata": {},
     "output_type": "execute_result"
    }
   ],
   "source": [
    "from collections import deque\n",
    "a = deque([1,2,3])\n",
    "a.popleft()\n",
    "a.pop()"
   ]
  },
  {
   "cell_type": "code",
   "execution_count": 1,
   "metadata": {},
   "outputs": [],
   "source": [
    "def a(x):\n",
    "    return 1 if x != 0 else 0 "
   ]
  },
  {
   "cell_type": "code",
   "execution_count": 3,
   "metadata": {},
   "outputs": [
    {
     "data": {
      "text/plain": [
       "0"
      ]
     },
     "execution_count": 3,
     "metadata": {},
     "output_type": "execute_result"
    }
   ],
   "source": [
    "a(0)"
   ]
  },
  {
   "cell_type": "code",
   "execution_count": 1,
   "metadata": {},
   "outputs": [
    {
     "name": "stdout",
     "output_type": "stream",
     "text": [
      "Requirement already satisfied: pytest in c:\\users\\prana\\anaconda3\\lib\\site-packages (5.3.5)\n",
      "Requirement already satisfied: py>=1.5.0 in c:\\users\\prana\\anaconda3\\lib\\site-packages (from pytest) (1.8.1)\n",
      "Requirement already satisfied: packaging in c:\\users\\prana\\anaconda3\\lib\\site-packages (from pytest) (20.1)\n",
      "Requirement already satisfied: attrs>=17.4.0 in c:\\users\\prana\\anaconda3\\lib\\site-packages (from pytest) (19.3.0)\n",
      "Requirement already satisfied: more-itertools>=4.0.0 in c:\\users\\prana\\anaconda3\\lib\\site-packages (from pytest) (8.2.0)\n",
      "Requirement already satisfied: pluggy<1.0,>=0.12 in c:\\users\\prana\\anaconda3\\lib\\site-packages (from pytest) (0.13.1)\n",
      "Requirement already satisfied: wcwidth in c:\\users\\prana\\anaconda3\\lib\\site-packages (from pytest) (0.1.8)\n",
      "Requirement already satisfied: importlib-metadata>=0.12 in c:\\users\\prana\\anaconda3\\lib\\site-packages (from pytest) (1.5.0)\n",
      "Requirement already satisfied: atomicwrites>=1.0 in c:\\users\\prana\\anaconda3\\lib\\site-packages (from pytest) (1.3.0)\n",
      "Requirement already satisfied: colorama in c:\\users\\prana\\anaconda3\\lib\\site-packages (from pytest) (0.4.3)\n",
      "Requirement already satisfied: pyparsing>=2.0.2 in c:\\users\\prana\\anaconda3\\lib\\site-packages (from packaging->pytest) (2.4.6)\n",
      "Requirement already satisfied: six in c:\\users\\prana\\anaconda3\\lib\\site-packages (from packaging->pytest) (1.14.0)\n",
      "Requirement already satisfied: zipp>=0.5 in c:\\users\\prana\\anaconda3\\lib\\site-packages (from importlib-metadata>=0.12->pytest) (2.2.0)\n"
     ]
    },
    {
     "name": "stderr",
     "output_type": "stream",
     "text": [
      "WARNING: You are using pip version 20.1.1; however, version 20.2.3 is available.\n",
      "You should consider upgrading via the 'c:\\users\\prana\\anaconda3\\python.exe -m pip install --upgrade pip' command.\n"
     ]
    }
   ],
   "source": [
    "!pip3 install pytest"
   ]
  },
  {
   "cell_type": "code",
   "execution_count": 2,
   "metadata": {},
   "outputs": [
    {
     "data": {
      "text/plain": [
       "[1, 2, 4]"
      ]
     },
     "execution_count": 2,
     "metadata": {},
     "output_type": "execute_result"
    }
   ],
   "source": [
    "p = [1,2,4,5]\n",
    "p.pop()*2\n",
    "p"
   ]
  },
  {
   "cell_type": "code",
   "execution_count": 2,
   "metadata": {},
   "outputs": [
    {
     "data": {
      "text/plain": [
       "'-0b1000'"
      ]
     },
     "execution_count": 2,
     "metadata": {},
     "output_type": "execute_result"
    }
   ],
   "source": [
    "bin(-8) | bin(1)"
   ]
  },
  {
   "cell_type": "code",
   "execution_count": 17,
   "metadata": {},
   "outputs": [
    {
     "data": {
      "text/plain": [
       "-1"
      ]
     },
     "execution_count": 17,
     "metadata": {},
     "output_type": "execute_result"
    }
   ],
   "source": [
    "-1 >> 500"
   ]
  },
  {
   "cell_type": "code",
   "execution_count": 7,
   "metadata": {},
   "outputs": [
    {
     "data": {
      "text/plain": [
       "2"
      ]
     },
     "execution_count": 7,
     "metadata": {},
     "output_type": "execute_result"
    }
   ],
   "source": [
    "4 >> 1"
   ]
  },
  {
   "cell_type": "code",
   "execution_count": null,
   "metadata": {},
   "outputs": [],
   "source": []
  }
 ],
 "metadata": {
  "kernelspec": {
   "display_name": "Python 3",
   "language": "python",
   "name": "python3"
  },
  "language_info": {
   "codemirror_mode": {
    "name": "ipython",
    "version": 3
   },
   "file_extension": ".py",
   "mimetype": "text/x-python",
   "name": "python",
   "nbconvert_exporter": "python",
   "pygments_lexer": "ipython3",
   "version": "3.7.6"
  }
 },
 "nbformat": 4,
 "nbformat_minor": 4
}
