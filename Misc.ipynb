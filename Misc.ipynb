{
 "cells": [
  {
   "cell_type": "code",
   "execution_count": 21,
   "metadata": {},
   "outputs": [],
   "source": [
    "# quick sort\n",
    "# arr assign pivot, do partition, send first and second halves to quick sort\n",
    "# in place\n",
    "\n",
    "def QuickSort(arr):\n",
    "    def sort(low, high):\n",
    "        if low >= high:\n",
    "            return None\n",
    "        pivot = arr[high]\n",
    "        #partition, \n",
    "        i = low - 1\n",
    "        for j in range(low, high):\n",
    "            if arr[j] <= pivot:\n",
    "                i += 1\n",
    "                tmp = arr[i]\n",
    "                arr[i] = arr[j]\n",
    "                arr[j] = tmp\n",
    "        tmp = arr[high]\n",
    "        arr[high] = arr[i+1]\n",
    "        arr[i+1] = tmp\n",
    "        sort(low, i)\n",
    "        sort(i+2, high)\n",
    "        return None\n",
    "    if not arr:\n",
    "        return []\n",
    "    n = len(arr)\n",
    "    sort(0, n-1)\n",
    "    return arr\n"
   ]
  },
  {
   "cell_type": "code",
   "execution_count": 23,
   "metadata": {},
   "outputs": [
    {
     "data": {
      "text/plain": [
       "[-9, 1, 3, 4, 6, 7]"
      ]
     },
     "execution_count": 23,
     "metadata": {},
     "output_type": "execute_result"
    }
   ],
   "source": [
    "QuickSort([7,6,3,4,1,-9])"
   ]
  },
  {
   "cell_type": "code",
   "execution_count": 40,
   "metadata": {},
   "outputs": [],
   "source": [
    "#heaps\n",
    "#0 1 2 3 4 5 6 7 8 ..\n",
    "#2k+1, 2k+2 are your kids, x//2 is your mom\n",
    "class MinHeap:\n",
    "    def __init__(self, maxsize=1000): #not allowing to add elements in lists\n",
    "        self.heap = [0] * maxsize\n",
    "        self.size = 0\n",
    "        self.maxsize = maxsize\n",
    "    def parent(k):\n",
    "        if k % 2 == 0:\n",
    "            return (k-1)//2\n",
    "        else:\n",
    "            return k//2\n",
    "    def insert(self, val):\n",
    "        if self.size == self.maxsize:\n",
    "            raise ValueError(\"Heap full!\")\n",
    "        self.heap[self.size] = val\n",
    "        self.size += 1\n",
    "        #balance time\n",
    "        k = self.size - 1\n",
    "        while k > 0 and self.heap[k] < self.heap[parent(k)]:\n",
    "            self.heap[k], self.heap[parent(k)] = self.heap[parent(k)], self.heap[k]\n",
    "            k = parent(k)\n",
    "        #balance the element at pos's parent [0 to self.size - 1]\n",
    "        return None\n",
    "    def extract_min(self):\n",
    "        if self.size == 0:\n",
    "            raise ValueError(\"Empty heap: can't extract!\")\n",
    "        ans = self.heap[0] \n",
    "        self.heap[0], self.heap[self.size-1] = self.heap[self.size-1], self.heap[0]\n",
    "        self.size -= 1\n",
    "        k = 0\n",
    "        while 2*k + 1 < self.size: #at least one child is around\n",
    "            min_val = min(self.heap[k], self.heap[2*k+1])\n",
    "            if 2*k+2 < self.size:\n",
    "                min_val = min(min_val, self.heap[2*k+2])\n",
    "            if self.heap[k] == min_val:\n",
    "                break\n",
    "            elif self.heap[2*k+1] == min_val:\n",
    "                self.heap[k], self.heap[2*k+1] = self.heap[2*k+1], self.heap[k]\n",
    "                k = 2*k + 1\n",
    "            elif 2*k + 2 < self.size and self.heap[2*k+2] == min_val:\n",
    "                self.heap[k], self.heap[2*k+2] = self.heap[2*k+2], self.heap[k]\n",
    "                k = 2*k + 2\n",
    "        return ans\n",
    "    def Print(self):\n",
    "        return self.heap[:self.size]\n",
    "    def PrintAllReverse(self):\n",
    "        return self.heap[::-1]\n",
    "\n",
    "        "
   ]
  },
  {
   "cell_type": "code",
   "execution_count": 42,
   "metadata": {},
   "outputs": [
    {
     "name": "stdout",
     "output_type": "stream",
     "text": [
      "False\n",
      "True\n"
     ]
    }
   ],
   "source": [
    "from random import randint\n",
    "a = MinHeap(100)\n",
    "for i in range(100):\n",
    "    a.insert(randint(0,99))\n",
    "b = a.PrintAllReverse()\n",
    "print(sorted(b) == b)\n",
    "for i in range(100):\n",
    "    a.extract_min()\n",
    "b = a.PrintAllReverse()\n",
    "print(sorted(b) == b)"
   ]
  },
  {
   "cell_type": "code",
   "execution_count": 43,
   "metadata": {},
   "outputs": [
    {
     "name": "stdout",
     "output_type": "stream",
     "text": [
      "[1, 4, 6, 6, 7, 7, 7, 7, 8, 8, 10, 11, 13, 13, 14, 15, 16, 16, 16, 16, 18, 18, 18, 19, 19, 21, 21, 23, 23, 24, 24, 24, 24, 25, 26, 29, 30, 30, 31, 35, 40, 42, 42, 44, 44, 44, 47, 49, 50, 51, 51, 55, 56, 57, 57, 60, 60, 60, 60, 61, 62, 62, 63, 65, 65, 65, 67, 67, 67, 67, 68, 70, 71, 72, 72, 77, 78, 79, 80, 82, 82, 83, 83, 83, 85, 86, 86, 86, 86, 87, 87, 89, 89, 89, 90, 91, 91, 97, 97, 99]\n"
     ]
    }
   ],
   "source": [
    "print(b)"
   ]
  },
  {
   "cell_type": "code",
   "execution_count": 44,
   "metadata": {},
   "outputs": [
    {
     "name": "stdout",
     "output_type": "stream",
     "text": [
      "2\n"
     ]
    }
   ],
   "source": [
    "from collections import deque\n",
    "a = deque([2])\n",
    "print(a.popleft())"
   ]
  },
  {
   "cell_type": "code",
   "execution_count": 5,
   "metadata": {},
   "outputs": [
    {
     "data": {
      "text/plain": [
       "3"
      ]
     },
     "execution_count": 5,
     "metadata": {},
     "output_type": "execute_result"
    }
   ],
   "source": [
    "def maxsize(x, df):\n",
    "    if not df or x <= 0:\n",
    "        return 0\n",
    "    i = 0\n",
    "    ans = 0\n",
    "    while i < len(df):\n",
    "        mn = df[i]\n",
    "        bottleneck = i\n",
    "        if i + x - 1 >= len(df):\n",
    "            return ans\n",
    "        for j in range(1, x):\n",
    "            if df[i+j] <= mn:\n",
    "                bottleneck = i+j\n",
    "                mn = df[i+j]\n",
    "        ans = max(ans, mn) #best till now\n",
    "        i = bottleneck + 1\n",
    "    return ans\n",
    "maxsize(4, [1,3,5,7,3,3,4,4,4])"
   ]
  },
  {
   "cell_type": "code",
   "execution_count": null,
   "metadata": {},
   "outputs": [],
   "source": []
  }
 ],
 "metadata": {
  "kernelspec": {
   "display_name": "Python 3",
   "language": "python",
   "name": "python3"
  },
  "language_info": {
   "codemirror_mode": {
    "name": "ipython",
    "version": 3
   },
   "file_extension": ".py",
   "mimetype": "text/x-python",
   "name": "python",
   "nbconvert_exporter": "python",
   "pygments_lexer": "ipython3",
   "version": "3.7.6"
  }
 },
 "nbformat": 4,
 "nbformat_minor": 4
}
