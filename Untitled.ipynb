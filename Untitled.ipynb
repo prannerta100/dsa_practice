{
 "cells": [
  {
   "cell_type": "code",
   "execution_count": 3,
   "metadata": {},
   "outputs": [
    {
     "name": "stdout",
     "output_type": "stream",
     "text": [
      "B wins with prob 5556.111\n"
     ]
    }
   ],
   "source": [
    "import numpy as np\n",
    "\n",
    "def game():\n",
    "    #A: 0 and B: 1\n",
    "    #A: 9 2/3, 0 1/3\n",
    "    #B: 3 2/3, 11 1/3\n",
    "    x = np.random.rand(1)\n",
    "    if 3*x <= 2:\n",
    "        A = 9\n",
    "    else:\n",
    "        A = 0\n",
    "    x = np.random.rand(1)\n",
    "    if 3*x <= 2:\n",
    "        B = 3\n",
    "    else:\n",
    "        B = 11\n",
    "    if A > B:\n",
    "        return 0\n",
    "    else:\n",
    "        return 1\n",
    "\n",
    "output = []\n",
    "for i in range(10000000):\n",
    "    output.append(game())\n",
    "\n",
    "\n",
    "#output B's winning prob\n",
    "print('B wins with prob {}'.format(sum(output)/len(output)))\n",
    "\n",
    "    "
   ]
  },
  {
   "cell_type": "code",
   "execution_count": 2,
   "metadata": {},
   "outputs": [
    {
     "data": {
      "text/plain": [
       "0.5555555555555556"
      ]
     },
     "execution_count": 2,
     "metadata": {},
     "output_type": "execute_result"
    }
   ],
   "source": [
    "5/9"
   ]
  },
  {
   "cell_type": "markdown",
   "metadata": {},
   "source": [
    "randA = np.random.ran(10000000)\n",
    "randA >= 2/3 )\n",
    "\n",
    "P(D) = 0.01\n",
    "P(+|D) = 0.95\n",
    "P(+|ND) = 0.05\n",
    "\n",
    "P(D|+) = P(D,+)/P(+) = P(+|D) P(D)/P(+) = P(+|D) P(D)/(P(+|D) P(D) + P(+|ND) P(ND) )\n",
    "\n",
    " = 0.95 * 0.01 / (0.95 * 0.01 + 0.05 * 0.99)\n",
    " "
   ]
  },
  {
   "cell_type": "code",
   "execution_count": 4,
   "metadata": {},
   "outputs": [
    {
     "name": "stdout",
     "output_type": "stream",
     "text": [
      "0.16101694915254236\n"
     ]
    }
   ],
   "source": [
    "print(0.95 * 0.01 / (0.95 * 0.01 + 0.05 * 0.99))"
   ]
  },
  {
   "cell_type": "code",
   "execution_count": 5,
   "metadata": {},
   "outputs": [
    {
     "data": {
      "text/plain": [
       "0.0495"
      ]
     },
     "execution_count": 5,
     "metadata": {},
     "output_type": "execute_result"
    }
   ],
   "source": [
    ".99 * 0.05"
   ]
  },
  {
   "cell_type": "code",
   "execution_count": 6,
   "metadata": {},
   "outputs": [
    {
     "data": {
      "text/plain": [
       "0.0095"
      ]
     },
     "execution_count": 6,
     "metadata": {},
     "output_type": "execute_result"
    }
   ],
   "source": [
    ".01 * 0.95"
   ]
  },
  {
   "cell_type": "code",
   "execution_count": null,
   "metadata": {},
   "outputs": [],
   "source": []
  }
 ],
 "metadata": {
  "kernelspec": {
   "display_name": "Python 3",
   "language": "python",
   "name": "python3"
  },
  "language_info": {
   "codemirror_mode": {
    "name": "ipython",
    "version": 3
   },
   "file_extension": ".py",
   "mimetype": "text/x-python",
   "name": "python",
   "nbconvert_exporter": "python",
   "pygments_lexer": "ipython3",
   "version": "3.7.6"
  }
 },
 "nbformat": 4,
 "nbformat_minor": 4
}
