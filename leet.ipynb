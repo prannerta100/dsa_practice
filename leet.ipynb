{
 "cells": [
  {
   "cell_type": "markdown",
   "metadata": {},
   "source": [
    "### Implement from scratch + understand well\n",
    "\n",
    "1. DFS (bidirectional too)\n",
    "2. BFS (bidirectional too)\n",
    "3. Trie\n",
    "4. Tree traversals\n",
    "5. Heap\n",
    "6. Stacks, queues (don't be overconfident, implement all the operations)\n",
    "7. Quick sort\n",
    "8. Merge sort (bottom up)\n",
    "9. Heap sort\n",
    "10. Hoare's partition, quickselect\n",
    "11. Manacher O(n) palindrome algorithm\n",
    "12. Topological sort\n",
    "13. Kadane's algo, 3Sum O(n)\n",
    "14. Container with most water\n",
    "15. Sliding window very confused :( \n",
    "16. Maximum product pos and neg solution (why was it so slow)"
   ]
  },
  {
   "cell_type": "code",
   "execution_count": 2,
   "metadata": {},
   "outputs": [
    {
     "ename": "AttributeError",
     "evalue": "'list' object has no attribute 'split'",
     "output_type": "error",
     "traceback": [
      "\u001b[1;31m---------------------------------------------------------------------------\u001b[0m",
      "\u001b[1;31mAttributeError\u001b[0m                            Traceback (most recent call last)",
      "\u001b[1;32m<ipython-input-2-c7b10f31192d>\u001b[0m in \u001b[0;36m<module>\u001b[1;34m\u001b[0m\n\u001b[0;32m      1\u001b[0m \u001b[1;31m#can split on multiple tokens?\u001b[0m\u001b[1;33m\u001b[0m\u001b[1;33m\u001b[0m\u001b[1;33m\u001b[0m\u001b[0m\n\u001b[0;32m      2\u001b[0m \u001b[0ms\u001b[0m \u001b[1;33m=\u001b[0m \u001b[1;34m'3+4*7-5+7'\u001b[0m\u001b[1;33m\u001b[0m\u001b[1;33m\u001b[0m\u001b[0m\n\u001b[1;32m----> 3\u001b[1;33m \u001b[0ms\u001b[0m\u001b[1;33m.\u001b[0m\u001b[0msplit\u001b[0m\u001b[1;33m(\u001b[0m\u001b[1;34m'+'\u001b[0m\u001b[1;33m)\u001b[0m\u001b[1;33m.\u001b[0m\u001b[0msplit\u001b[0m\u001b[1;33m(\u001b[0m\u001b[1;34m'*'\u001b[0m\u001b[1;33m)\u001b[0m\u001b[1;33m\u001b[0m\u001b[1;33m\u001b[0m\u001b[0m\n\u001b[0m",
      "\u001b[1;31mAttributeError\u001b[0m: 'list' object has no attribute 'split'"
     ]
    }
   ],
   "source": [
    "#can split on multiple tokens?\n",
    "s = '3+4*7-5+7'\n",
    "s.split('+').split('*')"
   ]
  },
  {
   "cell_type": "code",
   "execution_count": 14,
   "metadata": {},
   "outputs": [
    {
     "data": {
      "text/plain": [
       "['3', '4', '8', '3', '5', '8']"
      ]
     },
     "execution_count": 14,
     "metadata": {},
     "output_type": "execute_result"
    }
   ],
   "source": [
    "import re\n",
    "a = ' 3+4*8-3 + 5/8 '\n",
    "re.split('\\+|\\-|\\*|\\/',a.replace(' ',''))"
   ]
  },
  {
   "cell_type": "code",
   "execution_count": 15,
   "metadata": {},
   "outputs": [
    {
     "data": {
      "text/plain": [
       "3"
      ]
     },
     "execution_count": 15,
     "metadata": {},
     "output_type": "execute_result"
    }
   ],
   "source": [
    "int('3')"
   ]
  },
  {
   "cell_type": "code",
   "execution_count": 22,
   "metadata": {},
   "outputs": [
    {
     "data": {
      "text/plain": [
       "['34', '+', '5', '-', '3']"
      ]
     },
     "execution_count": 22,
     "metadata": {},
     "output_type": "execute_result"
    }
   ],
   "source": [
    "re.findall('\\d+|\\+|\\-|\\*|\\/',' 34+5 - 3')"
   ]
  },
  {
   "cell_type": "code",
   "execution_count": 2,
   "metadata": {},
   "outputs": [
    {
     "name": "stdout",
     "output_type": "stream",
     "text": [
      "[1, 2, 3, 4]\n"
     ]
    }
   ],
   "source": [
    "a = [1,2,3]\n",
    "b = a\n",
    "b.append(4)\n",
    "print(a)"
   ]
  },
  {
   "cell_type": "code",
   "execution_count": 2,
   "metadata": {},
   "outputs": [
    {
     "name": "stdout",
     "output_type": "stream",
     "text": [
      "[2, 3, 4]\n"
     ]
    }
   ],
   "source": [
    "a = [1,2,3,4,5]\n",
    "del(a[0])\n",
    "del(a[3])\n",
    "print(a)"
   ]
  },
  {
   "cell_type": "code",
   "execution_count": null,
   "metadata": {},
   "outputs": [],
   "source": [
    "#show game of life soln to someone pro\n",
    "#show the padding stuff, workflow, etc.\n",
    "#Praveer Google recruiter\n",
    "#github, "
   ]
  },
  {
   "cell_type": "code",
   "execution_count": 14,
   "metadata": {},
   "outputs": [
    {
     "data": {
      "text/plain": [
       "'0b10000000000000000000000000001011'"
      ]
     },
     "execution_count": 14,
     "metadata": {},
     "output_type": "execute_result"
    }
   ],
   "source": [
    "bin(11 ^ (1<<32-1))"
   ]
  },
  {
   "cell_type": "code",
   "execution_count": 13,
   "metadata": {},
   "outputs": [
    {
     "data": {
      "text/plain": [
       "('0b1011', '0b11111111111111111111111111111111')"
      ]
     },
     "execution_count": 13,
     "metadata": {},
     "output_type": "execute_result"
    }
   ],
   "source": [
    "bin(11), bin((1<<32)-1)"
   ]
  },
  {
   "cell_type": "code",
   "execution_count": 15,
   "metadata": {},
   "outputs": [
    {
     "data": {
      "text/plain": [
       "'-0b11'"
      ]
     },
     "execution_count": 15,
     "metadata": {},
     "output_type": "execute_result"
    }
   ],
   "source": [
    "#How does Python store negative numbers?\n",
    "bin(-3)"
   ]
  },
  {
   "cell_type": "code",
   "execution_count": 19,
   "metadata": {},
   "outputs": [
    {
     "data": {
      "text/plain": [
       "1"
      ]
     },
     "execution_count": 19,
     "metadata": {},
     "output_type": "execute_result"
    }
   ],
   "source": [
    "-3 & 3"
   ]
  },
  {
   "cell_type": "code",
   "execution_count": 30,
   "metadata": {},
   "outputs": [
    {
     "data": {
      "text/plain": [
       "'-0b1'"
      ]
     },
     "execution_count": 30,
     "metadata": {},
     "output_type": "execute_result"
    }
   ],
   "source": [
    "bin(-3 >> 3300)"
   ]
  },
  {
   "cell_type": "code",
   "execution_count": 31,
   "metadata": {},
   "outputs": [
    {
     "data": {
      "text/plain": [
       "1"
      ]
     },
     "execution_count": 31,
     "metadata": {},
     "output_type": "execute_result"
    }
   ],
   "source": [
    "1|1"
   ]
  },
  {
   "cell_type": "code",
   "execution_count": 32,
   "metadata": {},
   "outputs": [
    {
     "data": {
      "text/plain": [
       "1"
      ]
     },
     "execution_count": 32,
     "metadata": {},
     "output_type": "execute_result"
    }
   ],
   "source": [
    "0|1"
   ]
  },
  {
   "cell_type": "code",
   "execution_count": 1,
   "metadata": {},
   "outputs": [
    {
     "data": {
      "text/plain": [
       "\"['a', 'b']\""
      ]
     },
     "execution_count": 1,
     "metadata": {},
     "output_type": "execute_result"
    }
   ],
   "source": [
    "str(['a','b'])"
   ]
  },
  {
   "cell_type": "code",
   "execution_count": 2,
   "metadata": {},
   "outputs": [
    {
     "data": {
      "text/plain": [
       "'ab'"
      ]
     },
     "execution_count": 2,
     "metadata": {},
     "output_type": "execute_result"
    }
   ],
   "source": [
    "''.join(['a', 'b'])"
   ]
  },
  {
   "cell_type": "code",
   "execution_count": 4,
   "metadata": {},
   "outputs": [
    {
     "ename": "TypeError",
     "evalue": "can only concatenate str (not \"list\") to str",
     "output_type": "error",
     "traceback": [
      "\u001b[1;31m---------------------------------------------------------------------------\u001b[0m",
      "\u001b[1;31mTypeError\u001b[0m                                 Traceback (most recent call last)",
      "\u001b[1;32m<ipython-input-4-41b2c572b23b>\u001b[0m in \u001b[0;36m<module>\u001b[1;34m\u001b[0m\n\u001b[1;32m----> 1\u001b[1;33m \u001b[1;34m'andfg'\u001b[0m \u001b[1;33m+\u001b[0m \u001b[1;33m[\u001b[0m\u001b[1;34m'sdgfsgh'\u001b[0m\u001b[1;33m,\u001b[0m \u001b[1;36m1\u001b[0m\u001b[1;33m,\u001b[0m \u001b[1;36m5\u001b[0m\u001b[1;33m]\u001b[0m\u001b[1;33m\u001b[0m\u001b[1;33m\u001b[0m\u001b[0m\n\u001b[0m",
      "\u001b[1;31mTypeError\u001b[0m: can only concatenate str (not \"list\") to str"
     ]
    }
   ],
   "source": [
    "'andfg' + ['sdgfsgh', 1, 5]"
   ]
  },
  {
   "cell_type": "code",
   "execution_count": 5,
   "metadata": {},
   "outputs": [
    {
     "data": {
      "text/plain": [
       "dict_values(['3', '5'])"
      ]
     },
     "execution_count": 5,
     "metadata": {},
     "output_type": "execute_result"
    }
   ],
   "source": [
    "a = {1:'3', 3:'5'}\n",
    "a.values()"
   ]
  },
  {
   "cell_type": "code",
   "execution_count": 6,
   "metadata": {},
   "outputs": [
    {
     "data": {
      "text/plain": [
       "['3', '5']"
      ]
     },
     "execution_count": 6,
     "metadata": {},
     "output_type": "execute_result"
    }
   ],
   "source": [
    "list(a.values())"
   ]
  },
  {
   "cell_type": "code",
   "execution_count": 7,
   "metadata": {},
   "outputs": [
    {
     "data": {
      "text/plain": [
       "'sadg'"
      ]
     },
     "execution_count": 7,
     "metadata": {},
     "output_type": "execute_result"
    }
   ],
   "source": [
    "a = 'sadgdfhfg'\n",
    "a[:4]"
   ]
  },
  {
   "cell_type": "code",
   "execution_count": 14,
   "metadata": {},
   "outputs": [
    {
     "data": {
      "text/plain": [
       "True"
      ]
     },
     "execution_count": 14,
     "metadata": {},
     "output_type": "execute_result"
    }
   ],
   "source": [
    "def yo():\n",
    "    return 1 in [1,2]\n",
    "yo()"
   ]
  },
  {
   "cell_type": "code",
   "execution_count": 9,
   "metadata": {},
   "outputs": [
    {
     "name": "stdout",
     "output_type": "stream",
     "text": [
      "s\n",
      "d\n",
      "g\n",
      "d\n",
      "f\n",
      "g\n"
     ]
    }
   ],
   "source": [
    "for x in 'sdgdfg':\n",
    "    print(x)"
   ]
  },
  {
   "cell_type": "code",
   "execution_count": 11,
   "metadata": {},
   "outputs": [
    {
     "data": {
      "text/plain": [
       "'feisr'"
      ]
     },
     "execution_count": 11,
     "metadata": {},
     "output_type": "execute_result"
    }
   ],
   "source": [
    "a = 'ksaoeghdsoifkbnrkjgaweysiofjvsk;ohtegrsiefja'\n",
    "a[-3:-8:-1]"
   ]
  },
  {
   "cell_type": "code",
   "execution_count": 2,
   "metadata": {},
   "outputs": [],
   "source": [
    "a = [1,2,3]\n",
    "a.append(None)"
   ]
  },
  {
   "cell_type": "code",
   "execution_count": 7,
   "metadata": {},
   "outputs": [
    {
     "data": {
      "text/plain": [
       "3"
      ]
     },
     "execution_count": 7,
     "metadata": {},
     "output_type": "execute_result"
    }
   ],
   "source": [
    "a.pop()"
   ]
  },
  {
   "cell_type": "code",
   "execution_count": 8,
   "metadata": {},
   "outputs": [
    {
     "data": {
      "text/plain": [
       "[1, 2]"
      ]
     },
     "execution_count": 8,
     "metadata": {},
     "output_type": "execute_result"
    }
   ],
   "source": [
    "sorted(a)"
   ]
  },
  {
   "cell_type": "code",
   "execution_count": 9,
   "metadata": {},
   "outputs": [
    {
     "data": {
      "text/plain": [
       "{2}"
      ]
     },
     "execution_count": 9,
     "metadata": {},
     "output_type": "execute_result"
    }
   ],
   "source": [
    "d = set()\n",
    "d.add(2)\n",
    "d.add(2)\n",
    "d"
   ]
  },
  {
   "cell_type": "code",
   "execution_count": 12,
   "metadata": {},
   "outputs": [
    {
     "ename": "TypeError",
     "evalue": "unhashable type: 'dict'",
     "output_type": "error",
     "traceback": [
      "\u001b[1;31m---------------------------------------------------------------------------\u001b[0m",
      "\u001b[1;31mTypeError\u001b[0m                                 Traceback (most recent call last)",
      "\u001b[1;32m<ipython-input-12-14e40cef40c2>\u001b[0m in \u001b[0;36m<module>\u001b[1;34m\u001b[0m\n\u001b[0;32m      8\u001b[0m     }\n\u001b[0;32m      9\u001b[0m \u001b[0mff\u001b[0m \u001b[1;33m=\u001b[0m \u001b[0mdict\u001b[0m\u001b[1;33m(\u001b[0m\u001b[1;33m)\u001b[0m\u001b[1;33m\u001b[0m\u001b[1;33m\u001b[0m\u001b[0m\n\u001b[1;32m---> 10\u001b[1;33m \u001b[0mff\u001b[0m\u001b[1;33m[\u001b[0m\u001b[0md1\u001b[0m\u001b[1;33m]\u001b[0m \u001b[1;33m=\u001b[0m \u001b[1;36m10000\u001b[0m\u001b[1;33m\u001b[0m\u001b[1;33m\u001b[0m\u001b[0m\n\u001b[0m\u001b[0;32m     11\u001b[0m \u001b[0mff\u001b[0m\u001b[1;33m[\u001b[0m\u001b[0md2\u001b[0m\u001b[1;33m]\u001b[0m\u001b[1;33m\u001b[0m\u001b[1;33m\u001b[0m\u001b[0m\n",
      "\u001b[1;31mTypeError\u001b[0m: unhashable type: 'dict'"
     ]
    }
   ],
   "source": [
    "d1 = {'a':3,\n",
    "     'b':5,\n",
    "     'f':10\n",
    "    }\n",
    "d2 = {'f':10,\n",
    "     'b':5,\n",
    "     'a':30\n",
    "    }\n",
    "ff = dict()\n",
    "ff[d1] = 10000\n",
    "ff[d2]"
   ]
  },
  {
   "cell_type": "code",
   "execution_count": 16,
   "metadata": {},
   "outputs": [
    {
     "data": {
      "text/plain": [
       "['s', 'a', 'd', 'f', 'd', 'g']"
      ]
     },
     "execution_count": 16,
     "metadata": {},
     "output_type": "execute_result"
    }
   ],
   "source": [
    "list('sadfdg')"
   ]
  },
  {
   "cell_type": "code",
   "execution_count": 17,
   "metadata": {},
   "outputs": [
    {
     "data": {
      "text/plain": [
       "dict_values([10, 5, 30])"
      ]
     },
     "execution_count": 17,
     "metadata": {},
     "output_type": "execute_result"
    }
   ],
   "source": [
    "d2.values()"
   ]
  },
  {
   "cell_type": "code",
   "execution_count": 20,
   "metadata": {},
   "outputs": [],
   "source": [
    "f = dict()\n",
    "f[tuple(sorted('dfgfndjtgyjuykyu'))] = 34534645"
   ]
  },
  {
   "cell_type": "code",
   "execution_count": 23,
   "metadata": {},
   "outputs": [
    {
     "data": {
      "text/plain": [
       "('3', '4', '5', '4', '2', '3')"
      ]
     },
     "execution_count": 23,
     "metadata": {},
     "output_type": "execute_result"
    }
   ],
   "source": [
    "tuple('345423')"
   ]
  },
  {
   "cell_type": "code",
   "execution_count": 24,
   "metadata": {},
   "outputs": [
    {
     "data": {
      "text/plain": [
       "('wefvre', 24234)"
      ]
     },
     "execution_count": 24,
     "metadata": {},
     "output_type": "execute_result"
    }
   ],
   "source": [
    "tuple(['wefvre',24234])"
   ]
  },
  {
   "cell_type": "code",
   "execution_count": 28,
   "metadata": {},
   "outputs": [
    {
     "ename": "KeyError",
     "evalue": "'dgfdgh'",
     "output_type": "error",
     "traceback": [
      "\u001b[1;31m---------------------------------------------------------------------------\u001b[0m",
      "\u001b[1;31mKeyError\u001b[0m                                  Traceback (most recent call last)",
      "\u001b[1;32m<ipython-input-28-2f31d54fe423>\u001b[0m in \u001b[0;36m<module>\u001b[1;34m\u001b[0m\n\u001b[0;32m      1\u001b[0m \u001b[1;32mfrom\u001b[0m \u001b[0mcollections\u001b[0m \u001b[1;32mimport\u001b[0m \u001b[0mdefaultdict\u001b[0m\u001b[1;33m\u001b[0m\u001b[1;33m\u001b[0m\u001b[0m\n\u001b[0;32m      2\u001b[0m \u001b[0mdf\u001b[0m \u001b[1;33m=\u001b[0m \u001b[0mdefaultdict\u001b[0m\u001b[1;33m(\u001b[0m\u001b[1;33m)\u001b[0m\u001b[1;33m\u001b[0m\u001b[1;33m\u001b[0m\u001b[0m\n\u001b[1;32m----> 3\u001b[1;33m \u001b[0mdf\u001b[0m\u001b[1;33m[\u001b[0m\u001b[1;34m'dgfdgh'\u001b[0m\u001b[1;33m]\u001b[0m\u001b[1;33m\u001b[0m\u001b[1;33m\u001b[0m\u001b[0m\n\u001b[0m",
      "\u001b[1;31mKeyError\u001b[0m: 'dgfdgh'"
     ]
    }
   ],
   "source": [
    "from collections import defaultdict\n",
    "df = defaultdict()\n",
    "df['dgfdgh']"
   ]
  },
  {
   "cell_type": "code",
   "execution_count": 31,
   "metadata": {},
   "outputs": [
    {
     "data": {
      "text/plain": [
       "True"
      ]
     },
     "execution_count": 31,
     "metadata": {},
     "output_type": "execute_result"
    }
   ],
   "source": [
    "'ac' < 'ad'"
   ]
  },
  {
   "cell_type": "code",
   "execution_count": 32,
   "metadata": {},
   "outputs": [
    {
     "data": {
      "text/plain": [
       "{0: 0, 1: 1, 2: 2, 3: 3}"
      ]
     },
     "execution_count": 32,
     "metadata": {},
     "output_type": "execute_result"
    }
   ],
   "source": [
    "{i:i for i in range(4)}"
   ]
  },
  {
   "cell_type": "code",
   "execution_count": 33,
   "metadata": {},
   "outputs": [
    {
     "data": {
      "text/plain": [
       "-35346"
      ]
     },
     "execution_count": 33,
     "metadata": {},
     "output_type": "execute_result"
    }
   ],
   "source": [
    "int('-35346')"
   ]
  },
  {
   "cell_type": "code",
   "execution_count": 34,
   "metadata": {},
   "outputs": [
    {
     "data": {
      "text/plain": [
       "'-346457'"
      ]
     },
     "execution_count": 34,
     "metadata": {},
     "output_type": "execute_result"
    }
   ],
   "source": [
    "str(-346457)"
   ]
  },
  {
   "cell_type": "code",
   "execution_count": 35,
   "metadata": {},
   "outputs": [
    {
     "data": {
      "text/plain": [
       "2"
      ]
     },
     "execution_count": 35,
     "metadata": {},
     "output_type": "execute_result"
    }
   ],
   "source": [
    "5 % 3"
   ]
  },
  {
   "cell_type": "code",
   "execution_count": 37,
   "metadata": {},
   "outputs": [
    {
     "ename": "ValueError",
     "evalue": "40 is not in list",
     "output_type": "error",
     "traceback": [
      "\u001b[1;31m---------------------------------------------------------------------------\u001b[0m",
      "\u001b[1;31mValueError\u001b[0m                                Traceback (most recent call last)",
      "\u001b[1;32m<ipython-input-37-728b02105890>\u001b[0m in \u001b[0;36m<module>\u001b[1;34m\u001b[0m\n\u001b[0;32m      1\u001b[0m \u001b[0ma\u001b[0m \u001b[1;33m=\u001b[0m \u001b[1;33m[\u001b[0m\u001b[1;36m1\u001b[0m\u001b[1;33m,\u001b[0m\u001b[1;36m2\u001b[0m\u001b[1;33m,\u001b[0m\u001b[1;36m4\u001b[0m\u001b[1;33m,\u001b[0m\u001b[1;36m5\u001b[0m\u001b[1;33m,\u001b[0m\u001b[1;36m7\u001b[0m\u001b[1;33m]\u001b[0m\u001b[1;33m\u001b[0m\u001b[1;33m\u001b[0m\u001b[0m\n\u001b[1;32m----> 2\u001b[1;33m \u001b[0ma\u001b[0m\u001b[1;33m.\u001b[0m\u001b[0mindex\u001b[0m\u001b[1;33m(\u001b[0m\u001b[1;36m40\u001b[0m\u001b[1;33m)\u001b[0m\u001b[1;33m\u001b[0m\u001b[1;33m\u001b[0m\u001b[0m\n\u001b[0m",
      "\u001b[1;31mValueError\u001b[0m: 40 is not in list"
     ]
    }
   ],
   "source": [
    "a = [1,2,4,5,7]\n",
    "a.index(40)"
   ]
  },
  {
   "cell_type": "code",
   "execution_count": 39,
   "metadata": {},
   "outputs": [
    {
     "data": {
      "text/plain": [
       "-3"
      ]
     },
     "execution_count": 39,
     "metadata": {},
     "output_type": "execute_result"
    }
   ],
   "source": [
    "int(-3.6)"
   ]
  },
  {
   "cell_type": "code",
   "execution_count": 40,
   "metadata": {},
   "outputs": [
    {
     "data": {
      "text/plain": [
       "[]"
      ]
     },
     "execution_count": 40,
     "metadata": {},
     "output_type": "execute_result"
    }
   ],
   "source": [
    "a = [2134,34634,887]\n"
   ]
  },
  {
   "cell_type": "code",
   "execution_count": 41,
   "metadata": {},
   "outputs": [
    {
     "ename": "SyntaxError",
     "evalue": "invalid syntax (<ipython-input-41-9df8c1313055>, line 1)",
     "output_type": "error",
     "traceback": [
      "\u001b[1;36m  File \u001b[1;32m\"<ipython-input-41-9df8c1313055>\"\u001b[1;36m, line \u001b[1;32m1\u001b[0m\n\u001b[1;33m    3>4?1:0\u001b[0m\n\u001b[1;37m       ^\u001b[0m\n\u001b[1;31mSyntaxError\u001b[0m\u001b[1;31m:\u001b[0m invalid syntax\n"
     ]
    }
   ],
   "source": [
    "3>4?1:0"
   ]
  },
  {
   "cell_type": "code",
   "execution_count": 46,
   "metadata": {},
   "outputs": [],
   "source": [
    "l1 = [1,2,4,5]\n",
    "l1 = l1.insert(2,3)"
   ]
  },
  {
   "cell_type": "code",
   "execution_count": 47,
   "metadata": {},
   "outputs": [],
   "source": [
    "l1"
   ]
  },
  {
   "cell_type": "code",
   "execution_count": 48,
   "metadata": {},
   "outputs": [
    {
     "data": {
      "text/plain": [
       "[]"
      ]
     },
     "execution_count": 48,
     "metadata": {},
     "output_type": "execute_result"
    }
   ],
   "source": [
    "[0] * 0"
   ]
  },
  {
   "cell_type": "code",
   "execution_count": 49,
   "metadata": {},
   "outputs": [
    {
     "data": {
      "text/plain": [
       "7"
      ]
     },
     "execution_count": 49,
     "metadata": {},
     "output_type": "execute_result"
    }
   ],
   "source": [
    "max([1,2,4,6,7])"
   ]
  },
  {
   "cell_type": "code",
   "execution_count": 57,
   "metadata": {},
   "outputs": [
    {
     "data": {
      "text/plain": [
       "50"
      ]
     },
     "execution_count": 57,
     "metadata": {},
     "output_type": "execute_result"
    }
   ],
   "source": [
    "w = {1:10, 2:20, 3:30, 5:50, -80:3059}\n",
    "w.pop(5)"
   ]
  },
  {
   "cell_type": "code",
   "execution_count": 60,
   "metadata": {},
   "outputs": [
    {
     "ename": "AttributeError",
     "evalue": "'int' object has no attribute 'is_integer'",
     "output_type": "error",
     "traceback": [
      "\u001b[1;31m---------------------------------------------------------------------------\u001b[0m",
      "\u001b[1;31mAttributeError\u001b[0m                            Traceback (most recent call last)",
      "\u001b[1;32m<ipython-input-60-d9a0a23dde4f>\u001b[0m in \u001b[0;36m<module>\u001b[1;34m\u001b[0m\n\u001b[0;32m      1\u001b[0m \u001b[0mx\u001b[0m \u001b[1;33m=\u001b[0m \u001b[1;36m3426456\u001b[0m\u001b[1;33m\u001b[0m\u001b[1;33m\u001b[0m\u001b[0m\n\u001b[1;32m----> 2\u001b[1;33m \u001b[0mx\u001b[0m\u001b[1;33m.\u001b[0m\u001b[0mis_integer\u001b[0m\u001b[1;33m(\u001b[0m\u001b[1;33m)\u001b[0m\u001b[1;33m\u001b[0m\u001b[1;33m\u001b[0m\u001b[0m\n\u001b[0m",
      "\u001b[1;31mAttributeError\u001b[0m: 'int' object has no attribute 'is_integer'"
     ]
    }
   ],
   "source": [
    "x = 3426456\n",
    "x.is_integer()"
   ]
  },
  {
   "cell_type": "code",
   "execution_count": 61,
   "metadata": {},
   "outputs": [],
   "source": [
    "a = [dict()] * 3"
   ]
  },
  {
   "cell_type": "code",
   "execution_count": 62,
   "metadata": {},
   "outputs": [],
   "source": [
    "a[0][0] = 1"
   ]
  },
  {
   "cell_type": "code",
   "execution_count": 63,
   "metadata": {},
   "outputs": [
    {
     "data": {
      "text/plain": [
       "[{0: 1}, {0: 1}, {0: 1}]"
      ]
     },
     "execution_count": 63,
     "metadata": {},
     "output_type": "execute_result"
    }
   ],
   "source": [
    "a"
   ]
  },
  {
   "cell_type": "code",
   "execution_count": 79,
   "metadata": {},
   "outputs": [],
   "source": [
    "class Solution:\n",
    "    def canFinish(self, numCourses: int, prerequisites) -> bool:\n",
    "        if numCourses <= 0:\n",
    "            return True\n",
    "        zero_queue = []\n",
    "        indegree = [0] * numCourses\n",
    "        done = [0] * numCourses\n",
    "        adjacency_dict = dict()\n",
    "        for x in prerequisites:\n",
    "            indegree[x[0]] += 1\n",
    "            #if x[0] >=0 and x[0] < numCourses: #just checking whether everything in range\n",
    "            if x[1] not in adjacency_dict:\n",
    "                adjacency_dict[x[1]] = []\n",
    "            adjacency_dict[x[1]].append(x[0])\n",
    "        \n",
    "        zero_queue = []\n",
    "        for i in range(numCourses):\n",
    "            if indegree[i] == 0:\n",
    "                zero_queue.append(i)\n",
    "                done[i] = 1\n",
    "        \n",
    "        while zero_queue:\n",
    "            #severe all the edges starting from members of zero_queue\n",
    "            print('zero_queue', zero_queue)\n",
    "            print('adjacency_dict', adjacency_dict)\n",
    "            print('indegree', indegree)\n",
    "            print('done', done)\n",
    "            for i in zero_queue:\n",
    "                if i in adjacency_dict:\n",
    "                    for x in adjacency_dict[i]:\n",
    "                        indegree[x] -= 1\n",
    "                    adjacency_dict.pop(i)\n",
    "                    \n",
    "\n",
    "            zero_queue = []\n",
    "            for i in range(numCourses):\n",
    "                if done[i] == 0 and indegree[i] == 0:\n",
    "                    zero_queue.append(i)\n",
    "                    done[i] = 1\n",
    "            \n",
    "            if sum(done) == numCourses:\n",
    "                return True\n",
    "        \n",
    "        \n",
    "        return False #there must have been a cycle, as zero_queue is empty\n",
    "        "
   ]
  },
  {
   "cell_type": "code",
   "execution_count": 80,
   "metadata": {},
   "outputs": [
    {
     "name": "stdout",
     "output_type": "stream",
     "text": [
      "zero_queue [0]\n",
      "adjacency_dict {0: [1]}\n",
      "indegree [0, 1]\n",
      "done [0, 0]\n"
     ]
    },
    {
     "data": {
      "text/plain": [
       "True"
      ]
     },
     "execution_count": 80,
     "metadata": {},
     "output_type": "execute_result"
    }
   ],
   "source": [
    "x = Solution()\n",
    "x.canFinish(2, [[1,0]])"
   ]
  },
  {
   "cell_type": "code",
   "execution_count": 82,
   "metadata": {},
   "outputs": [
    {
     "data": {
      "text/plain": [
       "'1'"
      ]
     },
     "execution_count": 82,
     "metadata": {},
     "output_type": "execute_result"
    }
   ],
   "source": [
    "c = bin(int('000', 2) + 1)\n",
    "c[2:]"
   ]
  },
  {
   "cell_type": "code",
   "execution_count": 83,
   "metadata": {},
   "outputs": [
    {
     "data": {
      "text/plain": [
       "'sdgdsh'"
      ]
     },
     "execution_count": 83,
     "metadata": {},
     "output_type": "execute_result"
    }
   ],
   "source": [
    "c = 'sdgdsh'\n",
    "c[:]"
   ]
  },
  {
   "cell_type": "code",
   "execution_count": 100,
   "metadata": {},
   "outputs": [],
   "source": [
    "def add1(numstr):\n",
    "    ans = list(numstr)\n",
    "    i = len(numstr) - 1\n",
    "    while ans[i] == '1':\n",
    "        ans[i] = '0'\n",
    "        i -= 1\n",
    "    if i >= 0:\n",
    "        ans[i] = '1'\n",
    "    return ''.join(ans)"
   ]
  },
  {
   "cell_type": "code",
   "execution_count": 101,
   "metadata": {},
   "outputs": [
    {
     "data": {
      "text/plain": [
       "'000'"
      ]
     },
     "execution_count": 101,
     "metadata": {},
     "output_type": "execute_result"
    }
   ],
   "source": [
    "add1('111')"
   ]
  },
  {
   "cell_type": "code",
   "execution_count": 3,
   "metadata": {},
   "outputs": [],
   "source": [
    "a = ['sdfdsg']\n",
    "x = a[:]"
   ]
  },
  {
   "cell_type": "code",
   "execution_count": 5,
   "metadata": {},
   "outputs": [
    {
     "name": "stdout",
     "output_type": "stream",
     "text": [
      "['sdfdsg'] ['f']\n"
     ]
    }
   ],
   "source": [
    "x[0] = 'f'\n",
    "print(a, x)"
   ]
  },
  {
   "cell_type": "code",
   "execution_count": 13,
   "metadata": {},
   "outputs": [
    {
     "data": {
      "text/plain": [
       "[['a', 'a', 'b'], ['aa', 'b']]"
      ]
     },
     "execution_count": 13,
     "metadata": {},
     "output_type": "execute_result"
    }
   ],
   "source": [
    "class Solution:\n",
    "    def partition(self, s: str): #-> List[List[str]]\n",
    "        ans = []\n",
    "        if s == '':\n",
    "            return ans\n",
    "        ans = [[s[0]]]\n",
    "        for i in range(1, len(s)):\n",
    "            newans = []\n",
    "            #add the latest character\n",
    "            for x in ans:\n",
    "                newans.append(x+[s[i]])\n",
    "            #print(newans)\n",
    "            for x in ans:\n",
    "                #add x[-1]+s[i] if it happens to be a palindrome\n",
    "                if self.isPalindrome(x[-1]+s[i]):\n",
    "                    y = x[:]\n",
    "                    y[-1] = y[-1] + s[i]\n",
    "                    newans.append(y)\n",
    "            ans = newans\n",
    "            \n",
    "            #\n",
    "        #         if len(x) >= 2 and self.isPalindrome(x[-2]+x[-1]+s[i]):\n",
    "        #             y = x[:]\n",
    "        #             y.pop()\n",
    "        #             y[-1] = x[-2]+x[-1]+s[i]\n",
    "        #             ans.append(y)\n",
    "        return ans\n",
    "                \n",
    "    def isPalindrome(self, s):\n",
    "        n = len(s)\n",
    "        i = 0\n",
    "        j = n - 1\n",
    "        while i < j:\n",
    "            if s[i] != s[j]:\n",
    "                return False\n",
    "            i += 1\n",
    "            j -= 1\n",
    "        return True\n",
    "            \n",
    "Solution().partition('aab')"
   ]
  },
  {
   "cell_type": "code",
   "execution_count": 5,
   "metadata": {},
   "outputs": [
    {
     "name": "stdout",
     "output_type": "stream",
     "text": [
      "+ operation 2.9900074005126953\n",
      ".append operation 0.0\n"
     ]
    }
   ],
   "source": [
    "a = [i for i in range(100000)]\n",
    "import time\n",
    "\n",
    "stt = time.time()\n",
    "b = a + [2]\n",
    "stp = time.time()\n",
    "print(\"+ operation\", float(stp-stt)*1000)\n",
    "\n",
    "stt = time.time()\n",
    "a.append(2)\n",
    "stp = time.time()\n",
    "print(\".append operation\", float(stp-stt)*1000)"
   ]
  },
  {
   "cell_type": "code",
   "execution_count": null,
   "metadata": {},
   "outputs": [],
   "source": [
    "board = [[\"a\",\"a\",\"a\",\"a\",\"a\",\"a\",\"a\",\"a\",\"a\",\"a\",\"a\",\"a\",\"a\",\"a\",\"a\",\"a\",\"a\",\"a\",\"a\",\"a\",\"a\",\"a\",\"a\",\"a\",\"a\",\"a\",\"a\",\"a\",\"a\",\"a\"],[\"a\",\"a\",\"a\",\"a\",\"a\",\"a\",\"a\",\"a\",\"a\",\"a\",\"a\",\"a\",\"a\",\"a\",\"a\",\"a\",\"a\",\"a\",\"a\",\"a\",\"a\",\"a\",\"a\",\"a\",\"a\",\"a\",\"a\",\"a\",\"a\",\"a\"],[\"a\",\"a\",\"a\",\"a\",\"a\",\"a\",\"a\",\"a\",\"a\",\"a\",\"a\",\"a\",\"a\",\"a\",\"a\",\"a\",\"a\",\"a\",\"a\",\"a\",\"a\",\"a\",\"a\",\"a\",\"a\",\"a\",\"a\",\"a\",\"a\",\"a\"],[\"a\",\"a\",\"a\",\"a\",\"a\",\"a\",\"a\",\"a\",\"a\",\"a\",\"a\",\"a\",\"a\",\"a\",\"a\",\"a\",\"a\",\"a\",\"a\",\"a\",\"a\",\"a\",\"a\",\"a\",\"a\",\"a\",\"a\",\"a\",\"a\",\"a\"],[\"a\",\"a\",\"a\",\"a\",\"a\",\"a\",\"a\",\"a\",\"a\",\"a\",\"a\",\"a\",\"a\",\"a\",\"a\",\"a\",\"a\",\"a\",\"a\",\"a\",\"a\",\"a\",\"a\",\"a\",\"a\",\"a\",\"a\",\"a\",\"a\",\"a\"],[\"a\",\"a\",\"a\",\"a\",\"a\",\"a\",\"a\",\"a\",\"a\",\"a\",\"a\",\"a\",\"a\",\"a\",\"a\",\"a\",\"a\",\"a\",\"a\",\"a\",\"a\",\"a\",\"a\",\"a\",\"a\",\"a\",\"a\",\"a\",\"a\",\"a\"],[\"a\",\"a\",\"a\",\"a\",\"a\",\"a\",\"a\",\"a\",\"a\",\"a\",\"a\",\"a\",\"a\",\"a\",\"a\",\"a\",\"a\",\"a\",\"a\",\"a\",\"a\",\"a\",\"a\",\"a\",\"a\",\"a\",\"a\",\"a\",\"a\",\"a\"],[\"a\",\"a\",\"a\",\"a\",\"a\",\"a\",\"a\",\"a\",\"a\",\"a\",\"a\",\"a\",\"a\",\"a\",\"a\",\"a\",\"a\",\"a\",\"a\",\"a\",\"a\",\"a\",\"a\",\"a\",\"a\",\"a\",\"a\",\"a\",\"a\",\"a\"],[\"a\",\"a\",\"a\",\"a\",\"a\",\"a\",\"a\",\"a\",\"a\",\"a\",\"a\",\"a\",\"a\",\"a\",\"a\",\"a\",\"a\",\"a\",\"a\",\"a\",\"a\",\"a\",\"a\",\"a\",\"a\",\"a\",\"a\",\"a\",\"a\",\"a\"],[\"a\",\"a\",\"a\",\"a\",\"a\",\"a\",\"a\",\"a\",\"a\",\"a\",\"a\",\"a\",\"a\",\"a\",\"a\",\"a\",\"a\",\"a\",\"a\",\"a\",\"a\",\"a\",\"a\",\"a\",\"a\",\"a\",\"a\",\"a\",\"a\",\"a\"],[\"a\",\"a\",\"a\",\"a\",\"a\",\"a\",\"a\",\"a\",\"a\",\"a\",\"a\",\"a\",\"a\",\"a\",\"a\",\"a\",\"a\",\"a\",\"a\",\"a\",\"a\",\"a\",\"a\",\"a\",\"a\",\"a\",\"a\",\"a\",\"a\",\"a\"],[\"a\",\"a\",\"a\",\"a\",\"a\",\"a\",\"a\",\"a\",\"a\",\"a\",\"a\",\"a\",\"a\",\"a\",\"a\",\"a\",\"a\",\"a\",\"a\",\"a\",\"a\",\"a\",\"a\",\"a\",\"a\",\"a\",\"a\",\"a\",\"a\",\"a\"],[\"a\",\"a\",\"a\",\"a\",\"a\",\"a\",\"a\",\"a\",\"a\",\"a\",\"a\",\"a\",\"a\",\"a\",\"a\",\"a\",\"a\",\"a\",\"a\",\"a\",\"a\",\"a\",\"a\",\"a\",\"a\",\"a\",\"a\",\"a\",\"a\",\"a\"],[\"a\",\"a\",\"a\",\"a\",\"a\",\"a\",\"a\",\"a\",\"a\",\"a\",\"a\",\"a\",\"a\",\"a\",\"a\",\"a\",\"a\",\"a\",\"a\",\"a\",\"a\",\"a\",\"a\",\"a\",\"a\",\"a\",\"a\",\"a\",\"a\",\"a\"],[\"a\",\"a\",\"a\",\"a\",\"a\",\"a\",\"a\",\"a\",\"a\",\"a\",\"a\",\"a\",\"a\",\"a\",\"a\",\"a\",\"a\",\"a\",\"a\",\"a\",\"a\",\"a\",\"a\",\"a\",\"a\",\"a\",\"a\",\"a\",\"a\",\"a\"],[\"a\",\"a\",\"a\",\"a\",\"a\",\"a\",\"a\",\"a\",\"a\",\"a\",\"a\",\"a\",\"a\",\"a\",\"a\",\"a\",\"a\",\"a\",\"a\",\"a\",\"a\",\"a\",\"a\",\"a\",\"a\",\"a\",\"a\",\"a\",\"a\",\"a\"],[\"a\",\"a\",\"a\",\"a\",\"a\",\"a\",\"a\",\"a\",\"a\",\"a\",\"a\",\"a\",\"a\",\"a\",\"a\",\"a\",\"a\",\"a\",\"a\",\"a\",\"a\",\"a\",\"a\",\"a\",\"a\",\"a\",\"a\",\"a\",\"a\",\"a\"],[\"a\",\"a\",\"a\",\"a\",\"a\",\"a\",\"a\",\"a\",\"a\",\"a\",\"a\",\"a\",\"a\",\"a\",\"a\",\"a\",\"a\",\"a\",\"a\",\"a\",\"a\",\"a\",\"a\",\"a\",\"a\",\"a\",\"a\",\"a\",\"a\",\"a\"],[\"a\",\"a\",\"a\",\"a\",\"a\",\"a\",\"a\",\"a\",\"a\",\"a\",\"a\",\"a\",\"a\",\"a\",\"a\",\"a\",\"a\",\"a\",\"a\",\"a\",\"a\",\"a\",\"a\",\"a\",\"a\",\"a\",\"a\",\"a\",\"a\",\"a\"],[\"a\",\"a\",\"a\",\"a\",\"a\",\"a\",\"a\",\"a\",\"a\",\"a\",\"a\",\"a\",\"a\",\"a\",\"a\",\"a\",\"a\",\"a\",\"a\",\"a\",\"a\",\"a\",\"a\",\"a\",\"a\",\"a\",\"a\",\"a\",\"a\",\"a\"],[\"a\",\"a\",\"a\",\"a\",\"a\",\"a\",\"a\",\"a\",\"a\",\"a\",\"a\",\"a\",\"a\",\"a\",\"a\",\"a\",\"a\",\"a\",\"a\",\"a\",\"a\",\"a\",\"a\",\"a\",\"a\",\"a\",\"a\",\"a\",\"a\",\"a\"],[\"a\",\"a\",\"a\",\"a\",\"a\",\"a\",\"a\",\"a\",\"a\",\"a\",\"a\",\"a\",\"a\",\"a\",\"a\",\"a\",\"a\",\"a\",\"a\",\"a\",\"a\",\"a\",\"a\",\"a\",\"a\",\"a\",\"a\",\"a\",\"a\",\"a\"],[\"a\",\"a\",\"a\",\"a\",\"a\",\"a\",\"a\",\"a\",\"a\",\"a\",\"a\",\"a\",\"a\",\"a\",\"a\",\"a\",\"a\",\"a\",\"a\",\"a\",\"a\",\"a\",\"a\",\"a\",\"a\",\"a\",\"a\",\"a\",\"a\",\"a\"],[\"a\",\"a\",\"a\",\"a\",\"a\",\"a\",\"a\",\"a\",\"a\",\"a\",\"a\",\"a\",\"a\",\"a\",\"a\",\"a\",\"a\",\"a\",\"a\",\"a\",\"a\",\"a\",\"a\",\"a\",\"a\",\"a\",\"a\",\"a\",\"a\",\"a\"],[\"a\",\"a\",\"a\",\"a\",\"a\",\"a\",\"a\",\"a\",\"a\",\"a\",\"a\",\"a\",\"a\",\"a\",\"a\",\"a\",\"a\",\"a\",\"a\",\"a\",\"a\",\"a\",\"a\",\"a\",\"a\",\"a\",\"a\",\"a\",\"a\",\"a\"],[\"a\",\"a\",\"a\",\"a\",\"a\",\"a\",\"a\",\"a\",\"a\",\"a\",\"a\",\"a\",\"a\",\"a\",\"a\",\"a\",\"a\",\"a\",\"a\",\"a\",\"a\",\"a\",\"a\",\"a\",\"a\",\"a\",\"a\",\"a\",\"a\",\"a\"],[\"a\",\"a\",\"a\",\"a\",\"a\",\"a\",\"a\",\"a\",\"a\",\"a\",\"a\",\"a\",\"a\",\"a\",\"a\",\"a\",\"a\",\"a\",\"a\",\"a\",\"a\",\"a\",\"a\",\"a\",\"a\",\"a\",\"a\",\"a\",\"a\",\"a\"],[\"a\",\"a\",\"a\",\"a\",\"a\",\"a\",\"a\",\"a\",\"a\",\"a\",\"a\",\"a\",\"a\",\"a\",\"a\",\"a\",\"a\",\"a\",\"a\",\"a\",\"a\",\"a\",\"a\",\"a\",\"a\",\"a\",\"a\",\"a\",\"a\",\"a\"],[\"a\",\"a\",\"a\",\"a\",\"a\",\"a\",\"a\",\"a\",\"a\",\"a\",\"a\",\"a\",\"a\",\"a\",\"a\",\"a\",\"a\",\"a\",\"a\",\"a\",\"a\",\"a\",\"a\",\"a\",\"a\",\"a\",\"a\",\"a\",\"a\",\"a\"],[\"a\",\"a\",\"a\",\"a\",\"a\",\"a\",\"a\",\"a\",\"a\",\"a\",\"a\",\"a\",\"a\",\"a\",\"a\",\"a\",\"a\",\"a\",\"a\",\"a\",\"a\",\"a\",\"a\",\"a\",\"a\",\"a\",\"a\",\"a\",\"a\",\"b\"]]\n",
    "word = \"baaaaaaaaaaaaaaaaaaaaaaaaaaaaaaaaaaaaaaaaaaaaaaaaaaaaaaaaaaaaaaaaaaaaaaaaaaaaaaaaaaaaaaaaaaaaaaaaaaaaaaaaaaaaaaaaaaaaaaaaaaaaaaaaaaaaaaaaaaaaaaaaaaaaaaaaaaaaaaaaaaaaaaaaaaaaaaaaaaaaaaaaaaaaaaaaaaaaaaaaaaaaaaaaaaaaaaaaaaaaaaaaaaaaaaaaaaaaaaaaaaaaaaaaaaaaaaaaaaaaaaaaaaaaaaaaaaaaaaaaaaaaaaaaaaaaaaaaaaaaaaaaaaaaaaaaaaaaaaaaaaaaaaaaaaaaaaaaaaaaaaaaaaaaaaaaaaaaaaaaaaaaaaaaaaaaaaaaaaaaaaaaaaaaaaaaaaaaaaaaaaaaaaaaaaaaaaaaaaaaaaaaaaaaaaaaaaaaaaaaaaaaaaaaaaaaaaaaaaaaaaaaaaaaaaaaaaaaaaaaaaaaaaaaaaaaaaaaaaaaaaaaaaaaaaaaaaaaaaaaaaaaaaaaaaaaaaaaaaaaaaaaaaaaaaaaaaaaaaaaaaaaaaaaaaaaaaaaaaaaaaaaaaaaaaaaaaaaaaaaaaaaaaaaaaaaaaaaaaaaaaaaaaaaaaaaaaaaaaaaaaaaaaaaaaaaaaaaaaaaaaaaaaaaaaaaaaaaaaaaaaaaaaaaaaaaaaaaaaaaaaaaaaaaaaaaaaaaaaaaaaaaaaaaaaaaaaaaaaaaaaaaaaaaaaaaaaaaaaaaaaaaaaaaaaaaaaaaaaaaaaaaaaaaaaaaaaaaaaaaaaaaaaaaaaaaaaaaaaaaaaaaaaaaaaaaaaaaaaaaaaaaaaaaaaaaaaaaaaaaaaaaaaaaaaaaaaaaaaaaaaaaaaaaaaaaaaaaaaa\"\n",
    "class Solution:\n",
    "    def exist(self, board, word) -> bool:\n",
    "        #search for the word minus the last character\n",
    "        if not board or not board[0]:\n",
    "            return -1\n",
    "        \n",
    "        m = len(board)\n",
    "        n = len(board[0])\n",
    "        \n",
    "        if len(word) == 0:\n",
    "            return True\n",
    "        \n",
    "        ans = []\n",
    "        for i in range(m):\n",
    "            for j in range(n):\n",
    "                if board[i][j] == word[0]:\n",
    "                    ans.append([(i,j)])\n",
    "\n",
    "        \n",
    "        \n",
    "        for ind in range(1,len(word)):\n",
    "            newans = []\n",
    "            \n",
    "            for x in ans:\n",
    "                #each x is a path\n",
    "                last_i, last_j = x[-1]\n",
    "                #last_i + 1, last_j\n",
    "                if last_i < m-1 and (last_i+1, last_j) not in x and \\\n",
    "                   board[last_i+1][last_j] == word[ind]:       \n",
    "                    y = x[:]\n",
    "                    y.append((last_i+1, last_j))\n",
    "                    newans.append(y)\n",
    "                    \n",
    "                #last_i - 1, last_j\n",
    "                if last_i > 0 and (last_i-1, last_j) not in x and \\\n",
    "                   board[last_i-1][last_j] == word[ind]:\n",
    "                    y = x[:]\n",
    "                    y.append((last_i-1, last_j))\n",
    "                    newans.append(y)\n",
    "                \n",
    "                #last_i, last_j + 1\n",
    "                if last_j < n-1 and (last_i, last_j+1) not in x and \\\n",
    "                   board[last_i][last_j+1] == word[ind]:\n",
    "                    y = x[:]\n",
    "                    y.append((last_i, last_j+1))\n",
    "                    newans.append(y)\n",
    "                    \n",
    "                \n",
    "                #last_i, last_j - 1\n",
    "                if last_j > 0 and (last_i, last_j-1) not in x and \\\n",
    "                   board[last_i][last_j-1] == word[ind]:\n",
    "                    y = x[:]\n",
    "                    y.append((last_i, last_j-1))\n",
    "                    newans.append(y)\n",
    "                \n",
    "            ans = newans\n",
    "            \n",
    "            \n",
    "        if ans:\n",
    "            return True\n",
    "        return False\n",
    "Solution().exist(board, word)"
   ]
  },
  {
   "cell_type": "code",
   "execution_count": 8,
   "metadata": {},
   "outputs": [
    {
     "name": "stdout",
     "output_type": "stream",
     "text": [
      "{1: 2}\n"
     ]
    },
    {
     "data": {
      "text/plain": [
       "2"
      ]
     },
     "execution_count": 8,
     "metadata": {},
     "output_type": "execute_result"
    }
   ],
   "source": [
    "a = {1:2}\n",
    "for x in a:\n",
    "    print(a)\n",
    "a.pop(1)"
   ]
  },
  {
   "cell_type": "code",
   "execution_count": 10,
   "metadata": {},
   "outputs": [
    {
     "data": {
      "text/plain": [
       "{}"
      ]
     },
     "execution_count": 10,
     "metadata": {},
     "output_type": "execute_result"
    }
   ],
   "source": [
    "a"
   ]
  },
  {
   "cell_type": "code",
   "execution_count": 8,
   "metadata": {},
   "outputs": [
    {
     "data": {
      "text/plain": [
       "False"
      ]
     },
     "execution_count": 8,
     "metadata": {},
     "output_type": "execute_result"
    }
   ],
   "source": [
    "a.get(1) == None"
   ]
  },
  {
   "cell_type": "code",
   "execution_count": 9,
   "metadata": {},
   "outputs": [
    {
     "data": {
      "text/plain": [
       "False"
      ]
     },
     "execution_count": 9,
     "metadata": {},
     "output_type": "execute_result"
    }
   ],
   "source": [
    "[] == None"
   ]
  },
  {
   "cell_type": "code",
   "execution_count": 17,
   "metadata": {},
   "outputs": [
    {
     "name": "stdout",
     "output_type": "stream",
     "text": [
      "Yo\n"
     ]
    }
   ],
   "source": [
    "a = None\n",
    "if not ():\n",
    "    print(\"Yo\")"
   ]
  },
  {
   "cell_type": "code",
   "execution_count": 5,
   "metadata": {},
   "outputs": [
    {
     "name": "stdout",
     "output_type": "stream",
     "text": [
      "100\n"
     ]
    }
   ],
   "source": [
    "a = 0\n",
    "for i in range(10):\n",
    "    a += 10*(True or False)\n",
    "print(a)"
   ]
  },
  {
   "cell_type": "code",
   "execution_count": 13,
   "metadata": {},
   "outputs": [
    {
     "data": {
      "text/plain": [
       "{1, 2, 3, 5}"
      ]
     },
     "execution_count": 13,
     "metadata": {},
     "output_type": "execute_result"
    }
   ],
   "source": [
    "set(set([1,1,2,3,5]))"
   ]
  },
  {
   "cell_type": "code",
   "execution_count": 16,
   "metadata": {},
   "outputs": [
    {
     "name": "stdout",
     "output_type": "stream",
     "text": [
      "[1, 2, 4, 5]\n"
     ]
    }
   ],
   "source": [
    "a = [1,2,4,5]\n",
    "b = a.copy() #list(a)\n",
    "b[0] = 10000\n",
    "print(a)"
   ]
  },
  {
   "cell_type": "code",
   "execution_count": 18,
   "metadata": {},
   "outputs": [],
   "source": [
    "a.remove(5)"
   ]
  },
  {
   "cell_type": "code",
   "execution_count": 19,
   "metadata": {},
   "outputs": [
    {
     "ename": "KeyError",
     "evalue": "0",
     "output_type": "error",
     "traceback": [
      "\u001b[1;31m---------------------------------------------------------------------------\u001b[0m",
      "\u001b[1;31mKeyError\u001b[0m                                  Traceback (most recent call last)",
      "\u001b[1;32m<ipython-input-19-eedd32a057a2>\u001b[0m in \u001b[0;36m<module>\u001b[1;34m\u001b[0m\n\u001b[0;32m      1\u001b[0m \u001b[1;32mfrom\u001b[0m \u001b[0mcollections\u001b[0m \u001b[1;32mimport\u001b[0m \u001b[0mdefaultdict\u001b[0m\u001b[1;33m\u001b[0m\u001b[1;33m\u001b[0m\u001b[0m\n\u001b[0;32m      2\u001b[0m \u001b[0ma\u001b[0m \u001b[1;33m=\u001b[0m \u001b[0mdefaultdict\u001b[0m\u001b[1;33m(\u001b[0m\u001b[1;33m)\u001b[0m\u001b[1;33m\u001b[0m\u001b[1;33m\u001b[0m\u001b[0m\n\u001b[1;32m----> 3\u001b[1;33m \u001b[0ma\u001b[0m\u001b[1;33m[\u001b[0m\u001b[1;36m0\u001b[0m\u001b[1;33m]\u001b[0m\u001b[1;33m\u001b[0m\u001b[1;33m\u001b[0m\u001b[0m\n\u001b[0m",
      "\u001b[1;31mKeyError\u001b[0m: 0"
     ]
    }
   ],
   "source": [
    "from collections import defaultdict\n",
    "a = defaultdict()\n",
    "a[0]"
   ]
  },
  {
   "cell_type": "code",
   "execution_count": 23,
   "metadata": {},
   "outputs": [
    {
     "data": {
      "text/plain": [
       "{1, 2}"
      ]
     },
     "execution_count": 23,
     "metadata": {},
     "output_type": "execute_result"
    }
   ],
   "source": [
    "a = {1,2,4,5}\n",
    "a.difference([3,3,4,5])"
   ]
  },
  {
   "cell_type": "code",
   "execution_count": 26,
   "metadata": {},
   "outputs": [
    {
     "name": "stdout",
     "output_type": "stream",
     "text": [
      "True\n"
     ]
    }
   ],
   "source": [
    "a = ''\n",
    "if not a:\n",
    "    print(True)\n"
   ]
  },
  {
   "cell_type": "code",
   "execution_count": 6,
   "metadata": {},
   "outputs": [
    {
     "name": "stdout",
     "output_type": "stream",
     "text": [
      "{'qa': {'na', 'ra', 'fa', 'ga', 'ta', 'ma', 'pa', 'ya', 'ba', 'la', 'ha', 'ca'}, 'fa': {'na', 'ra', 'ga', 'ta', 'ma', 'fe', 'qa', 'fm', 'pa', 'fr', 'ya', 'ba', 'la', 'ha', 'ca'}, 'mr': {'kr', 'sr', 'lr', 'or', 'ur', 'ma', 'ar', 'mi', 'mb', 'fr', 'mo', 'cr', 'mt', 'mn', 'me', 'er', 'br'}, 'ur': {'kr', 'sr', 'lr', 'mr', 'uh', 'or', 'ar', 'fr', 'cr', 'er', 'br'}, 'ph': {'pm', 'sh', 'pt', 'po', 'uh', 'pa', 'rh', 'pb', 'th', 'pi'}, 'go': {'ga', 'to', 'co', 'po', 'no', 'so', 'io', 'lo', 'mo', 'ho', 'ge', 'yo'}, 'fm': {'pm', 'sm', 'fa', 'tm', 'am', 'cm', 'fr', 'fe', 'wm'}, 'ho': {'hz', 'co', 'to', 'po', 'he', 'no', 'so', 'go', 'io', 'lo', 'mo', 'ha', 'yo', 'hi'}, 'si': {'sr', 'bi', 'st', 'hi', 'ci', 'sq', 'so', 'sh', 'sm', 'di', 'sc', 'ti', 'li', 'sn', 'se', 'ni', 'sb', 'mi', 'pi'}, 'wm': {'pm', 'sm', 'tm', 'am', 'fm', 'cm'}, 'ca': {'na', 'ra', 'fa', 'ga', 'co', 'ta', 'cm', 'ma', 'pa', 'ci', 'ya', 'ba', 'cr', 'ha', 'qa', 'la'}, 'ye': {'se', 'le', 'he', 'ge', 'be', 'ne', 'ya', 'fe', 're', 'me', 'yo', 'yb'}, 'pb': {'pm', 'db', 'pt', 'po', 'sb', 'ph', 'pa', 'mb', 'yb', 'nb', 'tb', 'rb', 'pi'}, 'li': {'di', 'le', 'ni', 'ti', 'bi', 'lr', 'lt', 'mi', 'pi', 'lo', 'la', 'ci', 'si', 'ln', 'hi'}, 'er': {'kr', 'sr', 'lr', 'mr', 'or', 'ur', 'ar', 'fr', 'cr', 'br', 'ex'}, 'uh': {'sh', 'ur', 'ph', 'rh', 'th'}, 'sb': {'sh', 'sn', 'sm', 'se', 'sc', 'sr', 'st', 'db', 'sq', 'so', 'mb', 'tb', 'nb', 'pb', 'si', 'rb', 'yb'}, 'no': {'na', 'co', 'to', 'po', 'ni', 'so', 'nb', 'go', 'io', 'ne', 'lo', 'mo', 'ho', 'yo'}, 'ha': {'hz', 'na', 'fa', 'ra', 'ga', 'he', 'ta', 'ma', 'qa', 'pa', 'ba', 'ya', 'ho', 'la', 'ca', 'hi'}, 'yo': {'co', 'to', 'po', 'no', 'so', 'go', 'ye', 'io', 'lo', 'ya', 'ho', 'mo', 'yb'}, 'hi': {'hz', 'di', 'ni', 'ti', 'bi', 'he', 'mi', 'ci', 'ho', 'li', 'ha', 'si', 'pi'}, 'hz': {'ha', 'he', 'hi', 'ho'}, 'pt': {'pm', 'po', 'st', 'lt', 'ph', 'pa', 'pb', 'mt', 'pi'}, 'sr': {'kr', 'st', 'mr', 'ur', 'si', 'sq', 'lr', 'so', 'sh', 'sm', 'sc', 'er', 'br', 'sn', 'se', 'sb', 'or', 'ar', 'fr', 'cr'}, 'bi': {'di', 'ni', 'ti', 'mi', 'pi', 'ba', 'li', 'ci', 'si', 'be', 'br', 'hi'}, 'st': {'sh', 'sn', 'sm', 'pt', 'sc', 'sr', 'se', 'sq', 'sb', 'lt', 'so', 'mt', 'si'}, 'ne': {'na', 'se', 'le', 'ni', 'he', 'no', 'me', 'nb', 'ye', 'fe', 're', 'be', 'ge'}, 'ci': {'cr', 'ca', 'di', 'co', 'ti', 'bi', 'ni', 'mi', 'pi', 'cm', 'li', 'si', 'hi'}, 'be': {'se', 'le', 'bi', 'he', 'ge', 'fe', 'ye', 'ne', 'ba', 're', 'me', 'br'}, 'ra': {'na', 'fa', 'ga', 'ta', 'ma', 'rn', 'qa', 'pa', 're', 'ya', 'ba', 'la', 'ha', 'ca', 'rb', 'rh'}, 'ga': {'na', 'ra', 'fa', 'ta', 'ma', 'qa', 'go', 'pa', 'ya', 'ba', 'la', 'ha', 'ca', 'ge'}, 'os': {'or', 'as', 'ow'}, 'ow': {'os', 'or'}, 'me': {'se', 'le', 'mr', 'he', 'ma', 'mi', 'ye', 'mb', 'ne', 're', 'mo', 'fe', 'mt', 'mn', 'be', 'ge'}, 'sc': {'sh', 'sn', 'sm', 'se', 'sr', 'sq', 'st', 'sb', 'so', 'si', 'tc'}, 'pa': {'na', 'pm', 'fa', 'pt', 'ra', 'ga', 'ta', 'ma', 'po', 'ph', 'qa', 'ya', 'ba', 'pb', 'ha', 'ca', 'la', 'pi'}, 'ya': {'na', 'fa', 'ra', 'ga', 'ta', 'ma', 'qa', 'pa', 'ye', 'ba', 'la', 'ha', 'ca', 'yo', 'yb'}, 'ba': {'na', 'fa', 'ra', 'ga', 'bi', 'ta', 'ma', 'qa', 'pa', 'ya', 'la', 'ha', 'ca', 'be', 'br'}, 'mt': {'pt', 'st', 'mr', 'ma', 'lt', 'mi', 'mb', 'mo', 'mn', 'me'}, 're': {'rb', 'se', 'ra', 'le', 'he', 'rn', 'me', 'ye', 'ne', 'fe', 'ge', 'be', 'rh'}, 'tc': {'sc', 'ti', 'to', 'tm', 'ta', 'tb', 'th'}, 'br': {'kr', 'sr', 'lr', 'bi', 'mr', 'or', 'ur', 'ar', 'fr', 'ba', 'cr', 'be', 'er'}, 'th': {'sh', 'ti', 'to', 'uh', 'tm', 'ta', 'ph', 'rh', 'tb', 'tc'}, 'am': {'pm', 'av', 'sm', 'tm', 'an', 'ar', 'fm', 'as', 'cm', 'wm', 'au'}, 'or': {'kr', 'sr', 'lr', 'mr', 'os', 'ur', 'ar', 'fr', 'ow', 'cr', 'er', 'br'}, 'ar': {'av', 'kr', 'sr', 'lr', 'mr', 'am', 'ur', 'or', 'as', 'fr', 'au', 'cr', 'an', 'er', 'br'}, 'lo': {'le', 'co', 'to', 'lr', 'po', 'no', 'lt', 'so', 'go', 'io', 'mo', 'ho', 'li', 'la', 'yo', 'ln'}, 'cm': {'pm', 'ca', 'sm', 'co', 'tm', 'am', 'fm', 'cr', 'ci', 'wm'}, 'cr': {'kr', 'sr', 'lr', 'co', 'mr', 'or', 'ur', 'ar', 'fr', 'cm', 'ci', 'ca', 'er', 'br'}, 'mn': {'sn', 'mr', 'ma', 'rn', 'mi', 'mb', 'mo', 'mt', 'an', 'me', 'ln'}, 'pi': {'pm', 'di', 'pt', 'po', 'ti', 'bi', 'ni', 'mi', 'ph', 'pa', 'pb', 'ci', 'si', 'li', 'hi'}, 'na': {'fa', 'ra', 'ga', 'ni', 'ta', 'ma', 'no', 'qa', 'nb', 'pa', 'ne', 'ya', 'ba', 'la', 'ha', 'ca'}, 'le': {'se', 'lr', 'he', 'lt', 'me', 'ye', 'ne', 'lo', 'la', 'fe', 'li', 're', 'be', 'ge', 'ln'}, 'rn': {'sn', 'ra', 'an', 'rh', 're', 'mn', 'rb', 'ln'}, 'io': {'if', 'to', 'co', 'po', 'no', 'so', 'go', 'lo', 'mo', 'ho', 'yo'}, 'fe': {'se', 'fa', 'le', 'he', 'me', 'fm', 'ye', 'ne', 'fr', 're', 'be', 'ge'}, 'if': {'io'}, 'lt': {'pt', 'le', 'lr', 'st', 'lo', 'la', 'li', 'mt', 'ln'}, 'so': {'sr', 'st', 'go', 'io', 'ho', 'si', 'sq', 'sh', 'sm', 'sc', 'co', 'sn', 'se', 'po', 'to', 'sb', 'no', 'lo', 'mo', 'yo'}, 'as': {'av', 'os', 'am', 'ar', 'au', 'an'}, 'au': {'av', 'am', 'ar', 'as', 'an'}, 'rh': {'sh', 'ra', 'uh', 'rn', 'ph', 're', 'rb', 'th'}, 'an': {'sn', 'av', 'am', 'rn', 'ar', 'as', 'au', 'mn', 'ln'}, 'sm': {'pm', 'sh', 'wm', 'sn', 'se', 'sr', 'sc', 'st', 'am', 'sb', 'sq', 'so', 'tm', 'fm', 'cm', 'si'}, 'di': {'db', 'ni', 'ti', 'bi', 'mi', 'pi', 'li', 'ci', 'si', 'hi'}, 'ti': {'di', 'ni', 'to', 'bi', 'tm', 'ta', 'mi', 'pi', 'tb', 'li', 'ci', 'si', 'tc', 'th', 'hi'}, 'he': {'hz', 'se', 'le', 'fe', 'me', 'ye', 'ne', 're', 'ho', 'ha', 'be', 'ge', 'hi'}, 'yb': {'db', 'sb', 'ye', 'mb', 'ya', 'nb', 'pb', 'tb', 'rb', 'yo'}, 'se': {'le', 'sr', 'st', 'ne', 'fe', 'si', 'be', 'sq', 'so', 'me', 'sh', 'sm', 'sc', 'he', 'ye', 're', 'sn', 'sb', 'ge'}, 'to': {'co', 'ti', 'tm', 'ta', 'po', 'no', 'so', 'go', 'io', 'lo', 'mo', 'ho', 'th', 'tb', 'tc', 'yo'}, 'mo': {'co', 'to', 'po', 'mr', 'ma', 'no', 'so', 'mi', 'go', 'io', 'mb', 'lo', 'ho', 'mt', 'mn', 'me', 'yo'}, 'nb': {'na', 'db', 'ni', 'sb', 'no', 'mb', 'ne', 'tb', 'pb', 'rb', 'yb'}, 'av': {'am', 'ar', 'as', 'au', 'an'}, 'kr': {'sr', 'lr', 'mr', 'or', 'ur', 'ar', 'fr', 'cr', 'er', 'br'}, 'db': {'di', 'sb', 'mb', 'tb', 'nb', 'pb', 'rb', 'yb'}, 'mb': {'rb', 'db', 'mr', 'sb', 'ma', 'mi', 'mo', 'nb', 'pb', 'mt', 'mn', 'me', 'tb', 'yb'}, 'rb': {'db', 'ra', 'sb', 'rn', 'nb', 'mb', 'tb', 'rh', 'pb', 're', 'yb'}, 'pm': {'sm', 'pt', 'po', 'tm', 'am', 'ph', 'fm', 'pa', 'cm', 'pb', 'wm', 'pi'}, 'sq': {'sh', 'sn', 'sm', 'se', 'sc', 'sr', 'st', 'sb', 'so', 'si'}, 'lr': {'cr', 'kr', 'le', 'sr', 'mr', 'or', 'ur', 'lt', 'ar', 'fr', 'lo', 'la', 'li', 'er', 'br', 'ln'}, 'la': {'na', 'ra', 'fa', 'ga', 'le', 'lr', 'ta', 'lt', 'ma', 'qa', 'pa', 'lo', 'ya', 'ba', 'li', 'ha', 'ca', 'ln'}, 'tb': {'db', 'ti', 'to', 'tm', 'sb', 'ta', 'mb', 'nb', 'pb', 'rb', 'tc', 'th', 'yb'}, 'ex': {'er'}, 'sh': {'sn', 'sm', 'se', 'sr', 'sc', 'st', 'uh', 'sb', 'sq', 'so', 'ph', 'rh', 'si', 'th'}, 'co': {'po', 'to', 'cm', 'no', 'so', 'go', 'io', 'lo', 'mo', 'ho', 'cr', 'ci', 'ca', 'yo'}, 'tm': {'pm', 'sm', 'ti', 'to', 'am', 'ta', 'fm', 'cm', 'tb', 'wm', 'tc', 'th'}, 'ta': {'na', 'ra', 'fa', 'ga', 'ti', 'to', 'tm', 'ma', 'qa', 'pa', 'ya', 'ba', 'la', 'ha', 'ca', 'tb', 'tc', 'th'}, 'ma': {'na', 'fa', 'mr', 'mb', 'ra', 'ga', 'la', 'ca', 'me', 'ta', 'pa', 'ya', 'ba', 'mt', 'mn', 'mi', 'mo', 'ha', 'qa'}, 'sn': {'sh', 'sm', 'se', 'sc', 'sr', 'st', 'sq', 'sb', 'rn', 'so', 'an', 'ln', 'si', 'mn'}, 'po': {'pm', 'pt', 'co', 'to', 'no', 'so', 'ph', 'go', 'pa', 'io', 'lo', 'mo', 'ho', 'pb', 'yo', 'pi'}, 'ni': {'na', 'di', 'ti', 'bi', 'no', 'mi', 'pi', 'ne', 'nb', 'li', 'ci', 'si', 'hi'}, 'mi': {'mt', 'di', 'ni', 'ti', 'bi', 'mr', 'ma', 'mb', 'pi', 'mo', 'li', 'ci', 'si', 'me', 'mn', 'hi'}, 'fr': {'kr', 'fa', 'sr', 'lr', 'mr', 'or', 'ur', 'ar', 'fm', 'fe', 'cr', 'er', 'br'}, 'ge': {'se', 'le', 'ga', 'he', 'me', 'go', 'ye', 'ne', 'fe', 're', 'be'}, 'ln': {'sn', 'le', 'lr', 'rn', 'lt', 'an', 'lo', 'la', 'li', 'mn'}}\n"
     ]
    }
   ],
   "source": [
    "class Solution:\n",
    "    def distance(self, x, y):\n",
    "        cnt = 0\n",
    "        for i in range(len(x)):\n",
    "            if x[i] != y[i]:\n",
    "                cnt += 1\n",
    "        return cnt\n",
    "    \n",
    "    def create_adjacency_dict(self,beginWord, wordList):\n",
    "        \n",
    "        self.adjacency_list = dict()\n",
    "        self.adjacency_list[beginWord] = set()\n",
    "        for x in wordList:\n",
    "            if self.distance(beginWord, x) == 1:\n",
    "                self.adjacency_list[beginWord].add(x)\n",
    "        \n",
    "        \n",
    "        #could cut time by 2 b/c i --> j is the same as j --> i\n",
    "        for x in wordList:\n",
    "            self.adjacency_list[x] = set()\n",
    "            for y in wordList:\n",
    "                if self.distance(y, x) == 1:\n",
    "                    self.adjacency_list[x].add(y)\n",
    "        \n",
    "    def ladderLength(self, beginWord: str, endWord: str, wordList) -> int:    \n",
    "        \n",
    "        wordList = set(wordList)\n",
    "        \n",
    "        if not beginWord or not wordList or endWord not in wordList:\n",
    "            return 0\n",
    "        self.create_adjacency_dict(beginWord, wordList)\n",
    "        print(self.adjacency_list)\n",
    "        #return self.ladderLength1(beginWord, endWord, wordList, [])\n",
    "    \n",
    "    def ladderLength1(self, beginWord: str, endWord: str, wordList, queue) -> int:\n",
    "        \n",
    "        #print(wordList)\n",
    "        \n",
    "        if self.distance(beginWord, endWord) == 1:\n",
    "            return 2\n",
    "        \n",
    "        ans = len(wordList)\n",
    "        for x in self.adjacency_list[beginWord].difference(queue):\n",
    "            queue_new = queue.copy()\n",
    "            queue_new.append(x)\n",
    "            dist = self.ladderLength1(x, endWord, wordList, queue_new)\n",
    "            if dist != 0 and dist < ans:\n",
    "                ans = dist\n",
    "                #print(x)\n",
    "        \n",
    "        if ans == len(wordList):\n",
    "            return 0\n",
    "        \n",
    "        return ans + 1\n",
    "Solution().ladderLength('qa','sq',[\"si\",\"go\",\"se\",\"cm\",\"so\",\"ph\",\"mt\",\"db\",\"mb\",\"sb\",\"kr\",\"ln\",\"tm\",\"le\",\"av\",\"sm\",\"ar\",\"ci\",\"ca\",\"br\",\"ti\",\"ba\",\"to\",\"ra\",\"fa\",\"yo\",\"ow\",\"sn\",\"ya\",\"cr\",\"po\",\"fe\",\"ho\",\"ma\",\"re\",\"or\",\"rn\",\"au\",\"ur\",\"rh\",\"sr\",\"tc\",\"lt\",\"lo\",\"as\",\"fr\",\"nb\",\"yb\",\"if\",\"pb\",\"ge\",\"th\",\"pm\",\"rb\",\"sh\",\"co\",\"ga\",\"li\",\"ha\",\"hz\",\"no\",\"bi\",\"di\",\"hi\",\"qa\",\"pi\",\"os\",\"uh\",\"wm\",\"an\",\"me\",\"mo\",\"na\",\"la\",\"st\",\"er\",\"sc\",\"ne\",\"mn\",\"mi\",\"am\",\"ex\",\"pt\",\"io\",\"be\",\"fm\",\"ta\",\"tb\",\"ni\",\"mr\",\"pa\",\"he\",\"lr\",\"sq\",\"ye\"])"
   ]
  },
  {
   "cell_type": "code",
   "execution_count": 4,
   "metadata": {},
   "outputs": [
    {
     "data": {
      "text/plain": [
       "1"
      ]
     },
     "execution_count": 4,
     "metadata": {},
     "output_type": "execute_result"
    }
   ],
   "source": [
    "from random import randint\n",
    "randint(0,1)"
   ]
  },
  {
   "cell_type": "code",
   "execution_count": 1,
   "metadata": {},
   "outputs": [
    {
     "data": {
      "text/plain": [
       "8"
      ]
     },
     "execution_count": 1,
     "metadata": {},
     "output_type": "execute_result"
    }
   ],
   "source": [
    "a = 1\n",
    "a += 3+4\n",
    "a"
   ]
  },
  {
   "cell_type": "code",
   "execution_count": null,
   "metadata": {},
   "outputs": [],
   "source": []
  }
 ],
 "metadata": {
  "kernelspec": {
   "display_name": "Python 3",
   "language": "python",
   "name": "python3"
  },
  "language_info": {
   "codemirror_mode": {
    "name": "ipython",
    "version": 3
   },
   "file_extension": ".py",
   "mimetype": "text/x-python",
   "name": "python",
   "nbconvert_exporter": "python",
   "pygments_lexer": "ipython3",
   "version": "3.7.6"
  }
 },
 "nbformat": 4,
 "nbformat_minor": 4
}
