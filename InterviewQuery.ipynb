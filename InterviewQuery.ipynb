{
 "cells": [
  {
   "cell_type": "code",
   "execution_count": null,
   "metadata": {},
   "outputs": [],
   "source": [
    "import pandas as pd"
   ]
  },
  {
   "cell_type": "code",
   "execution_count": null,
   "metadata": {},
   "outputs": [],
   "source": [
    "ts = [\n",
    "    '2019-01-01', \n",
    "    '2019-01-02',\n",
    "    '2019-01-08', \n",
    "    '2019-02-01', \n",
    "    '2019-02-02',\n",
    "    '2019-02-05',\n",
    "]\n",
    "\n",
    "# output = [\n",
    "#     ['2019-01-01', '2019-01-02'], \n",
    "#     ['2019-01-08'], \n",
    "#     ['2019-02-01', '2019-02-02'],\n",
    "#     ['2019-02-05'],\n",
    "# ]\n",
    "[['2019-01-01', '2019-01-02'],\n",
    " ['2019-01-08'],\n",
    " ['2019-02-01', '2019-02-02'],\n",
    " ['2019-02-05']]"
   ]
  },
  {
   "cell_type": "code",
   "execution_count": null,
   "metadata": {},
   "outputs": [],
   "source": [
    "df = pd.DataFrame({'dates':pd.to_datetime(ts)})\n",
    "df.set_index('dates', drop=False, inplace=True)\n",
    "df.resample('W').apply(lambda x: [f for f in x])"
   ]
  },
  {
   "cell_type": "code",
   "execution_count": null,
   "metadata": {},
   "outputs": [],
   "source": [
    "import datetime\n",
    "#ts is the list given to me\n",
    "def grouped_items(ts):\n",
    "    dates = [datetime.datetime.strptime(x, f'%Y-%m-%d') for x in ts]\n",
    "    week_nums = [((x-dates[0]).days)//7 for x in dates]\n",
    "    grouped = dict()\n",
    "    for i in range(len(ts)):\n",
    "        if week_nums[i] not in grouped:\n",
    "            grouped[week_nums[i]] = [ts[i]]\n",
    "        else:\n",
    "            grouped[week_nums[i]].append(ts[i])\n",
    "    ans = []\n",
    "    for i in grouped.keys():\n",
    "        ans.append(grouped[i])\n",
    "    return ans\n",
    "\n",
    "grouped_items(ts)"
   ]
  },
  {
   "cell_type": "markdown",
   "metadata": {},
   "source": [
    "\n",
    "When using the with method, we can read in the next line and the previous one will be garbage collected unless it gets stored as reference somewhere. That way we can continually count each line in the file without having to worry about total size.\n",
    "\n",
    "If we're dealing a file in which we can't parse out the newlines with a function infile, then we need to count using a different method of looking at something such as the new line breaks."
   ]
  },
  {
   "cell_type": "markdown",
   "metadata": {},
   "source": [
    "In Gibbs sampling, choosing the most recent value vs using all values from the previous iteration. Better convergence whsn using more recent values?"
   ]
  },
  {
   "cell_type": "code",
   "execution_count": null,
   "metadata": {},
   "outputs": [],
   "source": [
    "cnt = 0\n",
    "with open(\"byte-by-byte.ipynb\") as f:\n",
    "#     while f.readline():\n",
    "    for x in f:\n",
    "        cnt += 1\n",
    "print(cnt)\n",
    "del f"
   ]
  },
  {
   "cell_type": "code",
   "execution_count": null,
   "metadata": {},
   "outputs": [],
   "source": [
    "cnt = 0\n",
    "with open(\"byte-by-byte.ipynb\") as f:\n",
    "    while f.readline():\n",
    "#     for x in f:\n",
    "        cnt += 1\n",
    "print(cnt)\n"
   ]
  },
  {
   "cell_type": "code",
   "execution_count": null,
   "metadata": {},
   "outputs": [],
   "source": [
    "del f "
   ]
  },
  {
   "cell_type": "code",
   "execution_count": null,
   "metadata": {},
   "outputs": [],
   "source": [
    "f = open(\"byte-by-byte.ipynb\", 'r')\n",
    "cnt = 0\n",
    "while True:\n",
    "    x = f.read(1)\n",
    "    if x:\n",
    "        cnt += x.count('\\n')\n",
    "    else:\n",
    "        break\n",
    "print(cnt)\n",
    "f.close()"
   ]
  },
  {
   "cell_type": "code",
   "execution_count": null,
   "metadata": {},
   "outputs": [],
   "source": [
    "import numpy as np\n",
    "a = np.random.rand(10)\n",
    "sum(a <= 0.5)"
   ]
  },
  {
   "cell_type": "code",
   "execution_count": null,
   "metadata": {},
   "outputs": [],
   "source": []
  },
  {
   "cell_type": "code",
   "execution_count": null,
   "metadata": {},
   "outputs": [],
   "source": [
    "# iid variables, so I can multiply num days\n",
    "num = 1000000\n",
    "x = 5 * np.random.rand(num)\n",
    "y = 5 * np.random.rand(num)\n",
    "bad_arr = (np.abs(x - y) <= 1) * 1\n",
    "365 * 1000 * np.sum(bad_arr) / num"
   ]
  },
  {
   "cell_type": "code",
   "execution_count": null,
   "metadata": {},
   "outputs": [],
   "source": [
    "len(bad_arr)"
   ]
  },
  {
   "cell_type": "code",
   "execution_count": null,
   "metadata": {},
   "outputs": [],
   "source": [
    "np.sum(bad_arr)"
   ]
  },
  {
   "cell_type": "code",
   "execution_count": null,
   "metadata": {},
   "outputs": [],
   "source": [
    "730 * 180"
   ]
  },
  {
   "cell_type": "code",
   "execution_count": null,
   "metadata": {},
   "outputs": [],
   "source": [
    "import re\n",
    "def substring(str1, str2):\n",
    "    ans = False\n",
    "    if re.findall(str1+'+', str2):\n",
    "        ans = True\n",
    "    return ans\n",
    "substring('sidu', 'sidufhnre')"
   ]
  },
  {
   "cell_type": "markdown",
   "metadata": {},
   "source": [
    "#### Check answer to \"secret games\" question!!!!\n",
    "\n",
    "HT, HH 1/2\n",
    "real win\n",
    "TH\n",
    "lie and win\n",
    "TT\n",
    "say they lost\n",
    "2/3 = "
   ]
  },
  {
   "cell_type": "code",
   "execution_count": null,
   "metadata": {},
   "outputs": [],
   "source": [
    "list(set([1,1,35,6,2,4]))"
   ]
  },
  {
   "cell_type": "code",
   "execution_count": null,
   "metadata": {},
   "outputs": [],
   "source": [
    "def combs(integers, tot):\n",
    "    for x in integers:\n",
    "        if x < 0 or int(x) != x:\n",
    "            return []\n",
    "    integer_set = set(integers)\n",
    "    mn = min(integer_set)\n",
    "    if 0 in integer_set:\n",
    "        integer_set.remove(0)\n",
    "    def helper(tot):\n",
    "        ans = []\n",
    "        if tot < mn:\n",
    "            return ans\n",
    "        if tot in integer_set:\n",
    "            ans.append([tot])\n",
    "        for x in integer_set:\n",
    "            tmp = helper(tot-x)\n",
    "            for s in tmp:\n",
    "                s1 = s[:]\n",
    "                s1.append(x)\n",
    "                ans.append(s1)\n",
    "        return ans\n",
    "    return helper(tot)\n",
    "    "
   ]
  },
  {
   "cell_type": "code",
   "execution_count": 1,
   "metadata": {},
   "outputs": [],
   "source": [
    "import matplotlib.pyplot as plt\n",
    "import pandas as pd\n",
    "df_notbusy = pd.read_csv('../Fall2020LectureNotes/histogram1cyclictestlab4.txt', sep='\\s+', header=None)\n",
    "df_busy = pd.read_csv('../Fall2020LectureNotes/histogram2cyclictest_coressortv1busylab4.txt', sep='\\s+', header=None)"
   ]
  },
  {
   "cell_type": "code",
   "execution_count": 2,
   "metadata": {},
   "outputs": [],
   "source": [
    "def plot_hist(df):\n",
    "    plt.plot(df[0], df[1])\n",
    "    plt.plot(df[0], df[2])\n",
    "    plt.plot(df[0], df[3])\n",
    "    plt.plot(df[0], df[4])\n",
    "    plt.xlim([0,80])\n",
    "    plt.legend(['Thread 1','Thread 2','Thread 3','Thread 4'])\n",
    "    plt.xlabel('Time (nanoseconds)')\n",
    "    plt.ylabel('Histogram counts')\n",
    "    plt.title('Cyclictest with 4 threads: 300000 loops')"
   ]
  },
  {
   "cell_type": "code",
   "execution_count": 3,
   "metadata": {},
   "outputs": [
    {
     "data": {
      "text/plain": [
       "1"
      ]
     },
     "execution_count": 3,
     "metadata": {},
     "output_type": "execute_result"
    }
   ],
   "source": [
    "min({1,2,35})"
   ]
  },
  {
   "cell_type": "code",
   "execution_count": 4,
   "metadata": {},
   "outputs": [
    {
     "data": {
      "image/png": "[encoded data removed]",
      "text/plain": [
       "<Figure size 432x288 with 1 Axes>"
      ]
     },
     "metadata": {
      "needs_background": "light"
     },
     "output_type": "display_data"
    }
   ],
   "source": [
    "plot_hist(df_busy)"
   ]
  },
  {
   "cell_type": "code",
   "execution_count": 5,
   "metadata": {},
   "outputs": [
    {
     "data": {
      "image/png": "[encoded data removed]",
      "text/plain": [
       "<Figure size 432x288 with 1 Axes>"
      ]
     },
     "metadata": {
      "needs_background": "light"
     },
     "output_type": "display_data"
    }
   ],
   "source": [
    "plot_hist(df_notbusy)"
   ]
  },
  {
   "cell_type": "code",
   "execution_count": null,
   "metadata": {},
   "outputs": [],
   "source": [
    "print([df_busy[i].sum() for i in range(1,5)])"
   ]
  },
  {
   "cell_type": "code",
   "execution_count": 7,
   "metadata": {},
   "outputs": [],
   "source": [
    "import numpy as np"
   ]
  },
  {
   "cell_type": "code",
   "execution_count": 8,
   "metadata": {
    "scrolled": true
   },
   "outputs": [
    {
     "data": {
      "text/plain": [
       "<matplotlib.legend.Legend at 0x210a78f5e88>"
      ]
     },
     "execution_count": 8,
     "metadata": {},
     "output_type": "execute_result"
    },
    {
     "data": {
      "image/png": "[encoded data removed]",
      "text/plain": [
       "<Figure size 432x288 with 1 Axes>"
      ]
     },
     "metadata": {
      "needs_background": "light"
     },
     "output_type": "display_data"
    }
   ],
   "source": [
    "period_py = [1, 0.1, 0.01, 0.001, 0.0001, 0.00001, 0.000001]\n",
    "piscope_py = [1, 0.1002, 0.01018, 0.001152, 0.000316, 0.000144, 0.000135]\n",
    "period_c = [1, 0.1, 0.01, 0.001, 0.0001, 0.00001, 0.000001]\n",
    "piscope_c = [1, 0.1, 0.0099980, 0.001, 0.000101, 0.000020, 0.000020]\n",
    "period_c_busy = [1, 0.1, 0.01, 0.001, 0.0001, 0.00001, 0.000001]\n",
    "piscope_c_busy = [1, 0.1, 0.009950, 0.001, 0.0001, 0.000025, 0.000020]\n",
    "period_py_busy = [1, 0.1, 0.01, 0.001, 0.0001, 0.00001, 0.000001]\n",
    "piscope_py_busy = [1, 0.1, 0.0103, 0.001145, 0.000230, 0.000141, 0.000140]\n",
    "plt.loglog(period_py, piscope_py, marker='s')\n",
    "plt.loglog(period_c, piscope_c, marker='s')\n",
    "plt.loglog(period_py_busy, piscope_py_busy, marker='s')\n",
    "plt.loglog(period_c_busy, piscope_c_busy, marker='s')\n",
    "plt.loglog(np.logspace(-6, 0, 1000), np.logspace(-6, 0, 1000))\n",
    "plt.xlabel('Period as set in the program (seconds)')\n",
    "plt.ylabel('Period as observed on the piscope (seconds)')\n",
    "plt.title('Before the RT patch')\n",
    "plt.legend(['Python', 'C', 'Python (4 cores busy)', 'C (4 cores busy)', '45 degree line (expected)'])\n",
    "# saw that 0.000316 things went wrong unequal length squares: just 1 obsv, not sure so don't report\n",
    "# std=c99 causes warnings in clock_nanosleep()!"
   ]
  },
  {
   "cell_type": "code",
   "execution_count": null,
   "metadata": {},
   "outputs": [],
   "source": [
    "#test_v16\n",
    "#unloaded core break down at 1000 interval input to the C code\n",
    "#5 / 730\n",
    "5/730\n",
    "1460 "
   ]
  },
  {
   "cell_type": "code",
   "execution_count": null,
   "metadata": {},
   "outputs": [],
   "source": [
    "def combinations(n,m):\n",
    "    #faces 1 to m\n",
    "    #n dice, list of n elements\n",
    "    if n == 0:\n",
    "        return []\n",
    "    if n == 1:\n",
    "        return [[x] for x in range(1,m+1)]\n",
    "    else:\n",
    "        ans = []\n",
    "        prev = combinations(n-1,m)\n",
    "        for s in prev:\n",
    "            for i in range(1, m+1):\n",
    "                tmp = s[:]\n",
    "                tmp.append(i)\n",
    "                ans.append(tmp)\n",
    "        return ans\n",
    "\n",
    "len(combinations(3,5))"
   ]
  },
  {
   "cell_type": "code",
   "execution_count": null,
   "metadata": {},
   "outputs": [],
   "source": [
    "import numpy as np\n",
    "import matplotlib.pyplot as plt\n",
    "from collections import Counter\n",
    "def random_from_stream(stream):\n",
    "    if not stream:\n",
    "        return []\n",
    "    if len(stream) == 1:\n",
    "        return stream[0]\n",
    "    ans = stream[0]\n",
    "    p = 0.5\n",
    "    for i in range(1, len(stream)):\n",
    "        c = np.random.rand(1)\n",
    "        if c < p:\n",
    "            ans = stream[i]\n",
    "        p = p/(1+p)\n",
    "    return ans\n",
    "\n",
    "arr = [0,1,2,3,4]\n",
    "rands = []\n",
    "for i in range(100000):\n",
    "    rands.append(random_from_stream(arr))\n",
    "plt.hist(rands, bins=[0,1,2,3,4,5], histtype='bar')\n",
    "    "
   ]
  },
  {
   "cell_type": "code",
   "execution_count": null,
   "metadata": {},
   "outputs": [],
   "source": [
    "class Stream:\n",
    "    def __init__(self, init_el):\n",
    "        self.rand = init_el\n",
    "        self.prob = 0.5\n",
    "    def append(self, x):\n",
    "        self.rand_calc(x)\n",
    "        self.prob = self.prob/(1+self.prob)\n",
    "    def rand_calc(self, x):\n",
    "        tmp = np.random.rand(1)\n",
    "        if tmp < self.prob:\n",
    "            self.rand = x\n",
    "    def random_element(self):\n",
    "        return self.rand\n"
   ]
  },
  {
   "cell_type": "code",
   "execution_count": null,
   "metadata": {},
   "outputs": [],
   "source": [
    "rands = []\n",
    "for i in range(100000):\n",
    "    s = Stream(1)\n",
    "    s.append(2)\n",
    "    s.append(3)\n",
    "    rands.append(s.random_element())\n",
    "Counter(rands)"
   ]
  },
  {
   "cell_type": "code",
   "execution_count": null,
   "metadata": {},
   "outputs": [],
   "source": [
    "import re\n",
    "def is_rotation(s1, s2):\n",
    "    #s2 is a rotation of s1?\n",
    "    if len(s1) != len(s2):\n",
    "        return False\n",
    "    if re.findall(s1, s2+s2):\n",
    "        return True\n",
    "    else:\n",
    "        return False\n",
    "is_rotation('cdeab', 'abcde')"
   ]
  },
  {
   "cell_type": "code",
   "execution_count": null,
   "metadata": {},
   "outputs": [],
   "source": [
    "import re\n",
    "def is_rotation2(s1, s2):\n",
    "    #s2 is a rotation of s1?\n",
    "    if len(s1) != len(s2):\n",
    "        return False\n",
    "    s2d = s2 + s2\n",
    "    n = len(s2d)\n",
    "    j = 0\n",
    "    for i in range(n):\n",
    "        if j == len(s1):\n",
    "            return True\n",
    "        if s1[j] == s2d[i]:\n",
    "            j += 1\n",
    "        else:\n",
    "            j = 0\n",
    "    return False\n",
    "is_rotation2('cdeab', 'abecde'), is_rotation('cdeab', 'abecde')"
   ]
  },
  {
   "cell_type": "code",
   "execution_count": null,
   "metadata": {},
   "outputs": [],
   "source": [
    "def miss(arr):\n",
    "    n = len(arr)\n",
    "    return int(n * (n+1) / 2 - sum(arr))\n",
    "miss([4,1,2,3])"
   ]
  },
  {
   "cell_type": "code",
   "execution_count": null,
   "metadata": {},
   "outputs": [],
   "source": [
    "from math import floor, ceil\n",
    "def interp(x1,y1,x2,y2,x):\n",
    "    if x1 == x2:\n",
    "        return y1\n",
    "    else:\n",
    "        return (y2-y1) * (x-x1) / (x2-x1) + y1\n",
    "\n",
    "def IQR(a):\n",
    "    n = len(a)\n",
    "    arr = sorted(a)\n",
    "    q1 = interp(floor((n - 1)/4), arr[floor((n - 1)/4)], ceil((n - 1)/4), arr[ceil((n - 1)/4)], (n-1)/4)\n",
    "    q3 = interp(floor(3*(n - 1)/4), arr[floor(3*(n - 1)/4)], ceil(3*(n - 1)/4), arr[ceil(3*(n - 1)/4)], 3*(n-1)/4)\n",
    "    return q3-q1"
   ]
  },
  {
   "cell_type": "code",
   "execution_count": null,
   "metadata": {},
   "outputs": [],
   "source": [
    "IQR([7,1,2,3,4,5,6])"
   ]
  },
  {
   "cell_type": "code",
   "execution_count": null,
   "metadata": {},
   "outputs": [],
   "source": [
    "from scipy.stats import iqr\n",
    "for i in range(10000):\n",
    "    a = np.random.randint(0,10,np.random.randint(1,20,1))\n",
    "    assert iqr(a) == IQR(a)"
   ]
  },
  {
   "cell_type": "code",
   "execution_count": null,
   "metadata": {},
   "outputs": [],
   "source": [
    "def isMap(a1,a2):\n",
    "    n = len(a1)\n",
    "    if len(a2) != n:\n",
    "        return False\n",
    "    map_dict = dict()\n",
    "    for i in range(n):\n",
    "        if a1[i] in map_dict:\n",
    "            if map_dict[a1[i]] != a2[i]:\n",
    "                return False\n",
    "        else:\n",
    "            map_dict[a1[i]] = a2[i]\n",
    "    return True\n",
    "isMap('ase', 'qbq')"
   ]
  },
  {
   "cell_type": "code",
   "execution_count": null,
   "metadata": {},
   "outputs": [],
   "source": [
    "def split_ind(nums):\n",
    "    s = sum(nums)\n",
    "    tmp = 0\n",
    "    for i in range(1, len(nums)):\n",
    "        tmp += nums[i-1]\n",
    "        if tmp == (s-nums[i])/2:\n",
    "            return i\n",
    "    return -1\n",
    "split_ind([1,7,3,5,5,6])\n",
    "split_ind([1,3,5])"
   ]
  },
  {
   "cell_type": "code",
   "execution_count": null,
   "metadata": {},
   "outputs": [],
   "source": [
    "import pandas as pd\n",
    "df = pd.DataFrame({'user_id':[1,2,3,4,5],\n",
    "                   'grade':[10,10,11,10,11],\n",
    "                   'test score':[85,60,90,30,99]\n",
    "                  }, index=[0,1,2,3,4])"
   ]
  },
  {
   "cell_type": "code",
   "execution_count": null,
   "metadata": {},
   "outputs": [],
   "source": [
    "df.iloc[5] = [5,11,20]"
   ]
  },
  {
   "cell_type": "code",
   "execution_count": null,
   "metadata": {},
   "outputs": [],
   "source": []
  },
  {
   "cell_type": "code",
   "execution_count": null,
   "metadata": {},
   "outputs": [],
   "source": [
    "lt50 = pd.DataFrame(df.groupby('grade')['test score'].apply(lambda x: 100*sum([y <= 50 for y in x])/len(x)))\n",
    "lt50['score'] = '<50'\n",
    "lt75 = pd.DataFrame(df.groupby('grade')['test score'].apply(lambda x: 100*sum([y <= 75 for y in x])/len(x)))\n",
    "lt75['score'] = '<75'\n",
    "lt90 = pd.DataFrame(df.groupby('grade')['test score'].apply(lambda x: 100*sum([y <= 90 for y in x])/len(x)))\n",
    "lt90['score'] = '<90'\n",
    "lt100 = pd.DataFrame(df.groupby('grade')['test score'].apply(lambda x: 100*sum([y <= 100 for y in x])/len(x)))\n",
    "lt100['score'] = '<100'"
   ]
  },
  {
   "cell_type": "code",
   "execution_count": null,
   "metadata": {},
   "outputs": [],
   "source": [
    "dfo = pd.concat([lt50, lt75, lt90, lt100], axis=0)"
   ]
  },
  {
   "cell_type": "code",
   "execution_count": null,
   "metadata": {},
   "outputs": [],
   "source": [
    "dfo"
   ]
  },
  {
   "cell_type": "code",
   "execution_count": null,
   "metadata": {},
   "outputs": [],
   "source": [
    "pd.pivot_table(df,index='grade', columns='user_id', values='test score')"
   ]
  },
  {
   "cell_type": "code",
   "execution_count": null,
   "metadata": {},
   "outputs": [],
   "source": [
    "def stem(sentence, roots):\n",
    "    words = sentence.split(' ')\n",
    "    roots_set = set(roots)\n",
    "    final = []\n",
    "    for w in words:\n",
    "        i = 0\n",
    "        while i  < len(w):\n",
    "            i += 1\n",
    "            if w[:i] in roots_set:\n",
    "                final.append(w[:i])\n",
    "                break #break from the for loop\n",
    "        if i == len(w):\n",
    "            final.append(w)\n",
    "    return ' '.join(final)\n",
    "stem('the cattle was rattled by the battery', ['cat', 'bat', 'rattle'])"
   ]
  },
  {
   "cell_type": "code",
   "execution_count": null,
   "metadata": {},
   "outputs": [],
   "source": [
    "'Thwe dY xa;osxk Yuaclkm'.lower()"
   ]
  },
  {
   "cell_type": "code",
   "execution_count": null,
   "metadata": {},
   "outputs": [],
   "source": [
    "from collections import Counter\n",
    "def topN(posting, N):\n",
    "    count_dict = Counter([x.strip().lower() for x in posting.split(' ')])\n",
    "    tups = [(i,count_dict[i]) for i in count_dict]\n",
    "    out = sorted(tups, key=lambda x: -x[1])\n",
    "    return out[:min(N, len(out))]\n",
    "topN('''\n",
    "Herbal sauna uses the healing properties of herbs in combination with distilled water. \n",
    "The water evaporates and distributes the effect of the herbs throughout the room. \n",
    "A visit to the herbal sauna can cause real miracles, especially for colds. \n",
    "''', 3)"
   ]
  },
  {
   "cell_type": "code",
   "execution_count": null,
   "metadata": {},
   "outputs": [],
   "source": [
    "def remove_stopwords(text, stopwords):\n",
    "    text_lower = [x.lower().strip() for x in text.split(' ')]\n",
    "    stopwords_set = set([x.lower() for x in stopwords])\n",
    "    ans = []\n",
    "    for x in text_lower:\n",
    "        if x not in stopwords_set:\n",
    "            ans.append(x)\n",
    "    return ' '.join(ans)"
   ]
  },
  {
   "cell_type": "code",
   "execution_count": null,
   "metadata": {},
   "outputs": [],
   "source": [
    "text = 'Casiuehfcn, I want to go home and sleep.'\n",
    "remove_stopwords(text, ['I', 'and'])"
   ]
  },
  {
   "cell_type": "code",
   "execution_count": null,
   "metadata": {},
   "outputs": [],
   "source": [
    "text"
   ]
  },
  {
   "cell_type": "code",
   "execution_count": null,
   "metadata": {},
   "outputs": [],
   "source": [
    "def max_tipper(user_ids, tips):\n",
    "    if len(user_ids) != len(tips) or len(tips) == 0:\n",
    "        return -1\n",
    "    mx = 0\n",
    "    for i in range(len(tips)):\n",
    "        if tips[mx] < tips[i]:\n",
    "            mx = i\n",
    "    return user_ids[mx]"
   ]
  },
  {
   "cell_type": "code",
   "execution_count": null,
   "metadata": {},
   "outputs": [],
   "source": [
    "import math\n",
    "def primes(N):\n",
    "    ans = []\n",
    "    for i in range(2, N+1):\n",
    "        compflag = 0\n",
    "        for j in range(2, 1+math.ceil(math.sqrt(i))):\n",
    "            if i > j and i % j == 0:\n",
    "                compflag = 1\n",
    "                break\n",
    "        if compflag == 0:\n",
    "            ans.append(i)\n",
    "    return ans\n",
    "\n",
    "print(len(primes(1000)))"
   ]
  },
  {
   "cell_type": "code",
   "execution_count": null,
   "metadata": {},
   "outputs": [],
   "source": [
    "import math\n",
    "def calculate_rmse(a, b):\n",
    "    if len(a) != len(b) or len(a) == 0:\n",
    "        return None\n",
    "    return math.sqrt(sum([(a[i]-b[i])**2 for i in range(len(a))])/len(a))\n",
    "\n",
    "print(calculate_rmse([3,4,5], [3,4,5]), calculate_rmse([3,4,5], [5,4,3]))"
   ]
  },
  {
   "cell_type": "code",
   "execution_count": null,
   "metadata": {},
   "outputs": [],
   "source": [
    "def normalize_grades(tuples):\n",
    "    if len(tuples) == 1:\n",
    "        return []\n",
    "    ans = []\n",
    "    mn = min([x[1] for x in tuples])\n",
    "    mx = max([x[1] for x in tuples])\n",
    "    if mx == mn:\n",
    "        return [(x[0], 1) for x in tuples]\n",
    "    for x in tuples:\n",
    "        ans.append((x[0], round((x[1]-mn)/(mx-mn),2)))\n",
    "    return ans\n",
    "normalize_grades([('Jason', 94),\n",
    "    ('Tessa', 80),\n",
    "    ('Carla', 38),\n",
    "    ('Matt', 43),\n",
    "    ('Jessica', 100)])"
   ]
  },
  {
   "cell_type": "code",
   "execution_count": null,
   "metadata": {},
   "outputs": [],
   "source": [
    "{1:2}.values()"
   ]
  },
  {
   "cell_type": "code",
   "execution_count": null,
   "metadata": {},
   "outputs": [],
   "source": [
    "import numpy as np\n",
    "from collections import Counter\n",
    "def random_simulate(freqs):\n",
    "    dict_keys = list(freqs.keys())\n",
    "    dict_values = np.array([0] + list(freqs.values()))\n",
    "    if np.sum(dict_values) <= 0:\n",
    "        return None\n",
    "    lims = np.cumsum(dict_values)/np.sum(dict_values)\n",
    "    p = np.random.rand(1)\n",
    "    for k in range(len(dict_keys)):\n",
    "        if p >= lims[k]  and p < lims[k+1]:\n",
    "            return dict_keys[k]\n",
    "    return dict_keys[-1]\n",
    "print(Counter([random_simulate({'A': 1, 'B': 2, 'C':3, 'D':4}) for i in range(100000)]))"
   ]
  },
  {
   "cell_type": "code",
   "execution_count": null,
   "metadata": {},
   "outputs": [],
   "source": [
    "chi1 = (411-400) ** 2 / 400 + (302-300) ** 2 / 300 + (200-193) ** 2 / 200 + (100-94) ** 2 / 100\n",
    "chi0 = (41-40) ** 2 / 40 + (29-30) ** 2 / 30 + (19-20) ** 2 / 20 + (11-10) ** 2 / 10\n",
    "chi2 = (40027-40000) ** 2 / 40000 + (29855-30000) ** 2 / 30000 + (20073-20000) ** 2 / 20000 + (10045-10000) ** 2 / 10000\n",
    "print(chi0, chi1, chi2)"
   ]
  },
  {
   "cell_type": "code",
   "execution_count": null,
   "metadata": {},
   "outputs": [],
   "source": [
    "from scipy.stats import norm\n",
    "import numpy as np\n",
    "import matplotlib .pyplot as plt\n",
    "def truncated_normal(n, percentile, mu, sigma):\n",
    "    lim = norm.ppf(percentile + (1-percentile)/2)\n",
    "    x = np.random.randn(int(2*n/percentile))\n",
    "    x = x[abs(x) < lim]\n",
    "    return x[:n] * sigma + mu\n",
    "x = plt.hist(truncated_normal(100000, 0.995, 0, 1), bins=100)"
   ]
  },
  {
   "cell_type": "code",
   "execution_count": null,
   "metadata": {},
   "outputs": [],
   "source": [
    "def min_change(n, coins): #assuming all non-neg amounts can be represented\n",
    "    arr = [0] * (n+1) #number of coins needed\n",
    "    for i in range(1, n+1):\n",
    "        cands = []\n",
    "        for c in coins:\n",
    "            if i >= c:\n",
    "                cands.append(1+arr[i-c])\n",
    "        arr[i] = min(cands)\n",
    "    return arr[n]\n",
    "min_change(73,[1,5,10,25])"
   ]
  },
  {
   "cell_type": "code",
   "execution_count": null,
   "metadata": {},
   "outputs": [],
   "source": [
    "import pandas as pd\n",
    "ser = pd.Series(list('abcedfghijklmnopqrstuvwxyz'))"
   ]
  },
  {
   "cell_type": "code",
   "execution_count": null,
   "metadata": {},
   "outputs": [],
   "source": [
    "ser.name= 'pore'\n",
    "ser.head()"
   ]
  },
  {
   "cell_type": "code",
   "execution_count": null,
   "metadata": {},
   "outputs": [],
   "source": [
    "ser1 = pd.Series([1, 2, 3, 4, 5])\n",
    "ser1.name = 'a'\n",
    "ser2 = pd.Series([4, 5, 6, 7, 8])\n",
    "ser2.name = 'b'\n",
    "pd.concat([ser1[~ser1.isin(ser2)], ser2[~ser2.isin(ser1)]])"
   ]
  },
  {
   "cell_type": "code",
   "execution_count": null,
   "metadata": {},
   "outputs": [],
   "source": [
    "import numpy as np\n",
    "ser = pd.Series(np.random.normal(10, 5, 25))\n",
    "np.percentile(ser, q=[0,25,75])"
   ]
  },
  {
   "cell_type": "code",
   "execution_count": null,
   "metadata": {},
   "outputs": [],
   "source": [
    "from collections import Counter\n",
    "ser = pd.Series(np.take(list('abcdefgh'), np.random.randint(8, size=30)))\n",
    "Counter(ser.values)"
   ]
  },
  {
   "cell_type": "code",
   "execution_count": null,
   "metadata": {},
   "outputs": [],
   "source": [
    "ser = pd.Series(np.random.randint(1, 5, [12]))\n",
    "top2 = list(ser.value_counts().index[:2])\n",
    "ser1 = ser.loc[:]\n",
    "ser[~ser.isin(top2)] = 'Other'\n",
    "print(ser)\n",
    "print(ser1)"
   ]
  },
  {
   "cell_type": "code",
   "execution_count": null,
   "metadata": {},
   "outputs": [],
   "source": [
    "ser1.value_counts()"
   ]
  },
  {
   "cell_type": "code",
   "execution_count": null,
   "metadata": {},
   "outputs": [],
   "source": [
    "ser = pd.Series(np.random.random(20))"
   ]
  },
  {
   "cell_type": "code",
   "execution_count": null,
   "metadata": {},
   "outputs": [],
   "source": [
    "ser = pd.Series(np.random.randint(1, 10, 35))\n",
    "pd.DataFrame(np.reshape(ser.values,(7,5)))"
   ]
  },
  {
   "cell_type": "code",
   "execution_count": null,
   "metadata": {},
   "outputs": [],
   "source": [
    "ser = pd.Series(np.random.randint(1, 10, 7))\n",
    "ser[ser % 3 == 0].index, ser.head()"
   ]
  },
  {
   "cell_type": "code",
   "execution_count": null,
   "metadata": {},
   "outputs": [],
   "source": [
    "ser = pd.Series(list('abcdefghijklmnopqrstuvwxyz'))\n",
    "pos = [0, 4, 8, 14, 20]\n",
    "ser.loc[pos]"
   ]
  },
  {
   "cell_type": "code",
   "execution_count": null,
   "metadata": {},
   "outputs": [],
   "source": [
    "ser1 = pd.Series(range(5))\n",
    "ser2 = pd.Series(list('abcde'))\n",
    "pd.concat([ser1, ser2], axis=1)"
   ]
  },
  {
   "cell_type": "code",
   "execution_count": null,
   "metadata": {},
   "outputs": [],
   "source": [
    "ser1 = pd.Series([10, 9, 6, 5, 3, 1, 12, 8, 13])\n",
    "ser2 = pd.Series([1, 3, 10, 13])\n",
    "list(ser1[ser1.isin(ser2)].index)"
   ]
  },
  {
   "cell_type": "code",
   "execution_count": null,
   "metadata": {},
   "outputs": [],
   "source": [
    "truth = pd.Series(range(10))\n",
    "pred = pd.Series(range(10)) + np.random.random(10)\n",
    "((truth - pred) ** 2).mean()"
   ]
  },
  {
   "cell_type": "code",
   "execution_count": null,
   "metadata": {},
   "outputs": [],
   "source": [
    "ser = pd.Series(['how', 'to', 'kick', 'ass?'])\n",
    "ser.apply(lambda x: x.capitalize())"
   ]
  },
  {
   "cell_type": "code",
   "execution_count": null,
   "metadata": {},
   "outputs": [],
   "source": [
    "ser = pd.Series(['how', 'to', 'kick', 'ass?'])\n",
    "ser.apply(lambda x: len(x))"
   ]
  },
  {
   "cell_type": "code",
   "execution_count": null,
   "metadata": {},
   "outputs": [],
   "source": [
    "ser = pd.Series([1, 3, 6, 10, 15, 21, 27, 35])\n",
    "diff = ser.values[1:] - ser.values[:-1]\n",
    "diff_diff = diff[1:] - diff[:-1]\n",
    "diff_diff"
   ]
  },
  {
   "cell_type": "code",
   "execution_count": null,
   "metadata": {},
   "outputs": [],
   "source": [
    "diff"
   ]
  },
  {
   "cell_type": "code",
   "execution_count": null,
   "metadata": {},
   "outputs": [],
   "source": [
    "ser = pd.Series(['01 Jan 2010', '02-02-2011', '20120303', '2013/04/04', '2014-05-05', '2015-06-06T12:20'])\n",
    "pd.to_datetime(ser)"
   ]
  },
  {
   "cell_type": "code",
   "execution_count": null,
   "metadata": {},
   "outputs": [],
   "source": [
    "ser = pd.Series(['01 Jan 2010', '02-02-2011', '20120303', '2013/04/04', '2014-05-05', '2015-06-06T12:20'])\n",
    "weekday_name = ['Sun', 'Mon', 'Tue', 'W', 'R', 'F', 'S']\n",
    "pd.DataFrame({'actual':ser, 'week':pd.to_datetime(ser).dt.week, 'day':pd.to_datetime(ser).dt.weekday.apply(lambda x: weekday_name[x]), 'year':pd.to_datetime(ser).dt.year})"
   ]
  },
  {
   "cell_type": "code",
   "execution_count": null,
   "metadata": {},
   "outputs": [],
   "source": [
    "from datetime import datetime\n",
    "ser = pd.Series(['Jan 2010', 'Feb 2011', 'Mar 2012'])\n",
    "pd.to_datetime(ser.apply(lambda x: '04 '+x))"
   ]
  },
  {
   "cell_type": "code",
   "execution_count": null,
   "metadata": {},
   "outputs": [],
   "source": [
    "from collections import Counter\n",
    "def count_vowels(s):\n",
    "    c = Counter(list(s))\n",
    "    cnt = 0\n",
    "    for v in ['a', 'e', 'i', 'o', 'u']:\n",
    "        if v in c:\n",
    "            cnt += 1\n",
    "    return cnt\n",
    "ser = pd.Series(['Apple', 'Orange', 'Plan', 'Python', 'Money'])\n",
    "ser[ser.apply(lambda x: count_vowels(x))>=2]"
   ]
  },
  {
   "cell_type": "code",
   "execution_count": null,
   "metadata": {},
   "outputs": [],
   "source": [
    "import re\n",
    "emails = pd.Series(['buying books at amazom.com', 'rameses@egypt.com', 'matt@t.co', 'narendra@modi.com'])\n",
    "re.findall('[A-Za-z0-9]+@[A-Za-z0-9]+\\\\.[a-z]{2,4}', 'i love you papa@amazom.com')"
   ]
  },
  {
   "cell_type": "code",
   "execution_count": null,
   "metadata": {},
   "outputs": [],
   "source": [
    "if re.findall('[A-Za-z0-9._%+-]+@[A-Za-z0-9.-]+\\\\.[A-Za-z]{2,4}', 'papa@amazom.com'):\n",
    "    print(True)"
   ]
  },
  {
   "cell_type": "code",
   "execution_count": null,
   "metadata": {},
   "outputs": [],
   "source": [
    "!pip3 install SpeechRecognition"
   ]
  },
  {
   "cell_type": "code",
   "execution_count": null,
   "metadata": {},
   "outputs": [],
   "source": [
    "!pip3 install pyaudio"
   ]
  },
  {
   "cell_type": "code",
   "execution_count": null,
   "metadata": {},
   "outputs": [],
   "source": [
    "import pyaudio\n",
    "\n",
    "p = pyaudio.PyAudio()\n",
    "info = p.get_host_api_info_by_index(0)\n",
    "numdevices = info.get('deviceCount')\n",
    "\n",
    "for i in range(0, numdevices):\n",
    "    if (p.get_device_info_by_host_api_device_index(0, i).get('maxInputChannels')) > 0:\n",
    "        print (\"Input Device id \", i, \" - \", p.get_device_info_by_host_api_device_index(0, i).get('name'))"
   ]
  },
  {
   "cell_type": "code",
   "execution_count": null,
   "metadata": {},
   "outputs": [],
   "source": [
    "import speech_recognition as sr\n",
    "\n",
    "r = sr.Recognizer()\n",
    "speech = sr.Microphone(device_index=1)\n",
    "with speech as source:\n",
    "    print(\"say something!…\")\n",
    "    audio = r.adjust_for_ambient_noise(source)\n",
    "    audio = r.listen(source)\n",
    "try:\n",
    "    recog = r.recognize_google(audio, language = 'gu-IN') #en-US\n",
    "\n",
    "    print(\"You said: \" + recog)\n",
    "except sr.UnknownValueError:\n",
    "    print(\"Google Speech Recognition could not understand audio\")\n",
    "except sr.RequestError as e:\n",
    "    print(\"Could not request results from Google Speech Recognition service; {0}\".format(e))"
   ]
  },
  {
   "cell_type": "code",
   "execution_count": null,
   "metadata": {},
   "outputs": [],
   "source": [
    "import speech_recognition as sr\n",
    "import pyttsx3\n",
    "\n",
    "engine = pyttsx3.init()\n",
    "engine.setProperty('rate', 200)\n",
    "engine.setProperty('volume', 0.9)\n",
    "r = sr.Recognizer()\n",
    "speech = sr.Microphone(device_index=1)\n",
    "with speech as source:\n",
    "    audio = r.adjust_for_ambient_noise(source)\n",
    "    audio = r.listen(source)\n",
    "try:\n",
    "    recog = r.recognize_google(audio, language = 'en-US')\n",
    "    print(\"You said: \" + recog)\n",
    "    engine.say(\"You said: \" + recog)\n",
    "    engine.runAndWait()\n",
    "except sr.UnknownValueError:\n",
    "    engine.say(\"Google Speech Recognition could not understand audio\")\n",
    "    engine.runAndWait()\n",
    "except sr.RequestError as e:\n",
    "    engine.say(\"Could not request results from Google Speech Recognition service; {0}\".format(e))\n",
    "    engine.runAndWait()"
   ]
  },
  {
   "cell_type": "code",
   "execution_count": null,
   "metadata": {},
   "outputs": [],
   "source": [
    "!pip3 install pypiwin32 pyttsx3"
   ]
  },
  {
   "cell_type": "code",
   "execution_count": null,
   "metadata": {},
   "outputs": [],
   "source": [
    "fruit = pd.Series(np.random.choice(['apple', 'banana', 'carrot'], 10))\n",
    "weights = pd.Series(np.linspace(1, 10, 10))\n",
    "pd.DataFrame({'w':weights,'f':fruit}).groupby('f').mean()"
   ]
  },
  {
   "cell_type": "code",
   "execution_count": null,
   "metadata": {},
   "outputs": [],
   "source": [
    "p = pd.Series([1, 2, 3, 4, 5, 6, 7, 8, 9, 10])\n",
    "q = pd.Series([10, 9, 8, 7, 6, 5, 4, 3, 2, 1])\n",
    "np.sqrt(((p-q)**2).sum())"
   ]
  },
  {
   "cell_type": "code",
   "execution_count": null,
   "metadata": {},
   "outputs": [],
   "source": [
    "friends_added = [{'user_ids': [1, 2], 'created_at': '2020-01-01'},\n",
    "                 {'user_ids': [3, 2], 'created_at': '2020-01-02'},\n",
    "                 {'user_ids': [2, 1], 'created_at': '2020-02-02'},\n",
    "                 {'user_ids': [4, 1], 'created_at': '2020-02-02'}]\n",
    "\n",
    "friends_removed = [{'user_ids': [2, 1], 'created_at': '2020-01-03'},\n",
    "                   {'user_ids': [2, 3], 'created_at': '2020-01-05'},\n",
    "                   {'user_ids': [1, 2], 'created_at': '2020-02-05'}]\n",
    "def friend_dict(added, removed):\n",
    "    friendships = []\n",
    "    done = [0] * len(removed)\n",
    "    for a in added:\n",
    "        users = sorted(a['user_ids'])\n",
    "        for i in range(len(removed)):\n",
    "            if users == sorted(removed[i]['user_ids']) and done[i] == 0:\n",
    "                friendships.append({\n",
    "                    'user_ids':users,\n",
    "                    'start_date': a['created_at'],\n",
    "                    'end_date':removed[i]['created_at']\n",
    "                })\n",
    "                done[i] = 1\n",
    "                break\n",
    "    return friendships\n",
    "friend_dict(friends_added, friends_removed)"
   ]
  },
  {
   "cell_type": "code",
   "execution_count": null,
   "metadata": {},
   "outputs": [],
   "source": [
    "friendships = [{\n",
    "    'user_ids': [1, 2],\n",
    "    'start_date': '2020-01-01',\n",
    "    'end_date': '2020-01-03'\n",
    "  },\n",
    "  {\n",
    "    'user_ids': [1, 2],\n",
    "    'start_date': '2020-02-02',\n",
    "    'end_date': '2020-02-05'\n",
    "  },\n",
    "  {\n",
    "    'user_ids': [2, 3],\n",
    "    'start_date': '2020-01-02',\n",
    "    'end_date': '2020-01-05'\n",
    "  },\n",
    "]\n",
    "print(sorted(friendships, key=lambda x: x['user_ids'][0]))"
   ]
  },
  {
   "cell_type": "code",
   "execution_count": null,
   "metadata": {},
   "outputs": [],
   "source": [
    "import pandas as pd\n",
    "import numpy as np"
   ]
  },
  {
   "cell_type": "code",
   "execution_count": null,
   "metadata": {},
   "outputs": [],
   "source": [
    "ser = pd.Series([2, 10, 3, 4, 9, 10, 2, 7, 3])\n",
    "np.where(np.sign(ser.diff()).diff() == -2)[0] - 1"
   ]
  },
  {
   "cell_type": "code",
   "execution_count": null,
   "metadata": {},
   "outputs": [],
   "source": [
    "from collections import Counter\n",
    "import re\n",
    "def repl(string):\n",
    "    d = sorted(list(Counter(list(string)).items()), key=lambda x: x[1])\n",
    "    mn = None\n",
    "    for x in d:\n",
    "        if x[0] != ' ':\n",
    "            mn = x[0]\n",
    "            break\n",
    "    return re.sub(r'\\s', mn, string)\n",
    "repl('sdasf elkgjl kerjfvn c')"
   ]
  },
  {
   "cell_type": "code",
   "execution_count": null,
   "metadata": {},
   "outputs": [],
   "source": [
    "Counter('sdasf elkgjl kerjfvn c')"
   ]
  },
  {
   "cell_type": "code",
   "execution_count": null,
   "metadata": {},
   "outputs": [],
   "source": [
    "import datetime\n",
    "import pandas as pd\n",
    "pd.Series(np.random.randint(1,6,11), index = [pd.to_datetime('01/01/2000') + datetime.timedelta(days=7*i) for i in range(11)])"
   ]
  },
  {
   "cell_type": "code",
   "execution_count": null,
   "metadata": {},
   "outputs": [],
   "source": [
    "ser = pd.Series([1,10,3, np.nan], index=pd.to_datetime(['2000-01-01', '2000-01-03', '2000-01-06', '2000-01-08']))\n",
    "ser.resample('D').ffill()"
   ]
  },
  {
   "cell_type": "code",
   "execution_count": null,
   "metadata": {},
   "outputs": [],
   "source": [
    "ser.resample('D').ffill().autocorr(i) for i in range()"
   ]
  },
  {
   "cell_type": "code",
   "execution_count": null,
   "metadata": {},
   "outputs": [],
   "source": [
    "ser = pd.Series(np.sin(np.pi * np.arange(20)/10) + 0.0 * np.random.normal(1, 10, 20))\n",
    "[ser.autocorr(i) for i in range(1, 11)]"
   ]
  },
  {
   "cell_type": "code",
   "execution_count": null,
   "metadata": {},
   "outputs": [],
   "source": [
    "ser"
   ]
  },
  {
   "cell_type": "code",
   "execution_count": null,
   "metadata": {},
   "outputs": [],
   "source": [
    "df = pd.read_csv('https://raw.githubusercontent.com/selva86/datasets/master/BostonHousing.csv', chunksize=50,\n",
    "                 converters={'medv':lambda x: 'High' if float(x) > 25 else 'Low'}, \n",
    "                 columns=['medv'])\n",
    "\n",
    "df2 = pd.DataFrame()\n",
    "for chunk in df:\n",
    "    df2 = df2.append(chunk.iloc[0,:])"
   ]
  },
  {
   "cell_type": "code",
   "execution_count": null,
   "metadata": {},
   "outputs": [],
   "source": [
    "df = pd.read_csv('https://raw.githubusercontent.com/selva86/datasets/master/Cars93_miss.csv')\n",
    "df.describe()"
   ]
  },
  {
   "cell_type": "code",
   "execution_count": null,
   "metadata": {},
   "outputs": [],
   "source": [
    "type(df.values)"
   ]
  },
  {
   "cell_type": "code",
   "execution_count": null,
   "metadata": {},
   "outputs": [],
   "source": [
    "df.values[:5,:5]"
   ]
  },
  {
   "cell_type": "code",
   "execution_count": null,
   "metadata": {},
   "outputs": [],
   "source": [
    "df = pd.read_csv('https://raw.githubusercontent.com/selva86/datasets/master/Cars93_miss.csv')\n",
    "df.loc[df['Price']==max(df['Price'])]"
   ]
  },
  {
   "cell_type": "code",
   "execution_count": null,
   "metadata": {},
   "outputs": [],
   "source": [
    "df.rename(columns={'Type':'type'}, inplace=True)"
   ]
  },
  {
   "cell_type": "code",
   "execution_count": null,
   "metadata": {},
   "outputs": [],
   "source": [
    "df.head().isnull().values.all()"
   ]
  },
  {
   "cell_type": "code",
   "execution_count": null,
   "metadata": {},
   "outputs": [],
   "source": [
    "[(col, df[col].isnull().sum()) for col in df.columns]"
   ]
  },
  {
   "cell_type": "code",
   "execution_count": null,
   "metadata": {},
   "outputs": [],
   "source": [
    "col = 'Price'\n",
    "df[col].fillna(df[col].mean()).loc[df[col].fillna(df[col].mean()).isnull()]"
   ]
  },
  {
   "cell_type": "code",
   "execution_count": null,
   "metadata": {},
   "outputs": [],
   "source": [
    "df[col].loc[df[col].isnull()]"
   ]
  },
  {
   "cell_type": "code",
   "execution_count": null,
   "metadata": {},
   "outputs": [],
   "source": [
    "df['Price'].round(0)"
   ]
  },
  {
   "cell_type": "code",
   "execution_count": null,
   "metadata": {},
   "outputs": [],
   "source": [
    "df = pd.DataFrame(np.random.random(4), columns=['random'])\n",
    "df['random'] *= 100"
   ]
  },
  {
   "cell_type": "code",
   "execution_count": null,
   "metadata": {},
   "outputs": [],
   "source": [
    "df"
   ]
  },
  {
   "cell_type": "code",
   "execution_count": null,
   "metadata": {},
   "outputs": [],
   "source": [
    "df = pd.read_csv('https://raw.githubusercontent.com/selva86/datasets/master/Cars93_miss.csv')\n",
    "df.iloc[::3]"
   ]
  },
  {
   "cell_type": "code",
   "execution_count": null,
   "metadata": {},
   "outputs": [],
   "source": [
    "df = pd.read_csv('https://raw.githubusercontent.com/selva86/datasets/master/Cars93_miss.csv', usecols=[0,1,2,3,5])\n",
    "df.loc[df['Manufacturer'].isnull(), 'Maunfacturer'] = 'missing'\n",
    "df.loc[df['Model'].isnull(), 'Maunfacturer'] = 'missing'\n",
    "df.loc[df['Type'].isnull(), 'Maunfacturer'] = 'missing'\n",
    "df.index = df[['Manufacturer', 'Model', 'Type']]"
   ]
  },
  {
   "cell_type": "code",
   "execution_count": null,
   "metadata": {},
   "outputs": [],
   "source": [
    "df"
   ]
  },
  {
   "cell_type": "code",
   "execution_count": null,
   "metadata": {},
   "outputs": [],
   "source": [
    "import numpy as np\n",
    "import pandas as pd"
   ]
  },
  {
   "cell_type": "code",
   "execution_count": 15,
   "metadata": {},
   "outputs": [
    {
     "name": "stdout",
     "output_type": "stream",
     "text": [
      "[1, 2, 6, 11, 13, 14, 15, 16, 17, 27]\n"
     ]
    },
    {
     "data": {
      "text/plain": [
       "14"
      ]
     },
     "execution_count": 15,
     "metadata": {},
     "output_type": "execute_result"
    }
   ],
   "source": [
    "df = pd.DataFrame(np.random.randint(1, 30, 30).reshape(10,-1), columns=list('abc'))\n",
    "print(sorted(df['a']))\n",
    "df.iloc[df['a'].argsort().iloc[-5]].a"
   ]
  },
  {
   "cell_type": "code",
   "execution_count": 14,
   "metadata": {},
   "outputs": [
    {
     "data": {
      "text/plain": [
       "[4, 6, 11, 14, 14, 18, 20, 22, 24, 27]"
      ]
     },
     "execution_count": 14,
     "metadata": {},
     "output_type": "execute_result"
    }
   ],
   "source": [
    "\n"
   ]
  },
  {
   "cell_type": "code",
   "execution_count": 20,
   "metadata": {},
   "outputs": [
    {
     "name": "stdout",
     "output_type": "stream",
     "text": [
      "0     68\n",
      "1     70\n",
      "2     92\n",
      "3     90\n",
      "4     44\n",
      "5     63\n",
      "6     62\n",
      "7     32\n",
      "8     92\n",
      "9     24\n",
      "10    67\n",
      "11    85\n",
      "12    90\n",
      "13    51\n",
      "14    56\n",
      "dtype: int32\n"
     ]
    },
    {
     "data": {
      "text/plain": [
       "92"
      ]
     },
     "execution_count": 20,
     "metadata": {},
     "output_type": "execute_result"
    }
   ],
   "source": [
    "ser = pd.Series(np.random.randint(1, 100, 15))\n",
    "print(ser)\n",
    "ser.loc[ser>ser.mean()].sort_values().iloc[-2]"
   ]
  },
  {
   "cell_type": "code",
   "execution_count": 21,
   "metadata": {},
   "outputs": [
    {
     "name": "stdout",
     "output_type": "stream",
     "text": [
      "10    67\n",
      "0     68\n",
      "1     70\n",
      "11    85\n",
      "3     90\n",
      "12    90\n",
      "2     92\n",
      "8     92\n",
      "dtype: int32\n"
     ]
    }
   ],
   "source": [
    "print(ser[ser>ser.mean()].sort_values())"
   ]
  },
  {
   "cell_type": "code",
   "execution_count": 27,
   "metadata": {},
   "outputs": [
    {
     "data": {
      "text/plain": [
       "1     107\n",
       "2     101\n",
       "3     142\n",
       "6     113\n",
       "11    125\n",
       "13    107\n",
       "dtype: int64"
      ]
     },
     "execution_count": 27,
     "metadata": {},
     "output_type": "execute_result"
    }
   ],
   "source": [
    "df = pd.DataFrame(np.random.randint(10, 40, 60).reshape(-1, 4))\n",
    "df.loc[df.sum(axis=1) > 100, :].sum(axis=1)"
   ]
  },
  {
   "cell_type": "code",
   "execution_count": 28,
   "metadata": {},
   "outputs": [
    {
     "data": {
      "text/plain": [
       "0      64\n",
       "1     107\n",
       "2     101\n",
       "3     142\n",
       "4      86\n",
       "5      79\n",
       "6     113\n",
       "7     100\n",
       "8      83\n",
       "9      81\n",
       "10     98\n",
       "11    125\n",
       "12     89\n",
       "13    107\n",
       "14    100\n",
       "dtype: int64"
      ]
     },
     "execution_count": 28,
     "metadata": {},
     "output_type": "execute_result"
    }
   ],
   "source": [
    "df.sum(axis=1)"
   ]
  },
  {
   "cell_type": "code",
   "execution_count": 31,
   "metadata": {},
   "outputs": [
    {
     "ename": "AttributeError",
     "evalue": "'DataFrame' object has no attribute 'percentile'",
     "output_type": "error",
     "traceback": [
      "\u001b[1;31m---------------------------------------------------------------------------\u001b[0m",
      "\u001b[1;31mAttributeError\u001b[0m                            Traceback (most recent call last)",
      "\u001b[1;32m<ipython-input-31-4db097631bd6>\u001b[0m in \u001b[0;36m<module>\u001b[1;34m\u001b[0m\n\u001b[1;32m----> 1\u001b[1;33m \u001b[0mdf\u001b[0m\u001b[1;33m.\u001b[0m\u001b[0mpercentile\u001b[0m\u001b[1;33m(\u001b[0m\u001b[0mq\u001b[0m\u001b[1;33m=\u001b[0m\u001b[1;33m[\u001b[0m\u001b[1;36m25\u001b[0m\u001b[1;33m,\u001b[0m\u001b[1;36m50\u001b[0m\u001b[1;33m,\u001b[0m\u001b[1;36m75\u001b[0m\u001b[1;33m]\u001b[0m\u001b[1;33m)\u001b[0m\u001b[1;33m\u001b[0m\u001b[1;33m\u001b[0m\u001b[0m\n\u001b[0m",
      "\u001b[1;32m~\\Anaconda3\\lib\\site-packages\\pandas\\core\\generic.py\u001b[0m in \u001b[0;36m__getattr__\u001b[1;34m(self, name)\u001b[0m\n\u001b[0;32m   5272\u001b[0m             \u001b[1;32mif\u001b[0m \u001b[0mself\u001b[0m\u001b[1;33m.\u001b[0m\u001b[0m_info_axis\u001b[0m\u001b[1;33m.\u001b[0m\u001b[0m_can_hold_identifiers_and_holds_name\u001b[0m\u001b[1;33m(\u001b[0m\u001b[0mname\u001b[0m\u001b[1;33m)\u001b[0m\u001b[1;33m:\u001b[0m\u001b[1;33m\u001b[0m\u001b[1;33m\u001b[0m\u001b[0m\n\u001b[0;32m   5273\u001b[0m                 \u001b[1;32mreturn\u001b[0m \u001b[0mself\u001b[0m\u001b[1;33m[\u001b[0m\u001b[0mname\u001b[0m\u001b[1;33m]\u001b[0m\u001b[1;33m\u001b[0m\u001b[1;33m\u001b[0m\u001b[0m\n\u001b[1;32m-> 5274\u001b[1;33m             \u001b[1;32mreturn\u001b[0m \u001b[0mobject\u001b[0m\u001b[1;33m.\u001b[0m\u001b[0m__getattribute__\u001b[0m\u001b[1;33m(\u001b[0m\u001b[0mself\u001b[0m\u001b[1;33m,\u001b[0m \u001b[0mname\u001b[0m\u001b[1;33m)\u001b[0m\u001b[1;33m\u001b[0m\u001b[1;33m\u001b[0m\u001b[0m\n\u001b[0m\u001b[0;32m   5275\u001b[0m \u001b[1;33m\u001b[0m\u001b[0m\n\u001b[0;32m   5276\u001b[0m     \u001b[1;32mdef\u001b[0m \u001b[0m__setattr__\u001b[0m\u001b[1;33m(\u001b[0m\u001b[0mself\u001b[0m\u001b[1;33m,\u001b[0m \u001b[0mname\u001b[0m\u001b[1;33m:\u001b[0m \u001b[0mstr\u001b[0m\u001b[1;33m,\u001b[0m \u001b[0mvalue\u001b[0m\u001b[1;33m)\u001b[0m \u001b[1;33m->\u001b[0m \u001b[1;32mNone\u001b[0m\u001b[1;33m:\u001b[0m\u001b[1;33m\u001b[0m\u001b[1;33m\u001b[0m\u001b[0m\n",
      "\u001b[1;31mAttributeError\u001b[0m: 'DataFrame' object has no attribute 'percentile'"
     ]
    }
   ],
   "source": [
    "np.percentile(q=[25,50,75])"
   ]
  },
  {
   "cell_type": "code",
   "execution_count": 43,
   "metadata": {},
   "outputs": [
    {
     "name": "stdout",
     "output_type": "stream",
     "text": [
      "0       0.010000\n",
      "1       0.013738\n",
      "2       0.018874\n",
      "3       0.025929\n",
      "4       0.035622\n",
      "5       0.048939\n",
      "6       0.067234\n",
      "7       0.092367\n",
      "8       0.126896\n",
      "9       0.174333\n",
      "10      0.239503\n",
      "11      0.329034\n",
      "12      0.452035\n",
      "13      0.621017\n",
      "14      0.853168\n",
      "15      1.172102\n",
      "16      1.610262\n",
      "17      2.212216\n",
      "18      3.039195\n",
      "19      4.175319\n",
      "20      5.736153\n",
      "21      7.880463\n",
      "22     10.826367\n",
      "23     14.873521\n",
      "24     20.433597\n",
      "25     28.072162\n",
      "26     38.566204\n",
      "27     52.983169\n",
      "28     72.789538\n",
      "29    100.000000\n",
      "dtype: float64\n"
     ]
    }
   ],
   "source": [
    "ser = pd.Series(np.logspace(-2, 2, 30))\n",
    "print(ser)\n",
    "ser[ser <= np.percentile(ser, q=5)], ser[ser >= np.percentile(ser, q=95)] = np.percentile(ser, q=5), np.percentile(ser, q=95)"
   ]
  },
  {
   "cell_type": "code",
   "execution_count": 44,
   "metadata": {},
   "outputs": [
    {
     "data": {
      "text/plain": [
       "0      0.016049\n",
       "1      0.016049\n",
       "2      0.018874\n",
       "3      0.025929\n",
       "4      0.035622\n",
       "5      0.048939\n",
       "6      0.067234\n",
       "7      0.092367\n",
       "8      0.126896\n",
       "9      0.174333\n",
       "10     0.239503\n",
       "11     0.329034\n",
       "12     0.452035\n",
       "13     0.621017\n",
       "14     0.853168\n",
       "15     1.172102\n",
       "16     1.610262\n",
       "17     2.212216\n",
       "18     3.039195\n",
       "19     4.175319\n",
       "20     5.736153\n",
       "21     7.880463\n",
       "22    10.826367\n",
       "23    14.873521\n",
       "24    20.433597\n",
       "25    28.072162\n",
       "26    38.566204\n",
       "27    52.983169\n",
       "28    63.876672\n",
       "29    63.876672\n",
       "dtype: float64"
      ]
     },
     "execution_count": 44,
     "metadata": {},
     "output_type": "execute_result"
    }
   ],
   "source": [
    "ser\n"
   ]
  },
  {
   "cell_type": "code",
   "execution_count": 61,
   "metadata": {},
   "outputs": [
    {
     "name": "stdout",
     "output_type": "stream",
     "text": [
      "4 68\n",
      "[[22 36 46 45  4 26 13 39]\n",
      " [13 37 10 28 40  2 44 10]\n",
      " [41 28 31 34  8 44 49 44]\n",
      " [ 9 27 42 24 13 45 24 29]\n",
      " [30 39 45 34 32  7 25 40]\n",
      " [47 42 25  9 23  1 33 30]\n",
      " [42  1 18  2 15 19 20 41]\n",
      " [21 23 45 22 15 40 37 46]]\n",
      "[[ 22  -6  36 -14  46  45 -18 -12   4  26]\n",
      " [ 13  39  13  37  10 -11  28 -15  40   2]\n",
      " [ 44  -4  -5  10 -10 -11   0  41  28  31]\n",
      " [  0  34 -15   8  -8  44 -12  -4  49  -6]\n",
      " [ 44  -4   9  27  42  24  13  45  24  29]\n",
      " [ 30   0  39 -14  45 -12  34  32   7  25]\n",
      " [-12   0  40  47  42  25   9  23 -12   1]\n",
      " [ 33  -6 -20  30  42   1 -19  -1  -1  18]\n",
      " [  2 -12  15  19  20  41  -8 -19  21  -9]\n",
      " [-11  23 -13  45  22  15 -16  40  37  46]]\n"
     ]
    }
   ],
   "source": [
    "df = pd.DataFrame(np.random.randint(-20, 50, 100).reshape(10,-1))\n",
    "dfp = df.values[df.values >= 0]\n",
    "tot = dfp.shape[0]\n",
    "sq = int(np.floor(np.sqrt(tot)))\n",
    "kick = int(tot - sq*sq)\n",
    "print(kick, tot)\n",
    "print(dfp[np.sort(np.argsort(dfp)[kick:])].reshape((sq,-1)))\n",
    "print(df.values)\n"
   ]
  },
  {
   "cell_type": "code",
   "execution_count": 56,
   "metadata": {},
   "outputs": [
    {
     "data": {
      "text/plain": [
       "2.0"
      ]
     },
     "execution_count": 56,
     "metadata": {},
     "output_type": "execute_result"
    }
   ],
   "source": [
    "np.floor(2.5)"
   ]
  },
  {
   "cell_type": "code",
   "execution_count": 67,
   "metadata": {},
   "outputs": [
    {
     "name": "stdout",
     "output_type": "stream",
     "text": [
      "    0   1   2   3   4\n",
      "0   0   1   2   3   4\n",
      "1   5   6   7   8   9\n",
      "2  10  11  12  13  14\n",
      "3  15  16  17  18  19\n",
      "4  20  21  22  23  24\n",
      "    0   1   2   3   4\n",
      "0   0   1   2   3   4\n",
      "1   5   6   7   8   9\n",
      "2  15  16  17  18  19\n",
      "3  10  11  12  13  14\n",
      "4  20  21  22  23  24\n"
     ]
    }
   ],
   "source": [
    "df = pd.DataFrame(np.arange(25).reshape(5, -1))\n",
    "print(df)\n",
    "tmp = df.iloc[2,:].copy()\n",
    "df.iloc[2,:] = df.iloc[3,:].copy()\n",
    "df.iloc[3,:] = tmp\n",
    "print(df)"
   ]
  },
  {
   "cell_type": "code",
   "execution_count": 70,
   "metadata": {},
   "outputs": [
    {
     "data": {
      "text/plain": [
       "(    0   1   2   3   4\n",
       " 4  20  21  22  23  24\n",
       " 3  15  16  17  18  19\n",
       " 2  10  11  12  13  14\n",
       " 1   5   6   7   8   9\n",
       " 0   0   1   2   3   4,\n",
       "     0   1   2   3   4\n",
       " 0   0   1   2   3   4\n",
       " 1   5   6   7   8   9\n",
       " 2  10  11  12  13  14\n",
       " 3  15  16  17  18  19\n",
       " 4  20  21  22  23  24)"
      ]
     },
     "execution_count": 70,
     "metadata": {},
     "output_type": "execute_result"
    }
   ],
   "source": [
    "df = pd.DataFrame(np.arange(25).reshape(5, -1))\n",
    "df.reset_index(inplace=True, drop=True)\n",
    "df.iloc[(df.shape[0]-1)::-1], df"
   ]
  },
  {
   "cell_type": "code",
   "execution_count": 76,
   "metadata": {},
   "outputs": [
    {
     "data": {
      "text/html": [
       "<div>\n",
       "<style scoped>\n",
       "    .dataframe tbody tr th:only-of-type {\n",
       "        vertical-align: middle;\n",
       "    }\n",
       "\n",
       "    .dataframe tbody tr th {\n",
       "        vertical-align: top;\n",
       "    }\n",
       "\n",
       "    .dataframe thead th {\n",
       "        text-align: right;\n",
       "    }\n",
       "</style>\n",
       "<table border=\"1\" class=\"dataframe\">\n",
       "  <thead>\n",
       "    <tr style=\"text-align: right;\">\n",
       "      <th></th>\n",
       "      <th>b</th>\n",
       "      <th>c</th>\n",
       "      <th>d</th>\n",
       "      <th>e</th>\n",
       "      <th>a_0</th>\n",
       "      <th>a_5</th>\n",
       "      <th>a_10</th>\n",
       "      <th>a_15</th>\n",
       "      <th>a_20</th>\n",
       "    </tr>\n",
       "  </thead>\n",
       "  <tbody>\n",
       "    <tr>\n",
       "      <th>0</th>\n",
       "      <td>1</td>\n",
       "      <td>2</td>\n",
       "      <td>3</td>\n",
       "      <td>4</td>\n",
       "      <td>1</td>\n",
       "      <td>0</td>\n",
       "      <td>0</td>\n",
       "      <td>0</td>\n",
       "      <td>0</td>\n",
       "    </tr>\n",
       "    <tr>\n",
       "      <th>1</th>\n",
       "      <td>6</td>\n",
       "      <td>7</td>\n",
       "      <td>8</td>\n",
       "      <td>9</td>\n",
       "      <td>0</td>\n",
       "      <td>1</td>\n",
       "      <td>0</td>\n",
       "      <td>0</td>\n",
       "      <td>0</td>\n",
       "    </tr>\n",
       "    <tr>\n",
       "      <th>2</th>\n",
       "      <td>11</td>\n",
       "      <td>12</td>\n",
       "      <td>13</td>\n",
       "      <td>14</td>\n",
       "      <td>0</td>\n",
       "      <td>0</td>\n",
       "      <td>1</td>\n",
       "      <td>0</td>\n",
       "      <td>0</td>\n",
       "    </tr>\n",
       "    <tr>\n",
       "      <th>3</th>\n",
       "      <td>16</td>\n",
       "      <td>17</td>\n",
       "      <td>18</td>\n",
       "      <td>19</td>\n",
       "      <td>0</td>\n",
       "      <td>0</td>\n",
       "      <td>0</td>\n",
       "      <td>1</td>\n",
       "      <td>0</td>\n",
       "    </tr>\n",
       "    <tr>\n",
       "      <th>4</th>\n",
       "      <td>21</td>\n",
       "      <td>22</td>\n",
       "      <td>23</td>\n",
       "      <td>24</td>\n",
       "      <td>0</td>\n",
       "      <td>0</td>\n",
       "      <td>0</td>\n",
       "      <td>0</td>\n",
       "      <td>1</td>\n",
       "    </tr>\n",
       "  </tbody>\n",
       "</table>\n",
       "</div>"
      ],
      "text/plain": [
       "    b   c   d   e  a_0  a_5  a_10  a_15  a_20\n",
       "0   1   2   3   4    1    0     0     0     0\n",
       "1   6   7   8   9    0    1     0     0     0\n",
       "2  11  12  13  14    0    0     1     0     0\n",
       "3  16  17  18  19    0    0     0     1     0\n",
       "4  21  22  23  24    0    0     0     0     1"
      ]
     },
     "execution_count": 76,
     "metadata": {},
     "output_type": "execute_result"
    }
   ],
   "source": [
    "df = pd.DataFrame(np.arange(25).reshape(5,-1), columns=list('abcde'))\n",
    "pd.get_dummies(df, columns=['a'])"
   ]
  },
  {
   "cell_type": "code",
   "execution_count": 81,
   "metadata": {},
   "outputs": [
    {
     "name": "stdout",
     "output_type": "stream",
     "text": [
      "Counter({2: 4, 0: 4, 3: 1, 1: 1})\n"
     ]
    },
    {
     "data": {
      "text/plain": [
       "0"
      ]
     },
     "execution_count": 81,
     "metadata": {},
     "output_type": "execute_result"
    }
   ],
   "source": [
    "from collections import Counter\n",
    "\n",
    "df = pd.DataFrame(np.random.randint(1,100, 40).reshape(10, -1))\n",
    "yo = []\n",
    "for i in range(df.shape[0]):\n",
    "    yo.append(np.argmax(df.iloc[i,:]))\n",
    "print(Counter(yo))\n",
    "sorted(Counter(yo).items(), key=lambda x: x[1])[-1][0]\n",
    "    "
   ]
  },
  {
   "cell_type": "code",
   "execution_count": 83,
   "metadata": {},
   "outputs": [
    {
     "data": {
      "text/html": [
       "<div>\n",
       "<style scoped>\n",
       "    .dataframe tbody tr th:only-of-type {\n",
       "        vertical-align: middle;\n",
       "    }\n",
       "\n",
       "    .dataframe tbody tr th {\n",
       "        vertical-align: top;\n",
       "    }\n",
       "\n",
       "    .dataframe thead tr th {\n",
       "        text-align: left;\n",
       "    }\n",
       "\n",
       "    .dataframe thead tr:last-of-type th {\n",
       "        text-align: right;\n",
       "    }\n",
       "</style>\n",
       "<table border=\"1\" class=\"dataframe\">\n",
       "  <thead>\n",
       "    <tr>\n",
       "      <th></th>\n",
       "      <th colspan=\"2\" halign=\"left\">1</th>\n",
       "      <th colspan=\"2\" halign=\"left\">2</th>\n",
       "      <th colspan=\"2\" halign=\"left\">3</th>\n",
       "    </tr>\n",
       "    <tr>\n",
       "      <th></th>\n",
       "      <th>mean</th>\n",
       "      <th>median</th>\n",
       "      <th>mean</th>\n",
       "      <th>median</th>\n",
       "      <th>mean</th>\n",
       "      <th>median</th>\n",
       "    </tr>\n",
       "    <tr>\n",
       "      <th>0</th>\n",
       "      <th></th>\n",
       "      <th></th>\n",
       "      <th></th>\n",
       "      <th></th>\n",
       "      <th></th>\n",
       "      <th></th>\n",
       "    </tr>\n",
       "  </thead>\n",
       "  <tbody>\n",
       "    <tr>\n",
       "      <th>18</th>\n",
       "      <td>2</td>\n",
       "      <td>2</td>\n",
       "      <td>78.0</td>\n",
       "      <td>78.0</td>\n",
       "      <td>67</td>\n",
       "      <td>67</td>\n",
       "    </tr>\n",
       "    <tr>\n",
       "      <th>21</th>\n",
       "      <td>85</td>\n",
       "      <td>85</td>\n",
       "      <td>3.0</td>\n",
       "      <td>3.0</td>\n",
       "      <td>59</td>\n",
       "      <td>59</td>\n",
       "    </tr>\n",
       "    <tr>\n",
       "      <th>41</th>\n",
       "      <td>10</td>\n",
       "      <td>10</td>\n",
       "      <td>58.0</td>\n",
       "      <td>58.0</td>\n",
       "      <td>15</td>\n",
       "      <td>15</td>\n",
       "    </tr>\n",
       "    <tr>\n",
       "      <th>42</th>\n",
       "      <td>57</td>\n",
       "      <td>57</td>\n",
       "      <td>44.5</td>\n",
       "      <td>44.5</td>\n",
       "      <td>56</td>\n",
       "      <td>56</td>\n",
       "    </tr>\n",
       "    <tr>\n",
       "      <th>63</th>\n",
       "      <td>85</td>\n",
       "      <td>85</td>\n",
       "      <td>99.0</td>\n",
       "      <td>99.0</td>\n",
       "      <td>46</td>\n",
       "      <td>46</td>\n",
       "    </tr>\n",
       "    <tr>\n",
       "      <th>64</th>\n",
       "      <td>31</td>\n",
       "      <td>31</td>\n",
       "      <td>52.0</td>\n",
       "      <td>52.0</td>\n",
       "      <td>1</td>\n",
       "      <td>1</td>\n",
       "    </tr>\n",
       "    <tr>\n",
       "      <th>82</th>\n",
       "      <td>42</td>\n",
       "      <td>42</td>\n",
       "      <td>64.0</td>\n",
       "      <td>64.0</td>\n",
       "      <td>32</td>\n",
       "      <td>32</td>\n",
       "    </tr>\n",
       "    <tr>\n",
       "      <th>86</th>\n",
       "      <td>58</td>\n",
       "      <td>58</td>\n",
       "      <td>62.0</td>\n",
       "      <td>62.0</td>\n",
       "      <td>84</td>\n",
       "      <td>84</td>\n",
       "    </tr>\n",
       "    <tr>\n",
       "      <th>99</th>\n",
       "      <td>10</td>\n",
       "      <td>10</td>\n",
       "      <td>69.0</td>\n",
       "      <td>69.0</td>\n",
       "      <td>49</td>\n",
       "      <td>49</td>\n",
       "    </tr>\n",
       "  </tbody>\n",
       "</table>\n",
       "</div>"
      ],
      "text/plain": [
       "      1            2           3       \n",
       "   mean median  mean median mean median\n",
       "0                                      \n",
       "18    2      2  78.0   78.0   67     67\n",
       "21   85     85   3.0    3.0   59     59\n",
       "41   10     10  58.0   58.0   15     15\n",
       "42   57     57  44.5   44.5   56     56\n",
       "63   85     85  99.0   99.0   46     46\n",
       "64   31     31  52.0   52.0    1      1\n",
       "82   42     42  64.0   64.0   32     32\n",
       "86   58     58  62.0   62.0   84     84\n",
       "99   10     10  69.0   69.0   49     49"
      ]
     },
     "execution_count": 83,
     "metadata": {},
     "output_type": "execute_result"
    }
   ],
   "source": [
    "df.groupby(0).agg(['mean', 'median'])"
   ]
  },
  {
   "cell_type": "code",
   "execution_count": 84,
   "metadata": {},
   "outputs": [
    {
     "data": {
      "text/html": [
       "<div>\n",
       "<style scoped>\n",
       "    .dataframe tbody tr th:only-of-type {\n",
       "        vertical-align: middle;\n",
       "    }\n",
       "\n",
       "    .dataframe tbody tr th {\n",
       "        vertical-align: top;\n",
       "    }\n",
       "\n",
       "    .dataframe thead th {\n",
       "        text-align: right;\n",
       "    }\n",
       "</style>\n",
       "<table border=\"1\" class=\"dataframe\">\n",
       "  <thead>\n",
       "    <tr style=\"text-align: right;\">\n",
       "      <th></th>\n",
       "      <th>0</th>\n",
       "      <th>1</th>\n",
       "      <th>2</th>\n",
       "      <th>3</th>\n",
       "    </tr>\n",
       "  </thead>\n",
       "  <tbody>\n",
       "    <tr>\n",
       "      <th>0</th>\n",
       "      <td>42</td>\n",
       "      <td>71</td>\n",
       "      <td>85</td>\n",
       "      <td>56</td>\n",
       "    </tr>\n",
       "    <tr>\n",
       "      <th>1</th>\n",
       "      <td>82</td>\n",
       "      <td>42</td>\n",
       "      <td>64</td>\n",
       "      <td>32</td>\n",
       "    </tr>\n",
       "    <tr>\n",
       "      <th>2</th>\n",
       "      <td>42</td>\n",
       "      <td>43</td>\n",
       "      <td>4</td>\n",
       "      <td>56</td>\n",
       "    </tr>\n",
       "    <tr>\n",
       "      <th>3</th>\n",
       "      <td>21</td>\n",
       "      <td>85</td>\n",
       "      <td>3</td>\n",
       "      <td>59</td>\n",
       "    </tr>\n",
       "    <tr>\n",
       "      <th>4</th>\n",
       "      <td>63</td>\n",
       "      <td>85</td>\n",
       "      <td>99</td>\n",
       "      <td>46</td>\n",
       "    </tr>\n",
       "    <tr>\n",
       "      <th>5</th>\n",
       "      <td>18</td>\n",
       "      <td>2</td>\n",
       "      <td>78</td>\n",
       "      <td>67</td>\n",
       "    </tr>\n",
       "    <tr>\n",
       "      <th>6</th>\n",
       "      <td>41</td>\n",
       "      <td>10</td>\n",
       "      <td>58</td>\n",
       "      <td>15</td>\n",
       "    </tr>\n",
       "    <tr>\n",
       "      <th>7</th>\n",
       "      <td>64</td>\n",
       "      <td>31</td>\n",
       "      <td>52</td>\n",
       "      <td>1</td>\n",
       "    </tr>\n",
       "    <tr>\n",
       "      <th>8</th>\n",
       "      <td>86</td>\n",
       "      <td>58</td>\n",
       "      <td>62</td>\n",
       "      <td>84</td>\n",
       "    </tr>\n",
       "    <tr>\n",
       "      <th>9</th>\n",
       "      <td>99</td>\n",
       "      <td>10</td>\n",
       "      <td>69</td>\n",
       "      <td>49</td>\n",
       "    </tr>\n",
       "  </tbody>\n",
       "</table>\n",
       "</div>"
      ],
      "text/plain": [
       "    0   1   2   3\n",
       "0  42  71  85  56\n",
       "1  82  42  64  32\n",
       "2  42  43   4  56\n",
       "3  21  85   3  59\n",
       "4  63  85  99  46\n",
       "5  18   2  78  67\n",
       "6  41  10  58  15\n",
       "7  64  31  52   1\n",
       "8  86  58  62  84\n",
       "9  99  10  69  49"
      ]
     },
     "execution_count": 84,
     "metadata": {},
     "output_type": "execute_result"
    }
   ],
   "source": [
    "df"
   ]
  },
  {
   "cell_type": "code",
   "execution_count": 88,
   "metadata": {},
   "outputs": [
    {
     "data": {
      "text/plain": [
       "a        0\n",
       "b     9540\n",
       "c     7546\n",
       "d    12943\n",
       "e    14854\n",
       "f     6348\n",
       "g     4060\n",
       "h     8611\n",
       "i     5115\n",
       "j     2215\n",
       "dtype: int64"
      ]
     },
     "execution_count": 88,
     "metadata": {},
     "output_type": "execute_result"
    }
   ],
   "source": [
    "df = pd.DataFrame(np.random.randint(1,100, 40).reshape(10, -1), columns=list('pqrs'), index=list('abcdefghij'))\n",
    "tmp = df.apply(lambda x: np.sum((x - df.loc['a',:]) ** 2), axis = 1)\n",
    "tmp[tmp > 0]"
   ]
  },
  {
   "cell_type": "code",
   "execution_count": 94,
   "metadata": {},
   "outputs": [
    {
     "data": {
      "text/plain": [
       "('s', 'r', 0.7993349579905448)"
      ]
     },
     "execution_count": 94,
     "metadata": {},
     "output_type": "execute_result"
    }
   ],
   "source": [
    "df = pd.DataFrame(np.random.randint(1,100, 80).reshape(8, -1), columns=list('pqrstuvwxy'), index=list('abcdefgh'))\n",
    "\n",
    "corrs = []\n",
    "df_corr = df.corr()\n",
    "for i in range(df.shape[1]):\n",
    "    for j in range(i):\n",
    "        corrs.append((df_corr.index[i], df_corr.index[j], df_corr.iloc[i,j]))\n",
    "max(corrs, key=lambda x:abs(x[2]))"
   ]
  },
  {
   "cell_type": "code",
   "execution_count": 102,
   "metadata": {},
   "outputs": [
    {
     "data": {
      "text/html": [
       "<div>\n",
       "<style scoped>\n",
       "    .dataframe tbody tr th:only-of-type {\n",
       "        vertical-align: middle;\n",
       "    }\n",
       "\n",
       "    .dataframe tbody tr th {\n",
       "        vertical-align: top;\n",
       "    }\n",
       "\n",
       "    .dataframe thead th {\n",
       "        text-align: right;\n",
       "    }\n",
       "</style>\n",
       "<table border=\"1\" class=\"dataframe\">\n",
       "  <thead>\n",
       "    <tr style=\"text-align: right;\">\n",
       "      <th></th>\n",
       "      <th>p</th>\n",
       "      <th>q</th>\n",
       "      <th>r</th>\n",
       "      <th>s</th>\n",
       "      <th>t</th>\n",
       "      <th>u</th>\n",
       "      <th>v</th>\n",
       "      <th>w</th>\n",
       "      <th>x</th>\n",
       "      <th>y</th>\n",
       "    </tr>\n",
       "  </thead>\n",
       "  <tbody>\n",
       "    <tr>\n",
       "      <th>p</th>\n",
       "      <td>1.0</td>\n",
       "      <td>NaN</td>\n",
       "      <td>NaN</td>\n",
       "      <td>NaN</td>\n",
       "      <td>NaN</td>\n",
       "      <td>NaN</td>\n",
       "      <td>NaN</td>\n",
       "      <td>NaN</td>\n",
       "      <td>NaN</td>\n",
       "      <td>NaN</td>\n",
       "    </tr>\n",
       "    <tr>\n",
       "      <th>q</th>\n",
       "      <td>NaN</td>\n",
       "      <td>1.0</td>\n",
       "      <td>NaN</td>\n",
       "      <td>NaN</td>\n",
       "      <td>NaN</td>\n",
       "      <td>NaN</td>\n",
       "      <td>NaN</td>\n",
       "      <td>NaN</td>\n",
       "      <td>NaN</td>\n",
       "      <td>NaN</td>\n",
       "    </tr>\n",
       "    <tr>\n",
       "      <th>r</th>\n",
       "      <td>NaN</td>\n",
       "      <td>NaN</td>\n",
       "      <td>1.000000</td>\n",
       "      <td>0.799335</td>\n",
       "      <td>NaN</td>\n",
       "      <td>NaN</td>\n",
       "      <td>NaN</td>\n",
       "      <td>NaN</td>\n",
       "      <td>NaN</td>\n",
       "      <td>NaN</td>\n",
       "    </tr>\n",
       "    <tr>\n",
       "      <th>s</th>\n",
       "      <td>NaN</td>\n",
       "      <td>NaN</td>\n",
       "      <td>0.799335</td>\n",
       "      <td>1.000000</td>\n",
       "      <td>NaN</td>\n",
       "      <td>NaN</td>\n",
       "      <td>NaN</td>\n",
       "      <td>NaN</td>\n",
       "      <td>NaN</td>\n",
       "      <td>NaN</td>\n",
       "    </tr>\n",
       "    <tr>\n",
       "      <th>t</th>\n",
       "      <td>NaN</td>\n",
       "      <td>NaN</td>\n",
       "      <td>NaN</td>\n",
       "      <td>NaN</td>\n",
       "      <td>1.0</td>\n",
       "      <td>NaN</td>\n",
       "      <td>NaN</td>\n",
       "      <td>NaN</td>\n",
       "      <td>NaN</td>\n",
       "      <td>NaN</td>\n",
       "    </tr>\n",
       "    <tr>\n",
       "      <th>u</th>\n",
       "      <td>NaN</td>\n",
       "      <td>NaN</td>\n",
       "      <td>NaN</td>\n",
       "      <td>NaN</td>\n",
       "      <td>NaN</td>\n",
       "      <td>1.0</td>\n",
       "      <td>NaN</td>\n",
       "      <td>NaN</td>\n",
       "      <td>NaN</td>\n",
       "      <td>NaN</td>\n",
       "    </tr>\n",
       "    <tr>\n",
       "      <th>v</th>\n",
       "      <td>NaN</td>\n",
       "      <td>NaN</td>\n",
       "      <td>NaN</td>\n",
       "      <td>NaN</td>\n",
       "      <td>NaN</td>\n",
       "      <td>NaN</td>\n",
       "      <td>1.0</td>\n",
       "      <td>NaN</td>\n",
       "      <td>NaN</td>\n",
       "      <td>NaN</td>\n",
       "    </tr>\n",
       "    <tr>\n",
       "      <th>w</th>\n",
       "      <td>NaN</td>\n",
       "      <td>NaN</td>\n",
       "      <td>NaN</td>\n",
       "      <td>NaN</td>\n",
       "      <td>NaN</td>\n",
       "      <td>NaN</td>\n",
       "      <td>NaN</td>\n",
       "      <td>1.0</td>\n",
       "      <td>NaN</td>\n",
       "      <td>NaN</td>\n",
       "    </tr>\n",
       "    <tr>\n",
       "      <th>x</th>\n",
       "      <td>NaN</td>\n",
       "      <td>NaN</td>\n",
       "      <td>NaN</td>\n",
       "      <td>NaN</td>\n",
       "      <td>NaN</td>\n",
       "      <td>NaN</td>\n",
       "      <td>NaN</td>\n",
       "      <td>NaN</td>\n",
       "      <td>1.0</td>\n",
       "      <td>NaN</td>\n",
       "    </tr>\n",
       "    <tr>\n",
       "      <th>y</th>\n",
       "      <td>NaN</td>\n",
       "      <td>NaN</td>\n",
       "      <td>NaN</td>\n",
       "      <td>NaN</td>\n",
       "      <td>NaN</td>\n",
       "      <td>NaN</td>\n",
       "      <td>NaN</td>\n",
       "      <td>NaN</td>\n",
       "      <td>NaN</td>\n",
       "      <td>1.0</td>\n",
       "    </tr>\n",
       "  </tbody>\n",
       "</table>\n",
       "</div>"
      ],
      "text/plain": [
       "     p    q         r         s    t    u    v    w    x    y\n",
       "p  1.0  NaN       NaN       NaN  NaN  NaN  NaN  NaN  NaN  NaN\n",
       "q  NaN  1.0       NaN       NaN  NaN  NaN  NaN  NaN  NaN  NaN\n",
       "r  NaN  NaN  1.000000  0.799335  NaN  NaN  NaN  NaN  NaN  NaN\n",
       "s  NaN  NaN  0.799335  1.000000  NaN  NaN  NaN  NaN  NaN  NaN\n",
       "t  NaN  NaN       NaN       NaN  1.0  NaN  NaN  NaN  NaN  NaN\n",
       "u  NaN  NaN       NaN       NaN  NaN  1.0  NaN  NaN  NaN  NaN\n",
       "v  NaN  NaN       NaN       NaN  NaN  NaN  1.0  NaN  NaN  NaN\n",
       "w  NaN  NaN       NaN       NaN  NaN  NaN  NaN  1.0  NaN  NaN\n",
       "x  NaN  NaN       NaN       NaN  NaN  NaN  NaN  NaN  1.0  NaN\n",
       "y  NaN  NaN       NaN       NaN  NaN  NaN  NaN  NaN  NaN  1.0"
      ]
     },
     "execution_count": 102,
     "metadata": {},
     "output_type": "execute_result"
    }
   ],
   "source": [
    "df_corr[df_corr > 0.799]"
   ]
  },
  {
   "cell_type": "code",
   "execution_count": 103,
   "metadata": {},
   "outputs": [
    {
     "data": {
      "text/plain": [
       "0    0.051546\n",
       "1    0.052632\n",
       "2    0.050505\n",
       "3    0.102273\n",
       "4    0.072165\n",
       "5    0.137931\n",
       "6    0.094595\n",
       "7    0.053191\n",
       "dtype: float64"
      ]
     },
     "execution_count": 103,
     "metadata": {},
     "output_type": "execute_result"
    }
   ],
   "source": [
    "df = pd.DataFrame(np.random.randint(1,100, 80).reshape(8, -1))\n",
    "df.apply(lambda x: np.min(x)/np.max(x), axis=1)"
   ]
  },
  {
   "cell_type": "code",
   "execution_count": 104,
   "metadata": {},
   "outputs": [
    {
     "data": {
      "text/html": [
       "<div>\n",
       "<style scoped>\n",
       "    .dataframe tbody tr th:only-of-type {\n",
       "        vertical-align: middle;\n",
       "    }\n",
       "\n",
       "    .dataframe tbody tr th {\n",
       "        vertical-align: top;\n",
       "    }\n",
       "\n",
       "    .dataframe thead th {\n",
       "        text-align: right;\n",
       "    }\n",
       "</style>\n",
       "<table border=\"1\" class=\"dataframe\">\n",
       "  <thead>\n",
       "    <tr style=\"text-align: right;\">\n",
       "      <th></th>\n",
       "      <th>0</th>\n",
       "      <th>1</th>\n",
       "      <th>2</th>\n",
       "      <th>3</th>\n",
       "      <th>4</th>\n",
       "      <th>5</th>\n",
       "      <th>6</th>\n",
       "      <th>7</th>\n",
       "      <th>8</th>\n",
       "      <th>9</th>\n",
       "    </tr>\n",
       "  </thead>\n",
       "  <tbody>\n",
       "    <tr>\n",
       "      <th>0</th>\n",
       "      <td>87</td>\n",
       "      <td>53</td>\n",
       "      <td>84</td>\n",
       "      <td>13</td>\n",
       "      <td>71</td>\n",
       "      <td>16</td>\n",
       "      <td>97</td>\n",
       "      <td>67</td>\n",
       "      <td>5</td>\n",
       "      <td>65</td>\n",
       "    </tr>\n",
       "    <tr>\n",
       "      <th>1</th>\n",
       "      <td>95</td>\n",
       "      <td>24</td>\n",
       "      <td>93</td>\n",
       "      <td>95</td>\n",
       "      <td>33</td>\n",
       "      <td>32</td>\n",
       "      <td>5</td>\n",
       "      <td>58</td>\n",
       "      <td>7</td>\n",
       "      <td>13</td>\n",
       "    </tr>\n",
       "    <tr>\n",
       "      <th>2</th>\n",
       "      <td>94</td>\n",
       "      <td>59</td>\n",
       "      <td>99</td>\n",
       "      <td>79</td>\n",
       "      <td>98</td>\n",
       "      <td>96</td>\n",
       "      <td>5</td>\n",
       "      <td>43</td>\n",
       "      <td>89</td>\n",
       "      <td>83</td>\n",
       "    </tr>\n",
       "    <tr>\n",
       "      <th>3</th>\n",
       "      <td>33</td>\n",
       "      <td>53</td>\n",
       "      <td>9</td>\n",
       "      <td>19</td>\n",
       "      <td>12</td>\n",
       "      <td>35</td>\n",
       "      <td>30</td>\n",
       "      <td>19</td>\n",
       "      <td>88</td>\n",
       "      <td>77</td>\n",
       "    </tr>\n",
       "    <tr>\n",
       "      <th>4</th>\n",
       "      <td>7</td>\n",
       "      <td>78</td>\n",
       "      <td>58</td>\n",
       "      <td>97</td>\n",
       "      <td>60</td>\n",
       "      <td>12</td>\n",
       "      <td>42</td>\n",
       "      <td>54</td>\n",
       "      <td>37</td>\n",
       "      <td>22</td>\n",
       "    </tr>\n",
       "    <tr>\n",
       "      <th>5</th>\n",
       "      <td>28</td>\n",
       "      <td>87</td>\n",
       "      <td>12</td>\n",
       "      <td>41</td>\n",
       "      <td>61</td>\n",
       "      <td>29</td>\n",
       "      <td>16</td>\n",
       "      <td>35</td>\n",
       "      <td>65</td>\n",
       "      <td>73</td>\n",
       "    </tr>\n",
       "    <tr>\n",
       "      <th>6</th>\n",
       "      <td>36</td>\n",
       "      <td>53</td>\n",
       "      <td>20</td>\n",
       "      <td>44</td>\n",
       "      <td>31</td>\n",
       "      <td>53</td>\n",
       "      <td>19</td>\n",
       "      <td>74</td>\n",
       "      <td>7</td>\n",
       "      <td>70</td>\n",
       "    </tr>\n",
       "    <tr>\n",
       "      <th>7</th>\n",
       "      <td>93</td>\n",
       "      <td>41</td>\n",
       "      <td>25</td>\n",
       "      <td>94</td>\n",
       "      <td>21</td>\n",
       "      <td>57</td>\n",
       "      <td>5</td>\n",
       "      <td>91</td>\n",
       "      <td>22</td>\n",
       "      <td>72</td>\n",
       "    </tr>\n",
       "  </tbody>\n",
       "</table>\n",
       "</div>"
      ],
      "text/plain": [
       "    0   1   2   3   4   5   6   7   8   9\n",
       "0  87  53  84  13  71  16  97  67   5  65\n",
       "1  95  24  93  95  33  32   5  58   7  13\n",
       "2  94  59  99  79  98  96   5  43  89  83\n",
       "3  33  53   9  19  12  35  30  19  88  77\n",
       "4   7  78  58  97  60  12  42  54  37  22\n",
       "5  28  87  12  41  61  29  16  35  65  73\n",
       "6  36  53  20  44  31  53  19  74   7  70\n",
       "7  93  41  25  94  21  57   5  91  22  72"
      ]
     },
     "execution_count": 104,
     "metadata": {},
     "output_type": "execute_result"
    }
   ],
   "source": [
    "df"
   ]
  },
  {
   "cell_type": "code",
   "execution_count": 105,
   "metadata": {},
   "outputs": [
    {
     "data": {
      "text/plain": [
       "(0.05154639175257732,\n",
       " 0.05263157894736842,\n",
       " 0.050505050505050504,\n",
       " 0.10227272727272728,\n",
       " 0.07216494845360824)"
      ]
     },
     "execution_count": 105,
     "metadata": {},
     "output_type": "execute_result"
    }
   ],
   "source": [
    "5/97, 5/95, 5/99, 9/88, 7/97"
   ]
  },
  {
   "cell_type": "code",
   "execution_count": 108,
   "metadata": {},
   "outputs": [],
   "source": [
    "df = pd.DataFrame(np.random.randint(1,100, 80).reshape(8, -1))\n",
    "df['penultimate'] = df.apply(lambda x: np.sort(x)[-2], axis=1)"
   ]
  },
  {
   "cell_type": "code",
   "execution_count": 109,
   "metadata": {},
   "outputs": [
    {
     "data": {
      "text/html": [
       "<div>\n",
       "<style scoped>\n",
       "    .dataframe tbody tr th:only-of-type {\n",
       "        vertical-align: middle;\n",
       "    }\n",
       "\n",
       "    .dataframe tbody tr th {\n",
       "        vertical-align: top;\n",
       "    }\n",
       "\n",
       "    .dataframe thead th {\n",
       "        text-align: right;\n",
       "    }\n",
       "</style>\n",
       "<table border=\"1\" class=\"dataframe\">\n",
       "  <thead>\n",
       "    <tr style=\"text-align: right;\">\n",
       "      <th></th>\n",
       "      <th>0</th>\n",
       "      <th>1</th>\n",
       "      <th>2</th>\n",
       "      <th>3</th>\n",
       "      <th>4</th>\n",
       "      <th>5</th>\n",
       "      <th>6</th>\n",
       "      <th>7</th>\n",
       "      <th>8</th>\n",
       "      <th>9</th>\n",
       "      <th>penultimate</th>\n",
       "    </tr>\n",
       "  </thead>\n",
       "  <tbody>\n",
       "    <tr>\n",
       "      <th>0</th>\n",
       "      <td>98</td>\n",
       "      <td>82</td>\n",
       "      <td>72</td>\n",
       "      <td>17</td>\n",
       "      <td>66</td>\n",
       "      <td>49</td>\n",
       "      <td>89</td>\n",
       "      <td>80</td>\n",
       "      <td>96</td>\n",
       "      <td>15</td>\n",
       "      <td>96</td>\n",
       "    </tr>\n",
       "    <tr>\n",
       "      <th>1</th>\n",
       "      <td>64</td>\n",
       "      <td>21</td>\n",
       "      <td>54</td>\n",
       "      <td>54</td>\n",
       "      <td>18</td>\n",
       "      <td>15</td>\n",
       "      <td>76</td>\n",
       "      <td>71</td>\n",
       "      <td>57</td>\n",
       "      <td>25</td>\n",
       "      <td>71</td>\n",
       "    </tr>\n",
       "    <tr>\n",
       "      <th>2</th>\n",
       "      <td>9</td>\n",
       "      <td>87</td>\n",
       "      <td>9</td>\n",
       "      <td>42</td>\n",
       "      <td>73</td>\n",
       "      <td>96</td>\n",
       "      <td>16</td>\n",
       "      <td>26</td>\n",
       "      <td>12</td>\n",
       "      <td>1</td>\n",
       "      <td>87</td>\n",
       "    </tr>\n",
       "    <tr>\n",
       "      <th>3</th>\n",
       "      <td>96</td>\n",
       "      <td>23</td>\n",
       "      <td>48</td>\n",
       "      <td>82</td>\n",
       "      <td>76</td>\n",
       "      <td>16</td>\n",
       "      <td>98</td>\n",
       "      <td>41</td>\n",
       "      <td>31</td>\n",
       "      <td>66</td>\n",
       "      <td>96</td>\n",
       "    </tr>\n",
       "    <tr>\n",
       "      <th>4</th>\n",
       "      <td>67</td>\n",
       "      <td>20</td>\n",
       "      <td>5</td>\n",
       "      <td>65</td>\n",
       "      <td>60</td>\n",
       "      <td>85</td>\n",
       "      <td>68</td>\n",
       "      <td>64</td>\n",
       "      <td>42</td>\n",
       "      <td>10</td>\n",
       "      <td>68</td>\n",
       "    </tr>\n",
       "    <tr>\n",
       "      <th>5</th>\n",
       "      <td>67</td>\n",
       "      <td>62</td>\n",
       "      <td>64</td>\n",
       "      <td>24</td>\n",
       "      <td>30</td>\n",
       "      <td>88</td>\n",
       "      <td>38</td>\n",
       "      <td>31</td>\n",
       "      <td>3</td>\n",
       "      <td>74</td>\n",
       "      <td>74</td>\n",
       "    </tr>\n",
       "    <tr>\n",
       "      <th>6</th>\n",
       "      <td>44</td>\n",
       "      <td>77</td>\n",
       "      <td>55</td>\n",
       "      <td>20</td>\n",
       "      <td>81</td>\n",
       "      <td>68</td>\n",
       "      <td>21</td>\n",
       "      <td>69</td>\n",
       "      <td>16</td>\n",
       "      <td>15</td>\n",
       "      <td>77</td>\n",
       "    </tr>\n",
       "    <tr>\n",
       "      <th>7</th>\n",
       "      <td>51</td>\n",
       "      <td>44</td>\n",
       "      <td>3</td>\n",
       "      <td>79</td>\n",
       "      <td>40</td>\n",
       "      <td>50</td>\n",
       "      <td>31</td>\n",
       "      <td>54</td>\n",
       "      <td>74</td>\n",
       "      <td>29</td>\n",
       "      <td>74</td>\n",
       "    </tr>\n",
       "  </tbody>\n",
       "</table>\n",
       "</div>"
      ],
      "text/plain": [
       "    0   1   2   3   4   5   6   7   8   9  penultimate\n",
       "0  98  82  72  17  66  49  89  80  96  15           96\n",
       "1  64  21  54  54  18  15  76  71  57  25           71\n",
       "2   9  87   9  42  73  96  16  26  12   1           87\n",
       "3  96  23  48  82  76  16  98  41  31  66           96\n",
       "4  67  20   5  65  60  85  68  64  42  10           68\n",
       "5  67  62  64  24  30  88  38  31   3  74           74\n",
       "6  44  77  55  20  81  68  21  69  16  15           77\n",
       "7  51  44   3  79  40  50  31  54  74  29           74"
      ]
     },
     "execution_count": 109,
     "metadata": {},
     "output_type": "execute_result"
    }
   ],
   "source": [
    "df"
   ]
  },
  {
   "cell_type": "code",
   "execution_count": 117,
   "metadata": {},
   "outputs": [
    {
     "data": {
      "text/html": [
       "<div>\n",
       "<style scoped>\n",
       "    .dataframe tbody tr th:only-of-type {\n",
       "        vertical-align: middle;\n",
       "    }\n",
       "\n",
       "    .dataframe tbody tr th {\n",
       "        vertical-align: top;\n",
       "    }\n",
       "\n",
       "    .dataframe thead th {\n",
       "        text-align: right;\n",
       "    }\n",
       "</style>\n",
       "<table border=\"1\" class=\"dataframe\">\n",
       "  <thead>\n",
       "    <tr style=\"text-align: right;\">\n",
       "      <th></th>\n",
       "      <th>0</th>\n",
       "      <th>1</th>\n",
       "      <th>2</th>\n",
       "      <th>3</th>\n",
       "      <th>4</th>\n",
       "      <th>5</th>\n",
       "      <th>6</th>\n",
       "      <th>7</th>\n",
       "      <th>8</th>\n",
       "      <th>9</th>\n",
       "    </tr>\n",
       "  </thead>\n",
       "  <tbody>\n",
       "    <tr>\n",
       "      <th>0</th>\n",
       "      <td>0.4875</td>\n",
       "      <td>1.000000</td>\n",
       "      <td>0.569231</td>\n",
       "      <td>0.935484</td>\n",
       "      <td>0.627451</td>\n",
       "      <td>0.752688</td>\n",
       "      <td>0.000000</td>\n",
       "      <td>0.869048</td>\n",
       "      <td>0.076923</td>\n",
       "      <td>0.644737</td>\n",
       "    </tr>\n",
       "    <tr>\n",
       "      <th>1</th>\n",
       "      <td>0.9250</td>\n",
       "      <td>0.673913</td>\n",
       "      <td>0.600000</td>\n",
       "      <td>0.241935</td>\n",
       "      <td>0.235294</td>\n",
       "      <td>0.612903</td>\n",
       "      <td>0.236111</td>\n",
       "      <td>0.476190</td>\n",
       "      <td>1.000000</td>\n",
       "      <td>1.000000</td>\n",
       "    </tr>\n",
       "    <tr>\n",
       "      <th>2</th>\n",
       "      <td>0.9125</td>\n",
       "      <td>0.336957</td>\n",
       "      <td>0.000000</td>\n",
       "      <td>1.000000</td>\n",
       "      <td>0.901961</td>\n",
       "      <td>1.000000</td>\n",
       "      <td>1.000000</td>\n",
       "      <td>0.000000</td>\n",
       "      <td>0.884615</td>\n",
       "      <td>0.000000</td>\n",
       "    </tr>\n",
       "    <tr>\n",
       "      <th>3</th>\n",
       "      <td>1.0000</td>\n",
       "      <td>0.532609</td>\n",
       "      <td>0.184615</td>\n",
       "      <td>0.790323</td>\n",
       "      <td>0.000000</td>\n",
       "      <td>0.000000</td>\n",
       "      <td>0.152778</td>\n",
       "      <td>0.380952</td>\n",
       "      <td>0.602564</td>\n",
       "      <td>0.644737</td>\n",
       "    </tr>\n",
       "    <tr>\n",
       "      <th>4</th>\n",
       "      <td>0.0250</td>\n",
       "      <td>0.228261</td>\n",
       "      <td>0.738462</td>\n",
       "      <td>0.258065</td>\n",
       "      <td>0.921569</td>\n",
       "      <td>0.408602</td>\n",
       "      <td>0.736111</td>\n",
       "      <td>0.190476</td>\n",
       "      <td>0.320513</td>\n",
       "      <td>0.263158</td>\n",
       "    </tr>\n",
       "    <tr>\n",
       "      <th>5</th>\n",
       "      <td>0.2000</td>\n",
       "      <td>0.967391</td>\n",
       "      <td>1.000000</td>\n",
       "      <td>0.645161</td>\n",
       "      <td>0.196078</td>\n",
       "      <td>0.688172</td>\n",
       "      <td>0.291667</td>\n",
       "      <td>0.785714</td>\n",
       "      <td>0.000000</td>\n",
       "      <td>0.328947</td>\n",
       "    </tr>\n",
       "    <tr>\n",
       "      <th>6</th>\n",
       "      <td>0.6500</td>\n",
       "      <td>0.608696</td>\n",
       "      <td>0.184615</td>\n",
       "      <td>0.838710</td>\n",
       "      <td>0.745098</td>\n",
       "      <td>0.408602</td>\n",
       "      <td>0.388889</td>\n",
       "      <td>1.000000</td>\n",
       "      <td>0.256410</td>\n",
       "      <td>0.723684</td>\n",
       "    </tr>\n",
       "    <tr>\n",
       "      <th>7</th>\n",
       "      <td>0.0000</td>\n",
       "      <td>0.000000</td>\n",
       "      <td>0.984615</td>\n",
       "      <td>0.000000</td>\n",
       "      <td>1.000000</td>\n",
       "      <td>0.559140</td>\n",
       "      <td>0.319444</td>\n",
       "      <td>0.571429</td>\n",
       "      <td>0.679487</td>\n",
       "      <td>0.276316</td>\n",
       "    </tr>\n",
       "  </tbody>\n",
       "</table>\n",
       "</div>"
      ],
      "text/plain": [
       "        0         1         2         3         4         5         6  \\\n",
       "0  0.4875  1.000000  0.569231  0.935484  0.627451  0.752688  0.000000   \n",
       "1  0.9250  0.673913  0.600000  0.241935  0.235294  0.612903  0.236111   \n",
       "2  0.9125  0.336957  0.000000  1.000000  0.901961  1.000000  1.000000   \n",
       "3  1.0000  0.532609  0.184615  0.790323  0.000000  0.000000  0.152778   \n",
       "4  0.0250  0.228261  0.738462  0.258065  0.921569  0.408602  0.736111   \n",
       "5  0.2000  0.967391  1.000000  0.645161  0.196078  0.688172  0.291667   \n",
       "6  0.6500  0.608696  0.184615  0.838710  0.745098  0.408602  0.388889   \n",
       "7  0.0000  0.000000  0.984615  0.000000  1.000000  0.559140  0.319444   \n",
       "\n",
       "          7         8         9  \n",
       "0  0.869048  0.076923  0.644737  \n",
       "1  0.476190  1.000000  1.000000  \n",
       "2  0.000000  0.884615  0.000000  \n",
       "3  0.380952  0.602564  0.644737  \n",
       "4  0.190476  0.320513  0.263158  \n",
       "5  0.785714  0.000000  0.328947  \n",
       "6  1.000000  0.256410  0.723684  \n",
       "7  0.571429  0.679487  0.276316  "
      ]
     },
     "execution_count": 117,
     "metadata": {},
     "output_type": "execute_result"
    }
   ],
   "source": [
    "df = pd.DataFrame(np.random.randint(1,100, 80).reshape(8, -1))\n",
    "(df - df.min()) / (df.max() - df.min())"
   ]
  },
  {
   "cell_type": "code",
   "execution_count": 118,
   "metadata": {},
   "outputs": [
    {
     "data": {
      "text/html": [
       "<div>\n",
       "<style scoped>\n",
       "    .dataframe tbody tr th:only-of-type {\n",
       "        vertical-align: middle;\n",
       "    }\n",
       "\n",
       "    .dataframe tbody tr th {\n",
       "        vertical-align: top;\n",
       "    }\n",
       "\n",
       "    .dataframe thead th {\n",
       "        text-align: right;\n",
       "    }\n",
       "</style>\n",
       "<table border=\"1\" class=\"dataframe\">\n",
       "  <thead>\n",
       "    <tr style=\"text-align: right;\">\n",
       "      <th></th>\n",
       "      <th>0</th>\n",
       "      <th>1</th>\n",
       "      <th>2</th>\n",
       "      <th>3</th>\n",
       "      <th>4</th>\n",
       "      <th>5</th>\n",
       "      <th>6</th>\n",
       "      <th>7</th>\n",
       "      <th>8</th>\n",
       "      <th>9</th>\n",
       "    </tr>\n",
       "  </thead>\n",
       "  <tbody>\n",
       "    <tr>\n",
       "      <th>0</th>\n",
       "      <td>54</td>\n",
       "      <td>93</td>\n",
       "      <td>39</td>\n",
       "      <td>86</td>\n",
       "      <td>78</td>\n",
       "      <td>74</td>\n",
       "      <td>2</td>\n",
       "      <td>87</td>\n",
       "      <td>13</td>\n",
       "      <td>53</td>\n",
       "    </tr>\n",
       "    <tr>\n",
       "      <th>1</th>\n",
       "      <td>89</td>\n",
       "      <td>63</td>\n",
       "      <td>41</td>\n",
       "      <td>43</td>\n",
       "      <td>58</td>\n",
       "      <td>61</td>\n",
       "      <td>19</td>\n",
       "      <td>54</td>\n",
       "      <td>85</td>\n",
       "      <td>80</td>\n",
       "    </tr>\n",
       "    <tr>\n",
       "      <th>2</th>\n",
       "      <td>88</td>\n",
       "      <td>32</td>\n",
       "      <td>2</td>\n",
       "      <td>90</td>\n",
       "      <td>92</td>\n",
       "      <td>97</td>\n",
       "      <td>74</td>\n",
       "      <td>14</td>\n",
       "      <td>76</td>\n",
       "      <td>4</td>\n",
       "    </tr>\n",
       "    <tr>\n",
       "      <th>3</th>\n",
       "      <td>95</td>\n",
       "      <td>50</td>\n",
       "      <td>14</td>\n",
       "      <td>77</td>\n",
       "      <td>46</td>\n",
       "      <td>4</td>\n",
       "      <td>13</td>\n",
       "      <td>46</td>\n",
       "      <td>54</td>\n",
       "      <td>53</td>\n",
       "    </tr>\n",
       "    <tr>\n",
       "      <th>4</th>\n",
       "      <td>17</td>\n",
       "      <td>22</td>\n",
       "      <td>50</td>\n",
       "      <td>44</td>\n",
       "      <td>93</td>\n",
       "      <td>42</td>\n",
       "      <td>55</td>\n",
       "      <td>30</td>\n",
       "      <td>32</td>\n",
       "      <td>24</td>\n",
       "    </tr>\n",
       "    <tr>\n",
       "      <th>5</th>\n",
       "      <td>31</td>\n",
       "      <td>90</td>\n",
       "      <td>67</td>\n",
       "      <td>68</td>\n",
       "      <td>56</td>\n",
       "      <td>68</td>\n",
       "      <td>23</td>\n",
       "      <td>80</td>\n",
       "      <td>7</td>\n",
       "      <td>29</td>\n",
       "    </tr>\n",
       "    <tr>\n",
       "      <th>6</th>\n",
       "      <td>67</td>\n",
       "      <td>57</td>\n",
       "      <td>14</td>\n",
       "      <td>80</td>\n",
       "      <td>84</td>\n",
       "      <td>42</td>\n",
       "      <td>30</td>\n",
       "      <td>98</td>\n",
       "      <td>27</td>\n",
       "      <td>59</td>\n",
       "    </tr>\n",
       "    <tr>\n",
       "      <th>7</th>\n",
       "      <td>15</td>\n",
       "      <td>1</td>\n",
       "      <td>66</td>\n",
       "      <td>28</td>\n",
       "      <td>97</td>\n",
       "      <td>56</td>\n",
       "      <td>25</td>\n",
       "      <td>62</td>\n",
       "      <td>60</td>\n",
       "      <td>25</td>\n",
       "    </tr>\n",
       "  </tbody>\n",
       "</table>\n",
       "</div>"
      ],
      "text/plain": [
       "    0   1   2   3   4   5   6   7   8   9\n",
       "0  54  93  39  86  78  74   2  87  13  53\n",
       "1  89  63  41  43  58  61  19  54  85  80\n",
       "2  88  32   2  90  92  97  74  14  76   4\n",
       "3  95  50  14  77  46   4  13  46  54  53\n",
       "4  17  22  50  44  93  42  55  30  32  24\n",
       "5  31  90  67  68  56  68  23  80   7  29\n",
       "6  67  57  14  80  84  42  30  98  27  59\n",
       "7  15   1  66  28  97  56  25  62  60  25"
      ]
     },
     "execution_count": 118,
     "metadata": {},
     "output_type": "execute_result"
    }
   ],
   "source": [
    "df"
   ]
  },
  {
   "cell_type": "code",
   "execution_count": 119,
   "metadata": {},
   "outputs": [],
   "source": [
    "df.iloc[0,0] = np.nan"
   ]
  },
  {
   "cell_type": "code",
   "execution_count": 123,
   "metadata": {},
   "outputs": [],
   "source": [
    "df.fillna(int(54), inplace=True)"
   ]
  },
  {
   "cell_type": "code",
   "execution_count": 125,
   "metadata": {},
   "outputs": [],
   "source": [
    "df[0] = df[0].astype('int')"
   ]
  },
  {
   "cell_type": "code",
   "execution_count": 128,
   "metadata": {},
   "outputs": [
    {
     "data": {
      "text/plain": [
       "(0, 1)    0.490598\n",
       "(1, 2)   -0.480785\n",
       "(2, 3)    0.153309\n",
       "(3, 4)   -0.102945\n",
       "(4, 5)   -0.154263\n",
       "(5, 6)    0.658240\n",
       "(6, 7)    0.036029\n",
       "dtype: float64"
      ]
     },
     "execution_count": 128,
     "metadata": {},
     "output_type": "execute_result"
    }
   ],
   "source": [
    "df = pd.DataFrame(np.random.randint(1,100, 80).reshape(8, -1))\n",
    "dftcorr = df.transpose().corr()\n",
    "pd.Series([dftcorr.iloc[i, i+1] for i in range(df.shape[0]-1)], index=[(i,i+1) for i in range(df.shape[0]-1)])"
   ]
  },
  {
   "cell_type": "code",
   "execution_count": 129,
   "metadata": {},
   "outputs": [
    {
     "data": {
      "text/html": [
       "<div>\n",
       "<style scoped>\n",
       "    .dataframe tbody tr th:only-of-type {\n",
       "        vertical-align: middle;\n",
       "    }\n",
       "\n",
       "    .dataframe tbody tr th {\n",
       "        vertical-align: top;\n",
       "    }\n",
       "\n",
       "    .dataframe thead th {\n",
       "        text-align: right;\n",
       "    }\n",
       "</style>\n",
       "<table border=\"1\" class=\"dataframe\">\n",
       "  <thead>\n",
       "    <tr style=\"text-align: right;\">\n",
       "      <th></th>\n",
       "      <th>0</th>\n",
       "      <th>1</th>\n",
       "      <th>2</th>\n",
       "      <th>3</th>\n",
       "      <th>4</th>\n",
       "      <th>5</th>\n",
       "      <th>6</th>\n",
       "      <th>7</th>\n",
       "    </tr>\n",
       "  </thead>\n",
       "  <tbody>\n",
       "    <tr>\n",
       "      <th>0</th>\n",
       "      <td>1.000000</td>\n",
       "      <td>0.490598</td>\n",
       "      <td>-0.522122</td>\n",
       "      <td>0.055536</td>\n",
       "      <td>0.780896</td>\n",
       "      <td>0.112120</td>\n",
       "      <td>0.103236</td>\n",
       "      <td>0.118816</td>\n",
       "    </tr>\n",
       "    <tr>\n",
       "      <th>1</th>\n",
       "      <td>0.490598</td>\n",
       "      <td>1.000000</td>\n",
       "      <td>-0.480785</td>\n",
       "      <td>0.546206</td>\n",
       "      <td>0.076939</td>\n",
       "      <td>0.291375</td>\n",
       "      <td>0.414099</td>\n",
       "      <td>0.431331</td>\n",
       "    </tr>\n",
       "    <tr>\n",
       "      <th>2</th>\n",
       "      <td>-0.522122</td>\n",
       "      <td>-0.480785</td>\n",
       "      <td>1.000000</td>\n",
       "      <td>0.153309</td>\n",
       "      <td>-0.201117</td>\n",
       "      <td>0.097563</td>\n",
       "      <td>0.065832</td>\n",
       "      <td>-0.122272</td>\n",
       "    </tr>\n",
       "    <tr>\n",
       "      <th>3</th>\n",
       "      <td>0.055536</td>\n",
       "      <td>0.546206</td>\n",
       "      <td>0.153309</td>\n",
       "      <td>1.000000</td>\n",
       "      <td>-0.102945</td>\n",
       "      <td>0.219204</td>\n",
       "      <td>0.288585</td>\n",
       "      <td>0.094418</td>\n",
       "    </tr>\n",
       "    <tr>\n",
       "      <th>4</th>\n",
       "      <td>0.780896</td>\n",
       "      <td>0.076939</td>\n",
       "      <td>-0.201117</td>\n",
       "      <td>-0.102945</td>\n",
       "      <td>1.000000</td>\n",
       "      <td>-0.154263</td>\n",
       "      <td>-0.276447</td>\n",
       "      <td>0.168246</td>\n",
       "    </tr>\n",
       "    <tr>\n",
       "      <th>5</th>\n",
       "      <td>0.112120</td>\n",
       "      <td>0.291375</td>\n",
       "      <td>0.097563</td>\n",
       "      <td>0.219204</td>\n",
       "      <td>-0.154263</td>\n",
       "      <td>1.000000</td>\n",
       "      <td>0.658240</td>\n",
       "      <td>0.066803</td>\n",
       "    </tr>\n",
       "    <tr>\n",
       "      <th>6</th>\n",
       "      <td>0.103236</td>\n",
       "      <td>0.414099</td>\n",
       "      <td>0.065832</td>\n",
       "      <td>0.288585</td>\n",
       "      <td>-0.276447</td>\n",
       "      <td>0.658240</td>\n",
       "      <td>1.000000</td>\n",
       "      <td>0.036029</td>\n",
       "    </tr>\n",
       "    <tr>\n",
       "      <th>7</th>\n",
       "      <td>0.118816</td>\n",
       "      <td>0.431331</td>\n",
       "      <td>-0.122272</td>\n",
       "      <td>0.094418</td>\n",
       "      <td>0.168246</td>\n",
       "      <td>0.066803</td>\n",
       "      <td>0.036029</td>\n",
       "      <td>1.000000</td>\n",
       "    </tr>\n",
       "  </tbody>\n",
       "</table>\n",
       "</div>"
      ],
      "text/plain": [
       "          0         1         2         3         4         5         6  \\\n",
       "0  1.000000  0.490598 -0.522122  0.055536  0.780896  0.112120  0.103236   \n",
       "1  0.490598  1.000000 -0.480785  0.546206  0.076939  0.291375  0.414099   \n",
       "2 -0.522122 -0.480785  1.000000  0.153309 -0.201117  0.097563  0.065832   \n",
       "3  0.055536  0.546206  0.153309  1.000000 -0.102945  0.219204  0.288585   \n",
       "4  0.780896  0.076939 -0.201117 -0.102945  1.000000 -0.154263 -0.276447   \n",
       "5  0.112120  0.291375  0.097563  0.219204 -0.154263  1.000000  0.658240   \n",
       "6  0.103236  0.414099  0.065832  0.288585 -0.276447  0.658240  1.000000   \n",
       "7  0.118816  0.431331 -0.122272  0.094418  0.168246  0.066803  0.036029   \n",
       "\n",
       "          7  \n",
       "0  0.118816  \n",
       "1  0.431331  \n",
       "2 -0.122272  \n",
       "3  0.094418  \n",
       "4  0.168246  \n",
       "5  0.066803  \n",
       "6  0.036029  \n",
       "7  1.000000  "
      ]
     },
     "execution_count": 129,
     "metadata": {},
     "output_type": "execute_result"
    }
   ],
   "source": [
    "dftcorr"
   ]
  },
  {
   "cell_type": "code",
   "execution_count": 130,
   "metadata": {},
   "outputs": [
    {
     "data": {
      "text/html": [
       "<div>\n",
       "<style scoped>\n",
       "    .dataframe tbody tr th:only-of-type {\n",
       "        vertical-align: middle;\n",
       "    }\n",
       "\n",
       "    .dataframe tbody tr th {\n",
       "        vertical-align: top;\n",
       "    }\n",
       "\n",
       "    .dataframe thead th {\n",
       "        text-align: right;\n",
       "    }\n",
       "</style>\n",
       "<table border=\"1\" class=\"dataframe\">\n",
       "  <thead>\n",
       "    <tr style=\"text-align: right;\">\n",
       "      <th></th>\n",
       "      <th>p</th>\n",
       "      <th>q</th>\n",
       "      <th>r</th>\n",
       "    </tr>\n",
       "  </thead>\n",
       "  <tbody>\n",
       "    <tr>\n",
       "      <th>a</th>\n",
       "      <td>0.245758</td>\n",
       "      <td>0.634935</td>\n",
       "      <td>0.712653</td>\n",
       "    </tr>\n",
       "    <tr>\n",
       "      <th>b</th>\n",
       "      <td>0.729423</td>\n",
       "      <td>0.571310</td>\n",
       "      <td>0.187393</td>\n",
       "    </tr>\n",
       "    <tr>\n",
       "      <th>c</th>\n",
       "      <td>0.262333</td>\n",
       "      <td>0.122436</td>\n",
       "      <td>0.640673</td>\n",
       "    </tr>\n",
       "  </tbody>\n",
       "</table>\n",
       "</div>"
      ],
      "text/plain": [
       "          p         q         r\n",
       "a  0.245758  0.634935  0.712653\n",
       "b  0.729423  0.571310  0.187393\n",
       "c  0.262333  0.122436  0.640673"
      ]
     },
     "execution_count": 130,
     "metadata": {},
     "output_type": "execute_result"
    }
   ],
   "source": [
    "pd.DataFrame(np.random.rand(3,3), index=list('abc'), columns=list('pqr'))"
   ]
  },
  {
   "cell_type": "code",
   "execution_count": 133,
   "metadata": {},
   "outputs": [
    {
     "data": {
      "text/html": [
       "<div>\n",
       "<style scoped>\n",
       "    .dataframe tbody tr th:only-of-type {\n",
       "        vertical-align: middle;\n",
       "    }\n",
       "\n",
       "    .dataframe tbody tr th {\n",
       "        vertical-align: top;\n",
       "    }\n",
       "\n",
       "    .dataframe thead th {\n",
       "        text-align: right;\n",
       "    }\n",
       "</style>\n",
       "<table border=\"1\" class=\"dataframe\">\n",
       "  <thead>\n",
       "    <tr style=\"text-align: right;\">\n",
       "      <th></th>\n",
       "      <th>0</th>\n",
       "      <th>1</th>\n",
       "      <th>2</th>\n",
       "      <th>3</th>\n",
       "      <th>4</th>\n",
       "      <th>5</th>\n",
       "      <th>6</th>\n",
       "      <th>7</th>\n",
       "      <th>8</th>\n",
       "      <th>9</th>\n",
       "    </tr>\n",
       "  </thead>\n",
       "  <tbody>\n",
       "    <tr>\n",
       "      <th>0</th>\n",
       "      <td>0</td>\n",
       "      <td>52</td>\n",
       "      <td>15</td>\n",
       "      <td>56</td>\n",
       "      <td>43</td>\n",
       "      <td>16</td>\n",
       "      <td>10</td>\n",
       "      <td>59</td>\n",
       "      <td>40</td>\n",
       "      <td>0</td>\n",
       "    </tr>\n",
       "    <tr>\n",
       "      <th>1</th>\n",
       "      <td>62</td>\n",
       "      <td>0</td>\n",
       "      <td>1</td>\n",
       "      <td>1</td>\n",
       "      <td>9</td>\n",
       "      <td>17</td>\n",
       "      <td>89</td>\n",
       "      <td>55</td>\n",
       "      <td>0</td>\n",
       "      <td>97</td>\n",
       "    </tr>\n",
       "    <tr>\n",
       "      <th>2</th>\n",
       "      <td>33</td>\n",
       "      <td>17</td>\n",
       "      <td>0</td>\n",
       "      <td>84</td>\n",
       "      <td>9</td>\n",
       "      <td>61</td>\n",
       "      <td>21</td>\n",
       "      <td>0</td>\n",
       "      <td>9</td>\n",
       "      <td>94</td>\n",
       "    </tr>\n",
       "    <tr>\n",
       "      <th>3</th>\n",
       "      <td>42</td>\n",
       "      <td>90</td>\n",
       "      <td>3</td>\n",
       "      <td>0</td>\n",
       "      <td>7</td>\n",
       "      <td>14</td>\n",
       "      <td>0</td>\n",
       "      <td>83</td>\n",
       "      <td>66</td>\n",
       "      <td>53</td>\n",
       "    </tr>\n",
       "    <tr>\n",
       "      <th>4</th>\n",
       "      <td>83</td>\n",
       "      <td>91</td>\n",
       "      <td>81</td>\n",
       "      <td>35</td>\n",
       "      <td>0</td>\n",
       "      <td>0</td>\n",
       "      <td>64</td>\n",
       "      <td>36</td>\n",
       "      <td>66</td>\n",
       "      <td>57</td>\n",
       "    </tr>\n",
       "    <tr>\n",
       "      <th>5</th>\n",
       "      <td>87</td>\n",
       "      <td>11</td>\n",
       "      <td>10</td>\n",
       "      <td>18</td>\n",
       "      <td>0</td>\n",
       "      <td>0</td>\n",
       "      <td>57</td>\n",
       "      <td>87</td>\n",
       "      <td>89</td>\n",
       "      <td>66</td>\n",
       "    </tr>\n",
       "    <tr>\n",
       "      <th>6</th>\n",
       "      <td>31</td>\n",
       "      <td>68</td>\n",
       "      <td>64</td>\n",
       "      <td>0</td>\n",
       "      <td>20</td>\n",
       "      <td>28</td>\n",
       "      <td>0</td>\n",
       "      <td>57</td>\n",
       "      <td>98</td>\n",
       "      <td>64</td>\n",
       "    </tr>\n",
       "    <tr>\n",
       "      <th>7</th>\n",
       "      <td>74</td>\n",
       "      <td>95</td>\n",
       "      <td>0</td>\n",
       "      <td>57</td>\n",
       "      <td>6</td>\n",
       "      <td>7</td>\n",
       "      <td>74</td>\n",
       "      <td>0</td>\n",
       "      <td>13</td>\n",
       "      <td>95</td>\n",
       "    </tr>\n",
       "    <tr>\n",
       "      <th>8</th>\n",
       "      <td>17</td>\n",
       "      <td>0</td>\n",
       "      <td>64</td>\n",
       "      <td>56</td>\n",
       "      <td>83</td>\n",
       "      <td>48</td>\n",
       "      <td>46</td>\n",
       "      <td>85</td>\n",
       "      <td>0</td>\n",
       "      <td>90</td>\n",
       "    </tr>\n",
       "    <tr>\n",
       "      <th>9</th>\n",
       "      <td>0</td>\n",
       "      <td>6</td>\n",
       "      <td>64</td>\n",
       "      <td>50</td>\n",
       "      <td>7</td>\n",
       "      <td>60</td>\n",
       "      <td>64</td>\n",
       "      <td>70</td>\n",
       "      <td>68</td>\n",
       "      <td>0</td>\n",
       "    </tr>\n",
       "  </tbody>\n",
       "</table>\n",
       "</div>"
      ],
      "text/plain": [
       "    0   1   2   3   4   5   6   7   8   9\n",
       "0   0  52  15  56  43  16  10  59  40   0\n",
       "1  62   0   1   1   9  17  89  55   0  97\n",
       "2  33  17   0  84   9  61  21   0   9  94\n",
       "3  42  90   3   0   7  14   0  83  66  53\n",
       "4  83  91  81  35   0   0  64  36  66  57\n",
       "5  87  11  10  18   0   0  57  87  89  66\n",
       "6  31  68  64   0  20  28   0  57  98  64\n",
       "7  74  95   0  57   6   7  74   0  13  95\n",
       "8  17   0  64  56  83  48  46  85   0  90\n",
       "9   0   6  64  50   7  60  64  70  68   0"
      ]
     },
     "execution_count": 133,
     "metadata": {},
     "output_type": "execute_result"
    }
   ],
   "source": [
    "df = pd.DataFrame(np.random.randint(1,100, 100).reshape(10, -1))\n",
    "for i in range(df.shape[0]):\n",
    "    df.iloc[i, i] = 0\n",
    "    df.iloc[i, df.shape[1]-1-i] = 0\n",
    "df"
   ]
  },
  {
   "cell_type": "code",
   "execution_count": 138,
   "metadata": {},
   "outputs": [
    {
     "data": {
      "text/html": [
       "<div>\n",
       "<style scoped>\n",
       "    .dataframe tbody tr th:only-of-type {\n",
       "        vertical-align: middle;\n",
       "    }\n",
       "\n",
       "    .dataframe tbody tr th {\n",
       "        vertical-align: top;\n",
       "    }\n",
       "\n",
       "    .dataframe thead th {\n",
       "        text-align: right;\n",
       "    }\n",
       "</style>\n",
       "<table border=\"1\" class=\"dataframe\">\n",
       "  <thead>\n",
       "    <tr style=\"text-align: right;\">\n",
       "      <th></th>\n",
       "      <th>col1</th>\n",
       "      <th>col2</th>\n",
       "      <th>col3</th>\n",
       "    </tr>\n",
       "  </thead>\n",
       "  <tbody>\n",
       "    <tr>\n",
       "      <th>0</th>\n",
       "      <td>apple</td>\n",
       "      <td>0.436779</td>\n",
       "      <td>0</td>\n",
       "    </tr>\n",
       "    <tr>\n",
       "      <th>3</th>\n",
       "      <td>apple</td>\n",
       "      <td>0.513249</td>\n",
       "      <td>13</td>\n",
       "    </tr>\n",
       "    <tr>\n",
       "      <th>6</th>\n",
       "      <td>apple</td>\n",
       "      <td>0.532901</td>\n",
       "      <td>5</td>\n",
       "    </tr>\n",
       "  </tbody>\n",
       "</table>\n",
       "</div>"
      ],
      "text/plain": [
       "    col1      col2  col3\n",
       "0  apple  0.436779     0\n",
       "3  apple  0.513249    13\n",
       "6  apple  0.532901     5"
      ]
     },
     "execution_count": 138,
     "metadata": {},
     "output_type": "execute_result"
    }
   ],
   "source": [
    "df = pd.DataFrame({'col1': ['apple', 'banana', 'orange'] * 3,\n",
    "                   'col2': np.random.rand(9),\n",
    "                   'col3': np.random.randint(0, 15, 9)})\n",
    "\n",
    "df_grouped = df.groupby(by=['col1'])\n",
    "df_grouped.get_group('apple')"
   ]
  },
  {
   "cell_type": "code",
   "execution_count": 139,
   "metadata": {},
   "outputs": [
    {
     "name": "stdout",
     "output_type": "stream",
     "text": [
      "    col1      col2  col3\n",
      "0  apple  0.436779     0\n",
      "3  apple  0.513249    13\n",
      "6  apple  0.532901     5\n"
     ]
    }
   ],
   "source": [
    "for i, x in df_grouped:\n",
    "    if i == 'apple':\n",
    "        print(x)\n",
    "        break"
   ]
  },
  {
   "cell_type": "code",
   "execution_count": 142,
   "metadata": {},
   "outputs": [
    {
     "data": {
      "text/plain": [
       "[0.629676039640626, 0.634205275750773, 0.9084733604074466]"
      ]
     },
     "execution_count": 142,
     "metadata": {},
     "output_type": "execute_result"
    }
   ],
   "source": [
    "df = pd.DataFrame({'fruit': ['apple', 'banana', 'orange'] * 3,\n",
    "                   'rating': np.random.rand(9),\n",
    "                   'price': np.random.randint(0, 15, 9)})\n",
    "sorted(df.groupby('fruit').get_group('banana')['rating'])"
   ]
  },
  {
   "cell_type": "code",
   "execution_count": 145,
   "metadata": {},
   "outputs": [
    {
     "data": {
      "text/plain": [
       "0.634205275750773"
      ]
     },
     "execution_count": 145,
     "metadata": {},
     "output_type": "execute_result"
    }
   ],
   "source": [
    "sorted(df.groupby('fruit').get_group('banana')['rating'])[-2]"
   ]
  },
  {
   "cell_type": "code",
   "execution_count": 147,
   "metadata": {},
   "outputs": [
    {
     "data": {
      "text/html": [
       "<div>\n",
       "<style scoped>\n",
       "    .dataframe tbody tr th:only-of-type {\n",
       "        vertical-align: middle;\n",
       "    }\n",
       "\n",
       "    .dataframe tbody tr th {\n",
       "        vertical-align: top;\n",
       "    }\n",
       "\n",
       "    .dataframe thead th {\n",
       "        text-align: right;\n",
       "    }\n",
       "</style>\n",
       "<table border=\"1\" class=\"dataframe\">\n",
       "  <thead>\n",
       "    <tr style=\"text-align: right;\">\n",
       "      <th></th>\n",
       "      <th>fruit</th>\n",
       "      <th>rating</th>\n",
       "      <th>price</th>\n",
       "    </tr>\n",
       "  </thead>\n",
       "  <tbody>\n",
       "    <tr>\n",
       "      <th>0</th>\n",
       "      <td>apple</td>\n",
       "      <td>0.661695</td>\n",
       "      <td>4.333333</td>\n",
       "    </tr>\n",
       "    <tr>\n",
       "      <th>1</th>\n",
       "      <td>banana</td>\n",
       "      <td>0.770338</td>\n",
       "      <td>2.666667</td>\n",
       "    </tr>\n",
       "    <tr>\n",
       "      <th>2</th>\n",
       "      <td>orange</td>\n",
       "      <td>0.583720</td>\n",
       "      <td>8.000000</td>\n",
       "    </tr>\n",
       "  </tbody>\n",
       "</table>\n",
       "</div>"
      ],
      "text/plain": [
       "    fruit    rating     price\n",
       "0   apple  0.661695  4.333333\n",
       "1  banana  0.770338  2.666667\n",
       "2  orange  0.583720  8.000000"
      ]
     },
     "execution_count": 147,
     "metadata": {},
     "output_type": "execute_result"
    }
   ],
   "source": [
    "df = pd.DataFrame({'fruit': ['apple', 'banana', 'orange'] * 3,\n",
    "                   'rating': np.random.rand(9),\n",
    "                   'price': np.random.randint(0, 15, 9)})\n",
    "df.groupby('fruit').mean().reset_index(drop=False)"
   ]
  },
  {
   "cell_type": "code",
   "execution_count": 154,
   "metadata": {},
   "outputs": [
    {
     "data": {
      "text/html": [
       "<div>\n",
       "<style scoped>\n",
       "    .dataframe tbody tr th:only-of-type {\n",
       "        vertical-align: middle;\n",
       "    }\n",
       "\n",
       "    .dataframe tbody tr th {\n",
       "        vertical-align: top;\n",
       "    }\n",
       "\n",
       "    .dataframe thead th {\n",
       "        text-align: right;\n",
       "    }\n",
       "</style>\n",
       "<table border=\"1\" class=\"dataframe\">\n",
       "  <thead>\n",
       "    <tr style=\"text-align: right;\">\n",
       "      <th></th>\n",
       "      <th>fruit</th>\n",
       "      <th>weight</th>\n",
       "      <th>price</th>\n",
       "    </tr>\n",
       "  </thead>\n",
       "  <tbody>\n",
       "    <tr>\n",
       "      <th>2</th>\n",
       "      <td>banana</td>\n",
       "      <td>low</td>\n",
       "      <td>2</td>\n",
       "    </tr>\n",
       "    <tr>\n",
       "      <th>3</th>\n",
       "      <td>apple</td>\n",
       "      <td>high</td>\n",
       "      <td>3</td>\n",
       "    </tr>\n",
       "    <tr>\n",
       "      <th>4</th>\n",
       "      <td>orange</td>\n",
       "      <td>medium</td>\n",
       "      <td>4</td>\n",
       "    </tr>\n",
       "    <tr>\n",
       "      <th>5</th>\n",
       "      <td>banana</td>\n",
       "      <td>low</td>\n",
       "      <td>5</td>\n",
       "    </tr>\n",
       "    <tr>\n",
       "      <th>6</th>\n",
       "      <td>apple</td>\n",
       "      <td>high</td>\n",
       "      <td>6</td>\n",
       "    </tr>\n",
       "    <tr>\n",
       "      <th>7</th>\n",
       "      <td>orange</td>\n",
       "      <td>medium</td>\n",
       "      <td>7</td>\n",
       "    </tr>\n",
       "    <tr>\n",
       "      <th>8</th>\n",
       "      <td>banana</td>\n",
       "      <td>low</td>\n",
       "      <td>8</td>\n",
       "    </tr>\n",
       "  </tbody>\n",
       "</table>\n",
       "</div>"
      ],
      "text/plain": [
       "    fruit  weight  price\n",
       "2  banana     low      2\n",
       "3   apple    high      3\n",
       "4  orange  medium      4\n",
       "5  banana     low      5\n",
       "6   apple    high      6\n",
       "7  orange  medium      7\n",
       "8  banana     low      8"
      ]
     },
     "execution_count": 154,
     "metadata": {},
     "output_type": "execute_result"
    }
   ],
   "source": [
    "df1 = pd.DataFrame({'fruit': ['apple', 'orange', 'banana'] * 3,\n",
    "                    'weight': ['high', 'medium', 'low'] * 3,\n",
    "                    'price': np.arange(9)})\n",
    "\n",
    "df2 = pd.DataFrame({'fruit': ['apple', 'orange', 'pine'] * 2,\n",
    "                    'weight': ['high', 'medium'] * 3,\n",
    "                    'price': np.arange(6)})\n",
    "df1[~df1.isin(df2).all(axis=1)]"
   ]
  },
  {
   "cell_type": "code",
   "execution_count": 153,
   "metadata": {},
   "outputs": [
    {
     "data": {
      "text/html": [
       "<div>\n",
       "<style scoped>\n",
       "    .dataframe tbody tr th:only-of-type {\n",
       "        vertical-align: middle;\n",
       "    }\n",
       "\n",
       "    .dataframe tbody tr th {\n",
       "        vertical-align: top;\n",
       "    }\n",
       "\n",
       "    .dataframe thead th {\n",
       "        text-align: right;\n",
       "    }\n",
       "</style>\n",
       "<table border=\"1\" class=\"dataframe\">\n",
       "  <thead>\n",
       "    <tr style=\"text-align: right;\">\n",
       "      <th></th>\n",
       "      <th>fruit</th>\n",
       "      <th>weight</th>\n",
       "      <th>price</th>\n",
       "    </tr>\n",
       "  </thead>\n",
       "  <tbody>\n",
       "    <tr>\n",
       "      <th>0</th>\n",
       "      <td>True</td>\n",
       "      <td>True</td>\n",
       "      <td>True</td>\n",
       "    </tr>\n",
       "    <tr>\n",
       "      <th>1</th>\n",
       "      <td>True</td>\n",
       "      <td>True</td>\n",
       "      <td>True</td>\n",
       "    </tr>\n",
       "    <tr>\n",
       "      <th>2</th>\n",
       "      <td>False</td>\n",
       "      <td>False</td>\n",
       "      <td>True</td>\n",
       "    </tr>\n",
       "    <tr>\n",
       "      <th>3</th>\n",
       "      <td>True</td>\n",
       "      <td>False</td>\n",
       "      <td>True</td>\n",
       "    </tr>\n",
       "    <tr>\n",
       "      <th>4</th>\n",
       "      <td>True</td>\n",
       "      <td>False</td>\n",
       "      <td>True</td>\n",
       "    </tr>\n",
       "    <tr>\n",
       "      <th>5</th>\n",
       "      <td>False</td>\n",
       "      <td>False</td>\n",
       "      <td>True</td>\n",
       "    </tr>\n",
       "    <tr>\n",
       "      <th>6</th>\n",
       "      <td>False</td>\n",
       "      <td>False</td>\n",
       "      <td>False</td>\n",
       "    </tr>\n",
       "    <tr>\n",
       "      <th>7</th>\n",
       "      <td>False</td>\n",
       "      <td>False</td>\n",
       "      <td>False</td>\n",
       "    </tr>\n",
       "    <tr>\n",
       "      <th>8</th>\n",
       "      <td>False</td>\n",
       "      <td>False</td>\n",
       "      <td>False</td>\n",
       "    </tr>\n",
       "  </tbody>\n",
       "</table>\n",
       "</div>"
      ],
      "text/plain": [
       "   fruit  weight  price\n",
       "0   True    True   True\n",
       "1   True    True   True\n",
       "2  False   False   True\n",
       "3   True   False   True\n",
       "4   True   False   True\n",
       "5  False   False   True\n",
       "6  False   False  False\n",
       "7  False   False  False\n",
       "8  False   False  False"
      ]
     },
     "execution_count": 153,
     "metadata": {},
     "output_type": "execute_result"
    }
   ],
   "source": [
    "df1.isin(df2)"
   ]
  },
  {
   "cell_type": "code",
   "execution_count": 173,
   "metadata": {},
   "outputs": [
    {
     "data": {
      "text/html": [
       "<div>\n",
       "<style scoped>\n",
       "    .dataframe tbody tr th:only-of-type {\n",
       "        vertical-align: middle;\n",
       "    }\n",
       "\n",
       "    .dataframe tbody tr th {\n",
       "        vertical-align: top;\n",
       "    }\n",
       "\n",
       "    .dataframe thead th {\n",
       "        text-align: right;\n",
       "    }\n",
       "</style>\n",
       "<table border=\"1\" class=\"dataframe\">\n",
       "  <thead>\n",
       "    <tr style=\"text-align: right;\">\n",
       "      <th></th>\n",
       "      <th>0</th>\n",
       "    </tr>\n",
       "  </thead>\n",
       "  <tbody>\n",
       "    <tr>\n",
       "      <th>0</th>\n",
       "      <td>[[STD], [ City    State]]</td>\n",
       "    </tr>\n",
       "    <tr>\n",
       "      <th>1</th>\n",
       "      <td>[[33], [ Kolkata, West Bengal]]</td>\n",
       "    </tr>\n",
       "    <tr>\n",
       "      <th>2</th>\n",
       "      <td>[[44], [ Chennai, Tamil Nadu]]</td>\n",
       "    </tr>\n",
       "    <tr>\n",
       "      <th>3</th>\n",
       "      <td>[[40], [ Hyderabad, Telengana]]</td>\n",
       "    </tr>\n",
       "    <tr>\n",
       "      <th>4</th>\n",
       "      <td>[[80], [ Bangalore, Karnataka]]</td>\n",
       "    </tr>\n",
       "  </tbody>\n",
       "</table>\n",
       "</div>"
      ],
      "text/plain": [
       "                                 0\n",
       "0        [[STD], [ City    State]]\n",
       "1  [[33], [ Kolkata, West Bengal]]\n",
       "2   [[44], [ Chennai, Tamil Nadu]]\n",
       "3  [[40], [ Hyderabad, Telengana]]\n",
       "4  [[80], [ Bangalore, Karnataka]]"
      ]
     },
     "execution_count": 173,
     "metadata": {},
     "output_type": "execute_result"
    }
   ],
   "source": [
    "df = pd.DataFrame([\"STD, City    State\",\n",
    "\"33, Kolkata\\tWest Bengal\",\n",
    "\"44, Chennai\\tTamil Nadu\",\n",
    "\"40, Hyderabad\\tTelengana\",\n",
    "\"80, Bangalore\\tKarnataka\"], columns=['row'])\n",
    "pd.DataFrame(df['row'].apply(lambda x:[y.split('\\t') for y in x.split(',')]).values)"
   ]
  },
  {
   "cell_type": "code",
   "execution_count": 187,
   "metadata": {},
   "outputs": [],
   "source": [
    "import re\n",
    "df = pd.DataFrame([\"STD, City\\tState\",\n",
    "\"33, Kolkata\\tWest Bengal\",\n",
    "\"44, Chennai\\tTamil Nadu\",\n",
    "\"40, Hyderabad\\tTelengana\",\n",
    "\"80, Bangalore\\tKarnataka\"], columns=['row'])\n",
    "df = df['row'].str.split(r'\\t|\\,', expand=True)\n",
    "df.columns = df.loc[0]\n",
    "df.drop([0], inplace=True)"
   ]
  },
  {
   "cell_type": "code",
   "execution_count": 190,
   "metadata": {},
   "outputs": [
    {
     "data": {
      "text/html": [
       "<div>\n",
       "<style scoped>\n",
       "    .dataframe tbody tr th:only-of-type {\n",
       "        vertical-align: middle;\n",
       "    }\n",
       "\n",
       "    .dataframe tbody tr th {\n",
       "        vertical-align: top;\n",
       "    }\n",
       "\n",
       "    .dataframe thead th {\n",
       "        text-align: right;\n",
       "    }\n",
       "</style>\n",
       "<table border=\"1\" class=\"dataframe\">\n",
       "  <thead>\n",
       "    <tr style=\"text-align: right;\">\n",
       "      <th></th>\n",
       "      <th>STD</th>\n",
       "      <th>City</th>\n",
       "      <th>State</th>\n",
       "    </tr>\n",
       "  </thead>\n",
       "  <tbody>\n",
       "    <tr>\n",
       "      <th>2</th>\n",
       "      <td>44</td>\n",
       "      <td>Chennai</td>\n",
       "      <td>Tamil Nadu</td>\n",
       "    </tr>\n",
       "    <tr>\n",
       "      <th>3</th>\n",
       "      <td>40</td>\n",
       "      <td>Hyderabad</td>\n",
       "      <td>Telengana</td>\n",
       "    </tr>\n",
       "    <tr>\n",
       "      <th>4</th>\n",
       "      <td>80</td>\n",
       "      <td>Bangalore</td>\n",
       "      <td>Karnataka</td>\n",
       "    </tr>\n",
       "  </tbody>\n",
       "</table>\n",
       "</div>"
      ],
      "text/plain": [
       "0 STD        City       State\n",
       "2  44     Chennai  Tamil Nadu\n",
       "3  40   Hyderabad   Telengana\n",
       "4  80   Bangalore   Karnataka"
      ]
     },
     "execution_count": 190,
     "metadata": {},
     "output_type": "execute_result"
    }
   ],
   "source": [
    "df.drop(1)"
   ]
  },
  {
   "cell_type": "code",
   "execution_count": 193,
   "metadata": {},
   "outputs": [
    {
     "data": {
      "text/plain": [
       "Counter({1: 3, 4: 5, 8: 5, 7: 1, 2: 1, 6: 1, 5: 2, 9: 1, 3: 1})"
      ]
     },
     "execution_count": 193,
     "metadata": {},
     "output_type": "execute_result"
    }
   ],
   "source": [
    "df = pd.DataFrame(np.random.randint(1, 10, 20).reshape(-1, 4), columns = list('abcd'))\n",
    "Counter(df.values.reshape(-1).tolist())"
   ]
  },
  {
   "cell_type": "code",
   "execution_count": 195,
   "metadata": {},
   "outputs": [],
   "source": [
    "df['a_lag'] = df['a'].loc[1:]"
   ]
  },
  {
   "cell_type": "code",
   "execution_count": 208,
   "metadata": {},
   "outputs": [],
   "source": [
    "df['b_lag'] = df['b'].loc[:3]"
   ]
  },
  {
   "cell_type": "code",
   "execution_count": 207,
   "metadata": {},
   "outputs": [],
   "source": [
    "del df['b_lag']"
   ]
  },
  {
   "cell_type": "code",
   "execution_count": 209,
   "metadata": {},
   "outputs": [
    {
     "data": {
      "text/html": [
       "<div>\n",
       "<style scoped>\n",
       "    .dataframe tbody tr th:only-of-type {\n",
       "        vertical-align: middle;\n",
       "    }\n",
       "\n",
       "    .dataframe tbody tr th {\n",
       "        vertical-align: top;\n",
       "    }\n",
       "\n",
       "    .dataframe thead th {\n",
       "        text-align: right;\n",
       "    }\n",
       "</style>\n",
       "<table border=\"1\" class=\"dataframe\">\n",
       "  <thead>\n",
       "    <tr style=\"text-align: right;\">\n",
       "      <th></th>\n",
       "      <th>a</th>\n",
       "      <th>b</th>\n",
       "      <th>c</th>\n",
       "      <th>d</th>\n",
       "      <th>a_lag</th>\n",
       "      <th>b_lag</th>\n",
       "    </tr>\n",
       "  </thead>\n",
       "  <tbody>\n",
       "    <tr>\n",
       "      <th>0</th>\n",
       "      <td>1</td>\n",
       "      <td>4</td>\n",
       "      <td>1</td>\n",
       "      <td>4</td>\n",
       "      <td>NaN</td>\n",
       "      <td>4.0</td>\n",
       "    </tr>\n",
       "    <tr>\n",
       "      <th>1</th>\n",
       "      <td>1</td>\n",
       "      <td>8</td>\n",
       "      <td>8</td>\n",
       "      <td>8</td>\n",
       "      <td>1.0</td>\n",
       "      <td>8.0</td>\n",
       "    </tr>\n",
       "    <tr>\n",
       "      <th>2</th>\n",
       "      <td>7</td>\n",
       "      <td>8</td>\n",
       "      <td>2</td>\n",
       "      <td>4</td>\n",
       "      <td>7.0</td>\n",
       "      <td>8.0</td>\n",
       "    </tr>\n",
       "    <tr>\n",
       "      <th>3</th>\n",
       "      <td>6</td>\n",
       "      <td>4</td>\n",
       "      <td>5</td>\n",
       "      <td>8</td>\n",
       "      <td>6.0</td>\n",
       "      <td>4.0</td>\n",
       "    </tr>\n",
       "    <tr>\n",
       "      <th>4</th>\n",
       "      <td>9</td>\n",
       "      <td>5</td>\n",
       "      <td>3</td>\n",
       "      <td>4</td>\n",
       "      <td>9.0</td>\n",
       "      <td>NaN</td>\n",
       "    </tr>\n",
       "  </tbody>\n",
       "</table>\n",
       "</div>"
      ],
      "text/plain": [
       "   a  b  c  d  a_lag  b_lag\n",
       "0  1  4  1  4    NaN    4.0\n",
       "1  1  8  8  8    1.0    8.0\n",
       "2  7  8  2  4    7.0    8.0\n",
       "3  6  4  5  8    6.0    4.0\n",
       "4  9  5  3  4    9.0    NaN"
      ]
     },
     "execution_count": 209,
     "metadata": {},
     "output_type": "execute_result"
    }
   ],
   "source": [
    "df"
   ]
  },
  {
   "cell_type": "code",
   "execution_count": 210,
   "metadata": {},
   "outputs": [
    {
     "data": {
      "text/html": [
       "<div>\n",
       "<style scoped>\n",
       "    .dataframe tbody tr th:only-of-type {\n",
       "        vertical-align: middle;\n",
       "    }\n",
       "\n",
       "    .dataframe tbody tr th {\n",
       "        vertical-align: top;\n",
       "    }\n",
       "\n",
       "    .dataframe thead th {\n",
       "        text-align: right;\n",
       "    }\n",
       "</style>\n",
       "<table border=\"1\" class=\"dataframe\">\n",
       "  <thead>\n",
       "    <tr style=\"text-align: right;\">\n",
       "      <th></th>\n",
       "      <th>fruit1</th>\n",
       "      <th>fruit2</th>\n",
       "    </tr>\n",
       "  </thead>\n",
       "  <tbody>\n",
       "    <tr>\n",
       "      <th>0</th>\n",
       "      <td>orange</td>\n",
       "      <td>orange</td>\n",
       "    </tr>\n",
       "    <tr>\n",
       "      <th>2</th>\n",
       "      <td>orange</td>\n",
       "      <td>orange</td>\n",
       "    </tr>\n",
       "    <tr>\n",
       "      <th>5</th>\n",
       "      <td>banana</td>\n",
       "      <td>banana</td>\n",
       "    </tr>\n",
       "    <tr>\n",
       "      <th>7</th>\n",
       "      <td>orange</td>\n",
       "      <td>orange</td>\n",
       "    </tr>\n",
       "  </tbody>\n",
       "</table>\n",
       "</div>"
      ],
      "text/plain": [
       "   fruit1  fruit2\n",
       "0  orange  orange\n",
       "2  orange  orange\n",
       "5  banana  banana\n",
       "7  orange  orange"
      ]
     },
     "execution_count": 210,
     "metadata": {},
     "output_type": "execute_result"
    }
   ],
   "source": [
    "df = pd.DataFrame({'fruit1': np.random.choice(['apple', 'orange', 'banana'], 10),\n",
    "                    'fruit2': np.random.choice(['apple', 'orange', 'banana'], 10)})\n",
    "df[df['fruit1']==df['fruit2']]"
   ]
  },
  {
   "cell_type": "code",
   "execution_count": 211,
   "metadata": {},
   "outputs": [
    {
     "data": {
      "text/html": [
       "<div>\n",
       "<style scoped>\n",
       "    .dataframe tbody tr th:only-of-type {\n",
       "        vertical-align: middle;\n",
       "    }\n",
       "\n",
       "    .dataframe tbody tr th {\n",
       "        vertical-align: top;\n",
       "    }\n",
       "\n",
       "    .dataframe thead th {\n",
       "        text-align: right;\n",
       "    }\n",
       "</style>\n",
       "<table border=\"1\" class=\"dataframe\">\n",
       "  <thead>\n",
       "    <tr style=\"text-align: right;\">\n",
       "      <th></th>\n",
       "      <th>fruit1</th>\n",
       "      <th>fruit2</th>\n",
       "    </tr>\n",
       "  </thead>\n",
       "  <tbody>\n",
       "    <tr>\n",
       "      <th>0</th>\n",
       "      <td>orange</td>\n",
       "      <td>orange</td>\n",
       "    </tr>\n",
       "    <tr>\n",
       "      <th>1</th>\n",
       "      <td>orange</td>\n",
       "      <td>apple</td>\n",
       "    </tr>\n",
       "    <tr>\n",
       "      <th>2</th>\n",
       "      <td>orange</td>\n",
       "      <td>orange</td>\n",
       "    </tr>\n",
       "    <tr>\n",
       "      <th>3</th>\n",
       "      <td>orange</td>\n",
       "      <td>apple</td>\n",
       "    </tr>\n",
       "    <tr>\n",
       "      <th>4</th>\n",
       "      <td>banana</td>\n",
       "      <td>orange</td>\n",
       "    </tr>\n",
       "    <tr>\n",
       "      <th>5</th>\n",
       "      <td>banana</td>\n",
       "      <td>banana</td>\n",
       "    </tr>\n",
       "    <tr>\n",
       "      <th>6</th>\n",
       "      <td>banana</td>\n",
       "      <td>orange</td>\n",
       "    </tr>\n",
       "    <tr>\n",
       "      <th>7</th>\n",
       "      <td>orange</td>\n",
       "      <td>orange</td>\n",
       "    </tr>\n",
       "    <tr>\n",
       "      <th>8</th>\n",
       "      <td>banana</td>\n",
       "      <td>apple</td>\n",
       "    </tr>\n",
       "    <tr>\n",
       "      <th>9</th>\n",
       "      <td>banana</td>\n",
       "      <td>apple</td>\n",
       "    </tr>\n",
       "  </tbody>\n",
       "</table>\n",
       "</div>"
      ],
      "text/plain": [
       "   fruit1  fruit2\n",
       "0  orange  orange\n",
       "1  orange   apple\n",
       "2  orange  orange\n",
       "3  orange   apple\n",
       "4  banana  orange\n",
       "5  banana  banana\n",
       "6  banana  orange\n",
       "7  orange  orange\n",
       "8  banana   apple\n",
       "9  banana   apple"
      ]
     },
     "execution_count": 211,
     "metadata": {},
     "output_type": "execute_result"
    }
   ],
   "source": [
    "df"
   ]
  },
  {
   "cell_type": "code",
   "execution_count": 30,
   "metadata": {},
   "outputs": [
    {
     "data": {
      "text/plain": [
       "<matplotlib.legend.Legend at 0x210aacca808>"
      ]
     },
     "execution_count": 30,
     "metadata": {},
     "output_type": "execute_result"
    },
    {
     "data": {
      "image/png": "[encoded data removed]",
      "text/plain": [
       "<Figure size 432x288 with 1 Axes>"
      ]
     },
     "metadata": {
      "needs_background": "light"
     },
     "output_type": "display_data"
    }
   ],
   "source": [
    "import pandas as pd\n",
    "df = pd.read_csv('../Fall2020LectureNotes/histogram3cyclictestlab4.txt', sep='\\s', skiprows=1, skipfooter=11, engine='python', header=None)\n",
    "df.drop(columns=[0], inplace=True)\n",
    "df.head()\n",
    "p = df.plot(xlim=[0,100], title='Cyclictest with 4 threads: 300000 loops')\n",
    "p.set_xlabel('Time (nanoseconds)')\n",
    "p.set_ylabel('Counts')\n",
    "p.legend(['Thread 1', 'Thread 2', 'Thread 3', 'Thread 4'])\n"
   ]
  },
  {
   "cell_type": "code",
   "execution_count": 35,
   "metadata": {},
   "outputs": [
    {
     "data": {
      "text/plain": [
       "<matplotlib.legend.Legend at 0x210aae80e48>"
      ]
     },
     "execution_count": 35,
     "metadata": {},
     "output_type": "execute_result"
    },
    {
     "data": {
      "image/png": "[encoded data removed]",
      "text/plain": [
       "<Figure size 432x288 with 1 Axes>"
      ]
     },
     "metadata": {
      "needs_background": "light"
     },
     "output_type": "display_data"
    }
   ],
   "source": [
    "import pandas as pd\n",
    "df = pd.read_csv('../Fall2020LectureNotes/histogram3cyclictestlab4_coresbusy.txt', sep='\\s', skiprows=8, skipfooter=14, engine='python', header=None)\n",
    "df.drop(columns=[0], inplace=True)\n",
    "df.head()\n",
    "p = df.plot(xlim=[0,100], title='Cyclictest with 4 threads: 300000 loops')\n",
    "p.set_xlabel('Time (nanoseconds)')\n",
    "p.set_ylabel('Counts')\n",
    "p.legend(['Thread 1', 'Thread 2', 'Thread 3', 'Thread 4'])"
   ]
  },
  {
   "cell_type": "code",
   "execution_count": 17,
   "metadata": {},
   "outputs": [],
   "source": [
    "import numpy as np\n",
    "A = np.random.randn(30) + 1\n",
    "B = np.random.randn(20)"
   ]
  },
  {
   "cell_type": "code",
   "execution_count": 18,
   "metadata": {},
   "outputs": [
    {
     "name": "stdout",
     "output_type": "stream",
     "text": [
      "p value (2 sided) is 0.00696\n"
     ]
    }
   ],
   "source": [
    "\n",
    "nA = len(A)\n",
    "diff = np.mean(A) - np.mean(B)\n",
    "rand_diffs = []\n",
    "for i in range(100000):\n",
    "    xp = np.random.permutation(np.hstack([A,B]))\n",
    "    rand_diffs.append(np.mean(xp[:nA]) - np.mean(xp[nA:]))\n",
    "\n",
    "rand_diffs = np.array(rand_diffs)\n",
    "print(\"p value (2 sided) is {}\".format(len(rand_diffs[abs(rand_diffs) > diff]) / len(rand_diffs)))\n"
   ]
  },
  {
   "cell_type": "code",
   "execution_count": 19,
   "metadata": {},
   "outputs": [
    {
     "data": {
      "text/plain": [
       "0.020599648055245997"
      ]
     },
     "execution_count": 19,
     "metadata": {},
     "output_type": "execute_result"
    }
   ],
   "source": [
    "2.58* np.sqrt((0.15*0.85)/2000)"
   ]
  },
  {
   "cell_type": "code",
   "execution_count": 20,
   "metadata": {},
   "outputs": [
    {
     "data": {
      "text/plain": [
       "-0.028928474040117697"
      ]
     },
     "execution_count": 20,
     "metadata": {},
     "output_type": "execute_result"
    }
   ],
   "source": [
    "974/10072 - 1242/9886"
   ]
  },
  {
   "cell_type": "code",
   "execution_count": 22,
   "metadata": {},
   "outputs": [
    {
     "data": {
      "text/plain": [
       "0.005596802740247507"
      ]
     },
     "execution_count": 22,
     "metadata": {},
     "output_type": "execute_result"
    }
   ],
   "source": [
    "1.96 * 0.5/np.sqrt(30660)"
   ]
  },
  {
   "cell_type": "code",
   "execution_count": 23,
   "metadata": {},
   "outputs": [
    {
     "data": {
      "text/plain": [
       "0.500587084148728"
      ]
     },
     "execution_count": 23,
     "metadata": {},
     "output_type": "execute_result"
    }
   ],
   "source": [
    "15348/30660"
   ]
  },
  {
   "cell_type": "code",
   "execution_count": 25,
   "metadata": {},
   "outputs": [
    {
     "data": {
      "text/plain": [
       "0.4012630607616213"
      ]
     },
     "execution_count": 25,
     "metadata": {},
     "output_type": "execute_result"
    }
   ],
   "source": [
    "1-0.95**10"
   ]
  },
  {
   "cell_type": "code",
   "execution_count": 27,
   "metadata": {},
   "outputs": [
    {
     "data": {
      "text/plain": [
       "0.09561792499119559"
      ]
     },
     "execution_count": 27,
     "metadata": {},
     "output_type": "execute_result"
    }
   ],
   "source": [
    "1-0.99**10"
   ]
  },
  {
   "cell_type": "code",
   "execution_count": 2,
   "metadata": {},
   "outputs": [
    {
     "data": {
      "text/plain": [
       "0.0006892024376045111"
      ]
     },
     "execution_count": 2,
     "metadata": {},
     "output_type": "execute_result"
    }
   ],
   "source": [
    "import numpy as np\n",
    "np.sqrt(0.05*0.95/25000)"
   ]
  },
  {
   "cell_type": "code",
   "execution_count": null,
   "metadata": {},
   "outputs": [],
   "source": []
  }
 ],
 "metadata": {
  "kernelspec": {
   "display_name": "Python 3",
   "language": "python",
   "name": "python3"
  },
  "language_info": {
   "codemirror_mode": {
    "name": "ipython",
    "version": 3
   },
   "file_extension": ".py",
   "mimetype": "text/x-python",
   "name": "python",
   "nbconvert_exporter": "python",
   "pygments_lexer": "ipython3",
   "version": "3.7.6"
  }
 },
 "nbformat": 4,
 "nbformat_minor": 4
}
