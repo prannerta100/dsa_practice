{
 "cells": [
  {
   "cell_type": "markdown",
   "metadata": {},
   "source": [
    "#### median of 2 sorted arrays in O(log min($n_1,n_2$)) time"
   ]
  },
  {
   "cell_type": "code",
   "execution_count": 4,
   "metadata": {},
   "outputs": [],
   "source": [
    "def median(a1, a2):\n",
    "    if not a1 or not a2:\n",
    "        \n",
    "    \n",
    "    if len(a1) > len(a2):\n",
    "        tmp = a1[:]\n",
    "        a1 = a2[:]\n",
    "        a2 = tmp[:]\n",
    "    num_med = (len(a1) + len(a2)) // 2 + 1\n",
    "    \n",
    "    if len(a2) >= num_med and a2[num_med-1] <= a1[0]:\n",
    "        if num_med % 2 == 0:\n",
    "            return a2[num_med-1] + a2[num_med-2]\n",
    "        return a2[num_med-1]\n",
    "    "
   ]
  },
  {
   "cell_type": "markdown",
   "metadata": {},
   "source": [
    "#### knapsack 0-1"
   ]
  },
  {
   "cell_type": "code",
   "execution_count": 6,
   "metadata": {},
   "outputs": [],
   "source": [
    "def maxWeight(w,v,W):\n",
    "    if not w:\n",
    "        return 0\n",
    "    if len(w) != len(v):\n",
    "        return 0\n",
    "    opt = [0] * (W+1)\n",
    "    for wt in range(1,W+1):\n",
    "        tmp = 0\n",
    "        for i in range(len(w)):\n",
    "            if w[i] <= wt:\n",
    "                tmp = max(tmp, v[i] + opt[wt-w[i]])\n",
    "        opt[wt] = tmp\n",
    "    return opt[W]"
   ]
  },
  {
   "cell_type": "markdown",
   "metadata": {},
   "source": [
    "#### matrix product"
   ]
  },
  {
   "cell_type": "code",
   "execution_count": 2,
   "metadata": {},
   "outputs": [
    {
     "data": {
      "text/plain": [
       "1080"
      ]
     },
     "execution_count": 2,
     "metadata": {},
     "output_type": "execute_result"
    }
   ],
   "source": [
    "def maxProd(matrix):\n",
    "    m = len(matrix)\n",
    "    if m == 0:\n",
    "        return 0\n",
    "    n = len(matrix[0])\n",
    "    if n == 0:\n",
    "        return 0\n",
    "    bestprod = [None] * m\n",
    "    worstprod = [None] * m\n",
    "    \n",
    "    tmp = [0] * n\n",
    "    for i in range(m):\n",
    "        bestprod[i] = tmp[:]\n",
    "        worstprod[i] = tmp[:]\n",
    "    \n",
    "    prod = 1\n",
    "    for j in range(n):\n",
    "        prod *= matrix[0][j]\n",
    "        bestprod[0][j] = prod\n",
    "        worstprod[0][j] = prod\n",
    "        \n",
    "    prod = 1\n",
    "    for i in range(m):\n",
    "        prod *= matrix[i][0]\n",
    "        bestprod[i][0] = prod\n",
    "        worstprod[i][0] = prod\n",
    "    \n",
    "    for i in range(1,m):\n",
    "        for j in range(1,n):\n",
    "            bestprod[i][j] = max(matrix[i][j]*bestprod[i][j-1], matrix[i][j]*bestprod[i-1][j], matrix[i][j]*worstprod[i][j-1], matrix[i][j]*worstprod[i-1][j])\n",
    "            worstprod[i][j] = min(matrix[i][j]*bestprod[i][j-1], matrix[i][j]*bestprod[i-1][j], matrix[i][j]*worstprod[i][j-1], matrix[i][j]*worstprod[i-1][j])\n",
    "    return bestprod[m-1][n-1]\n",
    "\n",
    "maxProd([[-1,2,3],[4,5,-6],[7,8,9]])"
   ]
  },
  {
   "cell_type": "markdown",
   "metadata": {},
   "source": [
    "#### merge 2 arrays no extra memory"
   ]
  },
  {
   "cell_type": "code",
   "execution_count": 26,
   "metadata": {},
   "outputs": [],
   "source": [
    "def mergexspace(A, B): #assuming A is the big array\n",
    "    if not A:\n",
    "        return []\n",
    "    if not B:\n",
    "        return A\n",
    "    m = len(A) - len(B)\n",
    "    n = len(B)\n",
    "    x = m+n-1\n",
    "    i = m-1\n",
    "    j = n-1\n",
    "    while i >= 0 and j >= 0:\n",
    "        if A[i] > B[j]:\n",
    "            A[x] = A[i]\n",
    "            i -= 1\n",
    "        else:\n",
    "            A[x] = B[j]\n",
    "            j -= 1\n",
    "        x -= 1\n",
    "    if i == -1:\n",
    "        for k in range(j+1):\n",
    "            A[k] = B[k]\n",
    "        \n",
    "    return A\n",
    "        "
   ]
  },
  {
   "cell_type": "code",
   "execution_count": 31,
   "metadata": {
    "scrolled": true
   },
   "outputs": [
    {
     "data": {
      "text/plain": [
       "[-1, 0, 1, 3, 4, 7]"
      ]
     },
     "execution_count": 31,
     "metadata": {},
     "output_type": "execute_result"
    }
   ],
   "source": [
    "mergexspace([0,1,7,0,0,0],[-1,3,4])"
   ]
  },
  {
   "cell_type": "markdown",
   "metadata": {},
   "source": [
    "#### all permutations w/ dups"
   ]
  },
  {
   "cell_type": "code",
   "execution_count": 9,
   "metadata": {},
   "outputs": [],
   "source": [
    "def allPerm(x): #not good enough! Get rid of sets!\n",
    "    def helper(x):\n",
    "        if not x:\n",
    "            return x\n",
    "        if len(x) == 1:\n",
    "            return [x]\n",
    "        else:\n",
    "            prev = helper(x[1:])\n",
    "            ans = []\n",
    "            for y in prev:\n",
    "                i = 0\n",
    "                while True:\n",
    "                    while i < len(y) and y[i] == x[0]:\n",
    "                        i += 1\n",
    "                    if i == len(y) :\n",
    "                        tmp = y[:]\n",
    "                        tmp.append(x[0])\n",
    "                        ans.append(tmp)\n",
    "                        break\n",
    "                    if i < len(y):\n",
    "                        ans.append(y[:i] + [x[0]] + y[i:])\n",
    "                        i += 1\n",
    "            return ans\n",
    "    ans = helper(x)\n",
    "    ans_set = set()\n",
    "    for x in ans:\n",
    "        ans_set.add(str(x))\n",
    "    return ans_set\n",
    "                "
   ]
  },
  {
   "cell_type": "code",
   "execution_count": 12,
   "metadata": {},
   "outputs": [
    {
     "data": {
      "text/plain": [
       "30"
      ]
     },
     "execution_count": 12,
     "metadata": {},
     "output_type": "execute_result"
    }
   ],
   "source": [
    "from collections import Counter\n",
    "a = [1,3,4]\n",
    "len(allPerm([1,4,3,3,4]))"
   ]
  },
  {
   "cell_type": "code",
   "execution_count": 1,
   "metadata": {},
   "outputs": [
    {
     "data": {
      "text/plain": [
       "7"
      ]
     },
     "execution_count": 1,
     "metadata": {},
     "output_type": "execute_result"
    }
   ],
   "source": [
    "max(3,4,5,7)"
   ]
  },
  {
   "cell_type": "code",
   "execution_count": null,
   "metadata": {},
   "outputs": [],
   "source": []
  }
 ],
 "metadata": {
  "kernelspec": {
   "display_name": "Python 3",
   "language": "python",
   "name": "python3"
  },
  "language_info": {
   "codemirror_mode": {
    "name": "ipython",
    "version": 3
   },
   "file_extension": ".py",
   "mimetype": "text/x-python",
   "name": "python",
   "nbconvert_exporter": "python",
   "pygments_lexer": "ipython3",
   "version": "3.7.6"
  }
 },
 "nbformat": 4,
 "nbformat_minor": 4
}
